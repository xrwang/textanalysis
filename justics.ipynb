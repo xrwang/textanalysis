{
 "cells": [
  {
   "cell_type": "code",
   "execution_count": 24,
   "metadata": {},
   "outputs": [
    {
     "name": "stdout",
     "output_type": "stream",
     "text": [
      "0\n",
      "Creating new text file\n",
      "1\n",
      "Creating new text file\n",
      "2\n",
      "Creating new text file\n",
      "3\n",
      "Creating new text file\n",
      "4\n",
      "Creating new text file\n",
      "5\n",
      "Creating new text file\n",
      "6\n",
      "Creating new text file\n",
      "7\n",
      "Creating new text file\n",
      "8\n",
      "Creating new text file\n",
      "9\n",
      "Creating new text file\n",
      "10\n",
      "Creating new text file\n",
      "11\n",
      "Creating new text file\n",
      "12\n",
      "Creating new text file\n",
      "13\n",
      "Creating new text file\n",
      "14\n",
      "Creating new text file\n",
      "15\n",
      "Creating new text file\n",
      "16\n",
      "Creating new text file\n",
      "17\n",
      "Creating new text file\n",
      "18\n",
      "Creating new text file\n",
      "19\n",
      "Creating new text file\n",
      "20\n",
      "Creating new text file\n",
      "21\n",
      "Creating new text file\n",
      "22\n",
      "Creating new text file\n",
      "23\n",
      "Creating new text file\n",
      "24\n",
      "Creating new text file\n",
      "25\n",
      "Creating new text file\n",
      "26\n",
      "Creating new text file\n",
      "27\n",
      "Creating new text file\n",
      "28\n",
      "Creating new text file\n",
      "29\n",
      "Creating new text file\n",
      "30\n",
      "Creating new text file\n",
      "31\n",
      "Creating new text file\n",
      "32\n",
      "Creating new text file\n",
      "33\n",
      "Creating new text file\n",
      "34\n",
      "Creating new text file\n",
      "35\n",
      "Creating new text file\n"
     ]
    }
   ],
   "source": [
    "import os\n",
    "import sys\n",
    "from pdfminer.pdfinterp import PDFResourceManager, PDFPageInterpreter\n",
    "from pdfminer.pdfpage import PDFPage\n",
    "from pdfminer.converter import XMLConverter, HTMLConverter, TextConverter\n",
    "from pdfminer.layout import LAParams\n",
    "import io\n",
    "import numpy as np \n",
    "import sklearn.feature_extraction.text as text\n",
    "from sklearn import decomposition\n",
    "\n",
    "\n",
    "PDF_PATH = os.path.join('data', 'justice','pdfs')\n",
    "PDF_NAMES = os.listdir(PDF_PATH)\n",
    "CORPUS_PATH = os.path.join('data','justice','txt')\n",
    "\n",
    "# CORPUS_PATH = os.path.join('data', 'austen-brontë-split')\n",
    "# print(PDF_PATH)\n",
    "# print(PDF_NAMES)\n",
    "# print(CORPUS_PATH)\n",
    "\n",
    "#make a list of pdf files names\n",
    "#go through each of them and write them to the same directory as a text file \n",
    "\n",
    "pdffilenames = sorted([os.path.join(PDF_PATH, fn) for fn in os.listdir(PDF_PATH)])\n",
    "# print(pdffilenames)\n",
    "\n",
    "\n",
    "def pdfparser(data):\n",
    "\n",
    "    fp = open(data, 'rb')\n",
    "    rsrcmgr = PDFResourceManager()\n",
    "    retstr = io.StringIO()\n",
    "    codec = 'utf-8'\n",
    "    laparams = LAParams()\n",
    "    device = TextConverter(rsrcmgr, retstr, codec=codec, laparams=laparams)\n",
    "    # Create a PDF interpreter object.\n",
    "    interpreter = PDFPageInterpreter(rsrcmgr, device)\n",
    "    # Process each page contained in the document.\n",
    "\n",
    "    for page in PDFPage.get_pages(fp):\n",
    "        interpreter.process_page(page)\n",
    "        data =  retstr.getvalue()\n",
    "\n",
    "#     print(data)\n",
    "    return data\n",
    "\n",
    "# if __name__ == '__main__':\n",
    "# pdfparser(CORPUS_PATH)  \n",
    "\n",
    "\n",
    "def pdfConverter(arrayOfFullFileNames, arrayOfPDFNames, destPath):\n",
    "    for i in range(len(arrayOfFullFileNames)):\n",
    "        print(i)\n",
    "        print('Creating new text file') \n",
    "        if not str(arrayOfPDFNames[i]).startswith('.'):\n",
    "            name = arrayOfPDFNames[i] + str(i) + '.txt'\n",
    "#             print(name)\n",
    "            try:\n",
    "                content = pdfparser(arrayOfFullFileNames[i])\n",
    "                contenttwo = str(content)\n",
    "                finalFile = os.path.join('data','justice','raw', name)\n",
    "#                 print(finalFile)\n",
    "                file = open(finalFile,'w')\n",
    "#                 print(file)\n",
    "                file.write(str(contenttwo))\n",
    "                file.close()\n",
    "            except:\n",
    "                print('Something went wrong! Can\\'t tell what?')\n",
    "                sys.exit(0) # quit Python\n",
    "        \n",
    "        \n",
    "pdfConverter(pdffilenames,PDF_NAMES,CORPUS_PATH) \n"
   ]
  },
  {
   "cell_type": "code",
   "execution_count": 8,
   "metadata": {},
   "outputs": [],
   "source": [
    "#now delete dot files from that directory for cleanup\n",
    "# arrayOfFiles = \n",
    "# textFiles = sorted([os.path.join(CORPUS_PATH, fn) for fn in os.listdir(CORPUS_PATH)])\n",
    "\n",
    "# for i in range(len(textFiles)):\n",
    "#     print(textFiles)\n",
    "#     print(i)\n",
    "#     print(textFiles[i])\n",
    "#     if not str(textFiles[i]).startswith('.'):\n",
    "#         print(i)\n",
    "#         print(textFiles[i])\n",
    "    #   filenames = sorted([os.path.join(CORPUS_PATH, fn) for fn in os.listdir(CORPUS_PATH)])"
   ]
  },
  {
   "cell_type": "code",
   "execution_count": 26,
   "metadata": {},
   "outputs": [
    {
     "name": "stdout",
     "output_type": "stream",
     "text": [
      "['data/justice/txt/17-0001 (Child Custody Trial by Jury V2)_1.pdf1.txt', 'data/justice/txt/17-0002 (Legislature Reform)_0.pdf2.txt', 'data/justice/txt/17-0003 (Gender Identity)_0.pdf3.txt', 'data/justice/txt/17-0004 (Repeal Gas Tax)_0.pdf4.txt', 'data/justice/txt/17-0005 (Sovereign CA)_0.pdf5.txt', 'data/justice/txt/17-0006 (Elderly Parole)_0.pdf6.txt', 'data/justice/txt/17-0007 (Water Bond).pdf7.txt', 'data/justice/txt/17-0008 (Abortion).pdf8.txt', 'data/justice/txt/17-0009 (Youth Parole Hearings).pdf9.txt', 'data/justice/txt/17-0010 (Water Bond).pdf10.txt', 'data/justice/txt/17-0011 (Property Tax V1).pdf11.txt', 'data/justice/txt/17-0012 (Property Tax V2).pdf12.txt', 'data/justice/txt/17-0013 (Property Tax V3).pdf13.txt', 'data/justice/txt/17-0014 (Dialysis Clinic Pricing)_0.pdf14.txt', 'data/justice/txt/17-0015 (Dialysis Clinic Care)_0.pdf15.txt', 'data/justice/txt/17-0016 (ABA Model Rules)_1.pdf16.txt', 'data/justice/txt/17-0017 (Constitutional Convention)_1.pdf17.txt', 'data/justice/txt/17-0018 (Three Californias)_1.pdf18.txt', 'data/justice/txt/17-0019 (Healthcare Roadblock Removal).pdf19.txt', 'data/justice/txt/17-0020 (Top Two Primary)_0.pdf20.txt', 'data/justice/txt/17-0021 (Teacher Recruitment and Funding)_3.pdf21.txt', 'data/justice/txt/17-0022 (Law Enforcement Officer Criminal Prosecutions)_0.pdf22.txt', 'data/justice/txt/17-0023 (Voting Rights).pdf23.txt', 'data/justice/txt/17-0024 (Legalize Psilocybin)_0.pdf24.txt', 'data/justice/txt/17-0025 (UC Online)_1.pdf1.txt', 'data/justice/txt/17-0025 (UC Online)_1.pdf25.txt', 'data/justice/txt/17-0026 (Animal Cruelty)_0.pdf26.txt', 'data/justice/txt/17-0027 (Consumer Privacy).pdf27.txt', 'data/justice/txt/17-0028 (Education Taxes)_0.pdf28.txt', 'data/justice/txt/17-0029 (Resident Taxes)_0.pdf29.txt', 'data/justice/txt/17-0030 (Education)_0.pdf2.txt', 'data/justice/txt/17-0030 (Education)_0.pdf30.txt', 'data/justice/txt/17-0031 (California Economic Rights)_0.pdf3.txt', 'data/justice/txt/17-0031 (California Economic Rights)_0.pdf31.txt', 'data/justice/txt/17-0032 (Tax Credits).pdf32.txt', 'data/justice/txt/17-0032 (Tax Credits).pdf4.txt', 'data/justice/txt/17-0033 (Gas and Car Tax)_0.pdf33.txt', 'data/justice/txt/17-0033 (Gas and Car Tax)_0.pdf5.txt', 'data/justice/txt/17-0034 (Tax and Bond Revenue).pdf34.txt', 'data/justice/txt/17-0034 (Tax and Bond Revenue).pdf6.txt', 'data/justice/txt/17-0034 (Tax and Bond Revenue)_0.pdf35.txt', 'data/justice/txt/17-0034 (Tax and Bond Revenue)_0.pdf7.txt']\n"
     ]
    }
   ],
   "source": [
    "filenames = sorted([os.path.join(CORPUS_PATH, fn) for fn in os.listdir(CORPUS_PATH)])\n",
    "print(filenames)"
   ]
  },
  {
   "cell_type": "code",
   "execution_count": 27,
   "metadata": {
    "collapsed": true
   },
   "outputs": [],
   "source": [
    "vectorizer = text.CountVectorizer(input='filename', stop_words='english', min_df=1)"
   ]
  },
  {
   "cell_type": "code",
   "execution_count": 28,
   "metadata": {},
   "outputs": [
    {
     "name": "stdout",
     "output_type": "stream",
     "text": [
      "['00' '000' '0002' ..., 'zones' 'zz' 'µd']\n"
     ]
    }
   ],
   "source": [
    "# print(filenames)\n",
    "dtm = vectorizer.fit_transform(filenames).toarray()\n",
    "# print(dtm)\n",
    "vocab = np.array(vectorizer.get_feature_names())\n",
    "print(vocab)"
   ]
  },
  {
   "cell_type": "code",
   "execution_count": 29,
   "metadata": {},
   "outputs": [
    {
     "name": "stdout",
     "output_type": "stream",
     "text": [
      "9900\n",
      "CountVectorizer(analyzer='word', binary=False, decode_error='strict',\n",
      "        dtype=<class 'numpy.int64'>, encoding='utf-8', input='filename',\n",
      "        lowercase=True, max_df=1.0, max_features=None, min_df=1,\n",
      "        ngram_range=(1, 1), preprocessor=None, stop_words='english',\n",
      "        strip_accents=None, token_pattern='(?u)\\\\b\\\\w\\\\w+\\\\b',\n",
      "        tokenizer=None, vocabulary=None)\n",
      "[[0 0 0 ..., 0 0 0]\n",
      " [1 4 2 ..., 0 0 0]\n",
      " [0 1 0 ..., 0 0 0]\n",
      " ..., \n",
      " [0 1 0 ..., 0 0 0]\n",
      " [0 1 0 ..., 0 0 0]\n",
      " [0 1 0 ..., 0 0 0]]\n"
     ]
    }
   ],
   "source": [
    "print(len(vocab))\n",
    "print(vectorizer)\n",
    "print(dtm)"
   ]
  },
  {
   "cell_type": "code",
   "execution_count": 30,
   "metadata": {},
   "outputs": [
    {
     "data": {
      "text/plain": [
       "(42, 9900)"
      ]
     },
     "execution_count": 30,
     "metadata": {},
     "output_type": "execute_result"
    }
   ],
   "source": [
    "dtm.shape"
   ]
  },
  {
   "cell_type": "code",
   "execution_count": 31,
   "metadata": {
    "collapsed": true
   },
   "outputs": [],
   "source": [
    "num_topics = 20\n",
    "num_top_words = 20\n",
    "clf = decomposition.NMF(n_components=num_topics, random_state=1)"
   ]
  },
  {
   "cell_type": "code",
   "execution_count": 35,
   "metadata": {
    "collapsed": true
   },
   "outputs": [],
   "source": [
    "doctopic = clf.fit_transform(dtm)"
   ]
  },
  {
   "cell_type": "code",
   "execution_count": 39,
   "metadata": {},
   "outputs": [
    {
     "name": "stdout",
     "output_type": "stream",
     "text": [
      "[['section', 'shall', 'person', 'vehicle', 'department', '17', 'code', '10', 'pursuant', 'subdivision', 'program', 'violation', 'date', 'fee', '21', 'page', 'rn', '09940', '05', 'court'], ['water', '000', 'shall', 'section', 'projects', 'pursuant', 'funds', 'division', 'million', 'dollars', 'state', 'public', 'resources', 'conservation', 'habitat', 'wildlife', 'restoration', 'chapter', 'code', 'communities'], ['property', 'replacement', 'value', 'section', 'original', 'dwelling', 'year', 'shall', 'base', 'subdivision', 'claimant', 'person', 'paragraph', 'date', 'transfer', 'constructed', 'purchased', 'county', 'newly', 'land'], ['shall', 'section', 'pursuant', 'subdivision', 'state', 'code', 'vehicle', 'tax', 'transportation', 'department', 'year', 'program', 'funds', 'fuel', 'fiscal', 'county', 'fund', 'revenue', 'revenues', 'account'], ['information', 'consumer', 'personal', 'business', '1798', 'purposes', 'shall', 'commercial', 'act', 'section', 'california', 'privacy', 'code', 'attorney', 'including', 'consumers', 'civil', 'sell', 'subdivision', 'general'], ['available', 'shall', 'natural', 'park', '000', 'sum', 'allocated', 'access', 'resources', 'coastal', 'percent', 'drinking', 'safe', 'communities', 'department', 'climate', 'health', 'community', 'parks', 'open'], ['agency', 'water', 'appropriated', 'fund', 'organization', 'division', 'local', 'public', 'chapter', 'groundwater', 'fish', 'tribe', 'cost', 'department', 'nonprofit', 'project', 'agencies', 'shall', 'costs', 'indian'], ['california', 'states', 'state', 'united', 'government', 'federal', 'commission', 'californians', 'shall', 'section', 'ofthe', 'autonomy', 'constitution', 'independence', 'article', 'dollars', 'page', '8851', 'negotiations', 'people'], ['uco', 'shall', 'student', 'california', 'state', 'president', 'course', 'university', 'means', 'online', 'division', 'students', 'cost', 'tuition', 'credit', 'courses', 'ii', 'uc', 'regents', 'public'], ['shall', 'section', 'elections', 'person', 'vote', 'felony', 'state', 'act', 'conviction', 'parole', 'affiant', 'registration', 'ballot', 'code', 'amended', 'voter', 'registered', 'right', 'california', 'official'], ['shall', 'neighborhood', 'assembly', 'legislature', 'section', 'working', 'senate', 'state', 'members', 'act', 'districts', 'california', 'district', 'representatives', 'elected', 'year', 'measure', 'pursuant', 'election', 'committee'], ['meat', 'animal', 'means', 'section', 'egg', 'california', 'act', 'covered', 'food', 'veal', 'shall', 'pig', 'floor', 'hens', 'laying', 'space', 'business', 'chapter', 'manner', 'products'], ['california', 'state', 'natural', 'local', 'given', 'states', 'nature', 'government', 'federal', 'rights', 'constitutional', 'people', 'convention', 'life', 'protect', 'community', 'health', 'healthy', 'shall', 'article'], ['parole', 'shall', 'section', 'youth', 'offender', 'board', 'hearing', 'prisoner', '17', 'subdivision', 'pursuant', 'release', 'hearings', 'paragraph', 'general', 'act', 'years', 'life', 'individual', 'initiative'], ['government', 'california', 'education', 'section', 'schools', 'shall', 'pay', 'children', 'parents', 'act', 'court', 'initiative', 'article', 'attorney', 'creator', 'general', 'school', 'slavery', 'ix', 'purpose'], ['credit', 'tax', 'section', 'act', 'shall', 'california', 'renters', 'homeowners', 'year', 'provisions', 'homeowner', 'housing', 'state', 'increase', 'sacramento', 'legislature', '2018', 'jarvis', 'howard', 'renter'], ['initiative', 'california', 'measure', 'state', 'general', 'office', 'attorney', 'proposed', 'law', '17', 'coordinator', 'title', 'summary', 'voters', '2017', 'ca', 'circulating', 'constitution', 'section', 'code'], ['dialysis', 'shall', 'chronic', 'governing', 'entity', 'clinic', 'patient', 'department', 'care', 'ofthe', 'health', 'california', 'section', 'costs', 'year', 'act', 'clinics', 'fiscal', 'treatment', 'patients'], ['shall', 'clinic', 'dialysis', 'chronic', 'section', 'department', 'ofthe', 'patient', 'code', 'care', 'violation', 'health', 'means', 'patients', 'pursuant', 'hemodialysis', 'penalty', 'nurse', 'subdivision', 'provided'], ['california', 'section', 'healthcare', 'state', 'fund', 'shall', 'trust', 'healthy', 'act', 'funds', 'constitution', 'federal', 'californians', 'government', 'article', 'general', 'provisions', 'initiative', 'measure', 'legislature']]\n"
     ]
    }
   ],
   "source": [
    "topic_words = []\n",
    "for topic in clf.components_:\n",
    "    word_idx = np.argsort(topic)[::-1][0:num_top_words]\n",
    "    topic_words.append([vocab[i] for i in word_idx])\n",
    "\n",
    "print(topic_words)"
   ]
  },
  {
   "cell_type": "code",
   "execution_count": 40,
   "metadata": {},
   "outputs": [],
   "source": [
    "doctopic = doctopic / np.sum(doctopic, axis=1, keepdims=True)"
   ]
  },
  {
   "cell_type": "code",
   "execution_count": 45,
   "metadata": {},
   "outputs": [
    {
     "name": "stdout",
     "output_type": "stream",
     "text": [
      "['17-0001 (Child Custody Trial by Jury V2)_1.pdf', '17-0002 (Legislature Reform)_0.pdf', '17-0003 (Gender Identity)_0.pdf', '17-0004 (Repeal Gas Tax)_0.pdf', '17-0005 (Sovereign CA)_0.pdf', '17-0006 (Elderly Parole)_0.pdf', '17-0007 (Water Bond).pdf', '17-0008 (Abortion).pdf', '17-0009 (Youth Parole Hearings).pdf', '17-0010 (Water Bond).pdf', '17-0011 (Property Tax V1).pdf', '17-0012 (Property Tax V2).pdf', '17-0013 (Property Tax V3).pdf', '17-0014 (Dialysis Clinic Pricing)_0.pdf', '17-0015 (Dialysis Clinic Care)_0.pdf', '17-0016 (ABA Model Rules)_1.pdf', '17-0017 (Constitutional Convention)_1.pdf', '17-0018 (Three Californias)_1.pdf', '17-0019 (Healthcare Roadblock Removal).pdf', '17-0020 (Top Two Primary)_0.pdf', '17-0021 (Teacher Recruitment and Funding)_3.pdf', '17-0022 (Law Enforcement Officer Criminal Prosecutions)_0.pdf', '17-0023 (Voting Rights).pdf', '17-0024 (Legalize Psilocybin)_0.pdf', '17-0025 (UC Online)_1.pdf', '17-0025 (UC Online)_1.pdf', '17-0026 (Animal Cruelty)_0.pdf', '17-0027 (Consumer Privacy).pdf', '17-0028 (Education Taxes)_0.pdf', '17-0029 (Resident Taxes)_0.pdf', '17-0030 (Education)_0.pdf', '17-0030 (Education)_0.pdf', '17-0031 (California Economic Rights)_0.pdf', '17-0031 (California Economic Rights)_0.pdf', '17-0032 (Tax Credits).pdf', '17-0032 (Tax Credits).pdf', '17-0033 (Gas and Car Tax)_0.pdf', '17-0033 (Gas and Car Tax)_0.pdf', '17-0034 (Tax and Bond Revenue).pdf', '17-0034 (Tax and Bond Revenue).pdf', '17-0034 (Tax and Bond Revenue)_0.pdf', '17-0034 (Tax and Bond Revenue)_0.pdf']\n"
     ]
    }
   ],
   "source": [
    "document_names = [] \n",
    "\n",
    "for fn in filenames:\n",
    "    basename = os.path.basename(fn)\n",
    "    name, ext = os.path.splitext(basename)\n",
    "    name = name.rstrip('0123456789')\n",
    "    document_names.append(name)\n",
    "print(document_names)"
   ]
  },
  {
   "cell_type": "code",
   "execution_count": 54,
   "metadata": {},
   "outputs": [
    {
     "name": "stdout",
     "output_type": "stream",
     "text": [
      "17-0001 (Child Custody Trial by Jury V2)_1.pdf: 19 18 1\n",
      "0\n",
      "19 18 1\n",
      "17-0002 (Legislature Reform)_0.pdf: 10 13 18\n",
      "1\n",
      "10 13 18\n",
      "17-0003 (Gender Identity)_0.pdf: 16 9 10\n",
      "2\n",
      "16 9 10\n",
      "17-0004 (Repeal Gas Tax)_0.pdf: 3 5 12\n",
      "3\n",
      "3 5 12\n",
      "17-0005 (Sovereign CA)_0.pdf: 7 13 14\n",
      "4\n",
      "7 13 14\n",
      "17-0006 (Elderly Parole)_0.pdf: 13 16 9\n",
      "5\n",
      "13 16 9\n",
      "17-0007 (Water Bond).pdf: 1 5 19\n",
      "6\n",
      "1 5 19\n",
      "17-0008 (Abortion).pdf: 16 9 11\n",
      "7\n",
      "16 9 11\n",
      "17-0009 (Youth Parole Hearings).pdf: 13 19 7\n",
      "8\n",
      "13 19 7\n",
      "17-0010 (Water Bond).pdf: 1 6 19\n",
      "9\n",
      "1 6 19\n",
      "17-0011 (Property Tax V1).pdf: 2 15 19\n",
      "10\n",
      "2 15 19\n",
      "17-0012 (Property Tax V2).pdf: 2 13 3\n",
      "11\n",
      "2 13 3\n",
      "17-0013 (Property Tax V3).pdf: 2 9 5\n",
      "12\n",
      "2 9 5\n",
      "17-0014 (Dialysis Clinic Pricing)_0.pdf: 17 16 14\n",
      "13\n",
      "17 16 14\n",
      "17-0015 (Dialysis Clinic Care)_0.pdf: 18 17 7\n",
      "14\n",
      "18 17 7\n",
      "17-0016 (ABA Model Rules)_1.pdf: 16 13 18\n",
      "15\n",
      "16 13 18\n",
      "17-0017 (Constitutional Convention)_1.pdf: 12 14 19\n",
      "16\n",
      "12 14 19\n",
      "17-0018 (Three Californias)_1.pdf: 16 19 7\n",
      "17\n",
      "16 19 7\n",
      "17-0019 (Healthcare Roadblock Removal).pdf: 19 14 0\n",
      "18\n",
      "19 14 0\n",
      "17-0020 (Top Two Primary)_0.pdf: 16 13 8\n",
      "19\n",
      "16 13 8\n",
      "17-0021 (Teacher Recruitment and Funding)_3.pdf: 16 19 14\n",
      "20\n",
      "16 19 14\n",
      "17-0022 (Law Enforcement Officer Criminal Prosecutions)_0.pdf: 16 6 5\n",
      "21\n",
      "16 6 5\n",
      "17-0023 (Voting Rights).pdf: 9 13 8\n",
      "22\n",
      "9 13 8\n",
      "17-0024 (Legalize Psilocybin)_0.pdf: 16 7 11\n",
      "23\n",
      "16 7 11\n",
      "17-0025 (UC Online)_1.pdf: 8 19 18\n",
      "24\n",
      "8 19 18\n",
      "17-0026 (Animal Cruelty)_0.pdf: 8 19 18\n",
      "25\n",
      "8 19 18\n",
      "17-0027 (Consumer Privacy).pdf: 11 10 19\n",
      "26\n",
      "11 10 19\n",
      "17-0028 (Education Taxes)_0.pdf: 4 12 0\n",
      "27\n",
      "4 12 0\n",
      "17-0029 (Resident Taxes)_0.pdf: 14 8 19\n",
      "28\n",
      "14 8 19\n",
      "17-0030 (Education)_0.pdf: 14 16 7\n",
      "29\n",
      "14 16 7\n",
      "17-0031 (California Economic Rights)_0.pdf: 14 19 9\n",
      "30\n",
      "14 19 9\n",
      "17-0032 (Tax Credits).pdf: 14 19 9\n",
      "31\n",
      "14 19 9\n",
      "17-0033 (Gas and Car Tax)_0.pdf: 0 4 3\n",
      "32\n",
      "0 4 3\n",
      "17-0034 (Tax and Bond Revenue).pdf: 0 4 3\n",
      "33\n",
      "0 4 3\n",
      "17-0034 (Tax and Bond Revenue)_0.pdf: 15 13 5\n",
      "34\n",
      "15 13 5\n"
     ]
    },
    {
     "ename": "IndexError",
     "evalue": "list index out of range",
     "output_type": "error",
     "traceback": [
      "\u001b[0;31m---------------------------------------------------------------------------\u001b[0m",
      "\u001b[0;31mIndexError\u001b[0m                                Traceback (most recent call last)",
      "\u001b[0;32m<ipython-input-54-aadcd71fb5ac>\u001b[0m in \u001b[0;36m<module>\u001b[0;34m()\u001b[0m\n\u001b[1;32m     19\u001b[0m     \u001b[0mtop_topics\u001b[0m \u001b[0;34m=\u001b[0m \u001b[0mnp\u001b[0m\u001b[0;34m.\u001b[0m\u001b[0margsort\u001b[0m\u001b[0;34m(\u001b[0m\u001b[0mdoctopic\u001b[0m\u001b[0;34m[\u001b[0m\u001b[0mi\u001b[0m\u001b[0;34m,\u001b[0m\u001b[0;34m:\u001b[0m\u001b[0;34m]\u001b[0m\u001b[0;34m)\u001b[0m\u001b[0;34m[\u001b[0m\u001b[0;34m:\u001b[0m\u001b[0;34m:\u001b[0m\u001b[0;34m-\u001b[0m\u001b[0;36m1\u001b[0m\u001b[0;34m]\u001b[0m\u001b[0;34m[\u001b[0m\u001b[0;36m0\u001b[0m\u001b[0;34m:\u001b[0m\u001b[0;36m3\u001b[0m\u001b[0;34m]\u001b[0m\u001b[0;34m\u001b[0m\u001b[0m\n\u001b[1;32m     20\u001b[0m     \u001b[0mtop_topics_str\u001b[0m \u001b[0;34m=\u001b[0m \u001b[0;34m' '\u001b[0m\u001b[0;34m.\u001b[0m\u001b[0mjoin\u001b[0m\u001b[0;34m(\u001b[0m\u001b[0mstr\u001b[0m\u001b[0;34m(\u001b[0m\u001b[0mt\u001b[0m\u001b[0;34m)\u001b[0m \u001b[0;32mfor\u001b[0m \u001b[0mt\u001b[0m \u001b[0;32min\u001b[0m \u001b[0mtop_topics\u001b[0m\u001b[0;34m)\u001b[0m\u001b[0;34m\u001b[0m\u001b[0m\n\u001b[0;32m---> 21\u001b[0;31m     \u001b[0mprint\u001b[0m\u001b[0;34m(\u001b[0m\u001b[0;34m\"{}: {}\"\u001b[0m\u001b[0;34m.\u001b[0m\u001b[0mformat\u001b[0m\u001b[0;34m(\u001b[0m\u001b[0mdocuments\u001b[0m\u001b[0;34m[\u001b[0m\u001b[0mi\u001b[0m\u001b[0;34m]\u001b[0m\u001b[0;34m,\u001b[0m \u001b[0mtop_topics_str\u001b[0m\u001b[0;34m)\u001b[0m\u001b[0;34m)\u001b[0m\u001b[0;34m\u001b[0m\u001b[0m\n\u001b[0m\u001b[1;32m     22\u001b[0m     \u001b[0mprint\u001b[0m\u001b[0;34m(\u001b[0m\u001b[0mi\u001b[0m\u001b[0;34m)\u001b[0m\u001b[0;34m\u001b[0m\u001b[0m\n\u001b[1;32m     23\u001b[0m     \u001b[0mprint\u001b[0m\u001b[0;34m(\u001b[0m\u001b[0mtop_topics_str\u001b[0m\u001b[0;34m)\u001b[0m\u001b[0;34m\u001b[0m\u001b[0m\n",
      "\u001b[0;31mIndexError\u001b[0m: list index out of range"
     ]
    }
   ],
   "source": [
    "document_names = np.asarray(document_names)\n",
    "doctopic_orig = doctopic.copy()\n",
    "num_groups = len(set(document_names))\n",
    "# print(num_groups)\n",
    "# print(doctopic.copy)\n",
    "doctopic_grouped = np.zeros((num_groups, num_topics))\n",
    "\n",
    "# print(doctopic_grouped)\n",
    "\n",
    "# for i, name in enumerate(sorted(set(document_names))):\n",
    "#     doctopic_grouped[i, :] = np.mean(doctopic[document_names == name, :], axis=0)\n",
    "\n",
    "#     doctopic = doctopic_grouped\n",
    "\n",
    "documents = sorted(set(document_names))\n",
    "# print(documents)\n",
    "# print(doctopic)\n",
    "for i in range(len(doctopic)):\n",
    "    top_topics = np.argsort(doctopic[i,:])[::-1][0:3]\n",
    "    top_topics_str = ' '.join(str(t) for t in top_topics)\n",
    "    print(\"{}: {}\".format(documents[i], top_topics_str))\n",
    "    print(i)\n",
    "    print(top_topics_str)"
   ]
  },
  {
   "cell_type": "code",
   "execution_count": 48,
   "metadata": {},
   "outputs": [
    {
     "name": "stdout",
     "output_type": "stream",
     "text": [
      "Topic 0: section shall person vehicle department 17 code 10 pursuant subdivision program violation date fee 21\n",
      "Topic 1: water 000 shall section projects pursuant funds division million dollars state public resources conservation habitat\n",
      "Topic 2: property replacement value section original dwelling year shall base subdivision claimant person paragraph date transfer\n",
      "Topic 3: shall section pursuant subdivision state code vehicle tax transportation department year program funds fuel fiscal\n",
      "Topic 4: information consumer personal business 1798 purposes shall commercial act section california privacy code attorney including\n",
      "Topic 5: available shall natural park 000 sum allocated access resources coastal percent drinking safe communities department\n",
      "Topic 6: agency water appropriated fund organization division local public chapter groundwater fish tribe cost department nonprofit\n",
      "Topic 7: california states state united government federal commission californians shall section ofthe autonomy constitution independence article\n",
      "Topic 8: uco shall student california state president course university means online division students cost tuition credit\n",
      "Topic 9: shall section elections person vote felony state act conviction parole affiant registration ballot code amended\n",
      "Topic 10: shall neighborhood assembly legislature section working senate state members act districts california district representatives elected\n",
      "Topic 11: meat animal means section egg california act covered food veal shall pig floor hens laying\n",
      "Topic 12: california state natural local given states nature government federal rights constitutional people convention life protect\n",
      "Topic 13: parole shall section youth offender board hearing prisoner 17 subdivision pursuant release hearings paragraph general\n",
      "Topic 14: government california education section schools shall pay children parents act court initiative article attorney creator\n",
      "Topic 15: credit tax section act shall california renters homeowners year provisions homeowner housing state increase sacramento\n",
      "Topic 16: initiative california measure state general office attorney proposed law 17 coordinator title summary voters 2017\n",
      "Topic 17: dialysis shall chronic governing entity clinic patient department care ofthe health california section costs year\n",
      "Topic 18: shall clinic dialysis chronic section department ofthe patient code care violation health means patients pursuant\n",
      "Topic 19: california section healthcare state fund shall trust healthy act funds constitution federal californians government article\n"
     ]
    }
   ],
   "source": [
    "for t in range(len(topic_words)):\n",
    "    print(\"Topic {}: {}\".format(t, ' '.join(topic_words[t][:15])))"
   ]
  },
  {
   "cell_type": "code",
   "execution_count": null,
   "metadata": {
    "collapsed": true
   },
   "outputs": [],
   "source": []
  },
  {
   "cell_type": "code",
   "execution_count": null,
   "metadata": {
    "collapsed": true
   },
   "outputs": [],
   "source": []
  }
 ],
 "metadata": {
  "kernelspec": {
   "display_name": "Python 3",
   "language": "python",
   "name": "python3"
  },
  "language_info": {
   "codemirror_mode": {
    "name": "ipython",
    "version": 3
   },
   "file_extension": ".py",
   "mimetype": "text/x-python",
   "name": "python",
   "nbconvert_exporter": "python",
   "pygments_lexer": "ipython3",
   "version": "3.6.1"
  }
 },
 "nbformat": 4,
 "nbformat_minor": 2
}
