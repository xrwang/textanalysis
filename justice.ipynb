{
 "cells": [
  {
   "cell_type": "code",
   "execution_count": 2,
   "metadata": {},
   "outputs": [],
   "source": [
    "import os\n",
    "import sys\n",
    "from collections import Counter\n",
    "import numpy as np\n",
    "import matplotlib.pyplot as plt\n",
    "from pylab import *\n",
    "from pdfminer.pdfinterp import PDFResourceManager, PDFPageInterpreter\n",
    "from pdfminer.pdfpage import PDFPage\n",
    "from pdfminer.converter import XMLConverter, HTMLConverter, TextConverter\n",
    "from pdfminer.layout import LAParams\n",
    "import io\n",
    "import numpy as np \n",
    "import sklearn.feature_extraction.text as text\n",
    "from sklearn.feature_extraction.text import TfidfVectorizer, CountVectorizer\n",
    "from sklearn import decomposition\n",
    "from sklearn.decomposition import NMF, LatentDirichletAllocation\n",
    "\n",
    "\n",
    "\n",
    "PDF_PATH = os.path.join('data', 'justice','pdfs')\n",
    "PDF_NAMES = os.listdir(PDF_PATH)\n",
    "CORPUS_PATH = os.path.join('data','justice','txt')\n",
    "\n",
    "# CORPUS_PATH = os.path.join('data', 'austen-brontë-split')\n",
    "# print(PDF_PATH)\n",
    "# print(PDF_NAMES)\n",
    "# print(CORPUS_PATH)\n",
    "\n",
    "#make a list of pdf files names\n",
    "#go through each of them and write them to the same directory as a text file \n",
    "\n",
    "pdffilenames = sorted([os.path.join(PDF_PATH, fn) for fn in os.listdir(PDF_PATH)])\n",
    "# print(pdffilenames)\n",
    "\n",
    "\n",
    "def pdfparser(data):\n",
    "\n",
    "    fp = open(data, 'rb')\n",
    "    rsrcmgr = PDFResourceManager()\n",
    "    retstr = io.StringIO()\n",
    "    codec = 'utf-8'\n",
    "    laparams = LAParams()\n",
    "    device = TextConverter(rsrcmgr, retstr, codec=codec, laparams=laparams)\n",
    "    # Create a PDF interpreter object.\n",
    "    interpreter = PDFPageInterpreter(rsrcmgr, device)\n",
    "    # Process each page contained in the document.\n",
    "\n",
    "    for page in PDFPage.get_pages(fp):\n",
    "        interpreter.process_page(page)\n",
    "        data =  retstr.getvalue()\n",
    "\n",
    "#     print(data)\n",
    "    return data\n",
    "\n",
    "# if __name__ == '__main__':\n",
    "# pdfparser(CORPUS_PATH)  \n",
    "\n",
    "\n",
    "def pdfConverter(arrayOfFullFileNames, arrayOfPDFNames, destPath):\n",
    "    for i in range(len(arrayOfFullFileNames)):\n",
    "#         print(i)\n",
    "#         print('Creating new text file') \n",
    "        if not str(arrayOfPDFNames[i]).startswith('.'):\n",
    "            name = arrayOfPDFNames[i] + str(i) + '.txt'\n",
    "#             print(name)\n",
    "            try:\n",
    "                content = pdfparser(arrayOfFullFileNames[i])\n",
    "                contenttwo = str(content)\n",
    "                finalFile = os.path.join('data','justice','raw', name)\n",
    "#                 print(finalFile)\n",
    "                file = open(finalFile,'w')\n",
    "#                 print(file)\n",
    "                file.write(str(contenttwo))\n",
    "                file.close()\n",
    "            except:\n",
    "                print('Something went wrong! Can\\'t tell what?')\n",
    "                sys.exit(0) # quit Python\n",
    "        \n",
    "        \n",
    "pdfConverter(pdffilenames,PDF_NAMES,CORPUS_PATH) \n"
   ]
  },
  {
   "cell_type": "code",
   "execution_count": 3,
   "metadata": {
    "collapsed": true
   },
   "outputs": [],
   "source": [
    "#now delete dot files from that directory for cleanup\n",
    "# arrayOfFiles = \n",
    "# textFiles = sorted([os.path.join(CORPUS_PATH, fn) for fn in os.listdir(CORPUS_PATH)])\n",
    "\n",
    "# for i in range(len(textFiles)):\n",
    "#     print(textFiles)\n",
    "#     print(i)\n",
    "#     print(textFiles[i])\n",
    "#     if not str(textFiles[i]).startswith('.'):\n",
    "#         print(i)\n",
    "#         print(textFiles[i])\n",
    "    #   filenames = sorted([os.path.join(CORPUS_PATH, fn) for fn in os.listdir(CORPUS_PATH)])"
   ]
  },
  {
   "cell_type": "code",
   "execution_count": 4,
   "metadata": {
    "collapsed": true
   },
   "outputs": [],
   "source": [
    "filenames = sorted([os.path.join(CORPUS_PATH, fn) for fn in os.listdir(CORPUS_PATH)])\n",
    "# print(filenames)\n",
    "# print(len(filenames))"
   ]
  },
  {
   "cell_type": "code",
   "execution_count": 5,
   "metadata": {
    "collapsed": true
   },
   "outputs": [],
   "source": [
    "vectorizer = text.CountVectorizer(input='filename', stop_words='english', min_df=5, max_df = 0.85)"
   ]
  },
  {
   "cell_type": "code",
   "execution_count": 6,
   "metadata": {
    "collapsed": true
   },
   "outputs": [],
   "source": [
    "dtm = vectorizer.fit_transform(filenames).toarray()\n",
    "vocab = np.array(vectorizer.get_feature_names())\n",
    "# print(vocab)"
   ]
  },
  {
   "cell_type": "code",
   "execution_count": 7,
   "metadata": {},
   "outputs": [
    {
     "name": "stdout",
     "output_type": "stream",
     "text": [
      "3697\n"
     ]
    }
   ],
   "source": [
    "print(len(vocab))\n"
   ]
  },
  {
   "cell_type": "code",
   "execution_count": 8,
   "metadata": {},
   "outputs": [
    {
     "data": {
      "text/plain": [
       "(115, 3697)"
      ]
     },
     "execution_count": 8,
     "metadata": {},
     "output_type": "execute_result"
    }
   ],
   "source": [
    "dtm.shape"
   ]
  },
  {
   "cell_type": "code",
   "execution_count": 9,
   "metadata": {},
   "outputs": [
    {
     "name": "stdout",
     "output_type": "stream",
     "text": [
      "NMF(alpha=0.0, beta=1, eta=0.1, init=None, l1_ratio=0.0, max_iter=200,\n",
      "  n_components=20, nls_max_iter=2000, random_state=1, shuffle=False,\n",
      "  solver='cd', sparseness=None, tol=0.0001, verbose=0)\n"
     ]
    }
   ],
   "source": [
    "num_topics = 20\n",
    "num_top_words = 10\n",
    "clf = decomposition.NMF(n_components=num_topics, random_state=1)\n",
    "\n",
    "print(clf)"
   ]
  },
  {
   "cell_type": "code",
   "execution_count": 10,
   "metadata": {
    "collapsed": true
   },
   "outputs": [],
   "source": [
    "doctopic = clf.fit_transform(dtm)"
   ]
  },
  {
   "cell_type": "code",
   "execution_count": 11,
   "metadata": {
    "collapsed": true
   },
   "outputs": [],
   "source": [
    "topic_words = []\n",
    "for topic in clf.components_:\n",
    "    word_idx = np.argsort(topic)[::-1][0:num_top_words]\n",
    "    topic_words.append([vocab[i] for i in word_idx])\n",
    "\n",
    "# print(topic_words)"
   ]
  },
  {
   "cell_type": "code",
   "execution_count": 12,
   "metadata": {},
   "outputs": [
    {
     "name": "stdout",
     "output_type": "stream",
     "text": [
      "NMF(alpha=0.0, beta=1, eta=0.1, init=None, l1_ratio=0.0, max_iter=200,\n",
      "  n_components=20, nls_max_iter=2000, random_state=1, shuffle=False,\n",
      "  solver='cd', sparseness=None, tol=0.0001, verbose=0)\n"
     ]
    }
   ],
   "source": [
    "doctopic = doctopic / np.sum(doctopic, axis=0, keepdims=True)\n",
    "print(clf)"
   ]
  },
  {
   "cell_type": "code",
   "execution_count": 13,
   "metadata": {
    "collapsed": true
   },
   "outputs": [],
   "source": [
    "document_names = [] \n",
    "\n",
    "for fn in filenames:\n",
    "    basename = os.path.basename(fn)\n",
    "    name, ext = os.path.splitext(basename)\n",
    "    name = name.rstrip('0123456789')\n",
    "    document_names.append(name)\n",
    "# print(document_names)"
   ]
  },
  {
   "cell_type": "code",
   "execution_count": 18,
   "metadata": {},
   "outputs": [
    {
     "name": "stdout",
     "output_type": "stream",
     "text": [
      "73\n",
      "[[ 0.  0.  0. ...,  0.  0.  0.]\n",
      " [ 0.  0.  0. ...,  0.  0.  0.]\n",
      " [ 0.  0.  0. ...,  0.  0.  0.]\n",
      " ..., \n",
      " [ 0.  0.  0. ...,  0.  0.  0.]\n",
      " [ 0.  0.  0. ...,  0.  0.  0.]\n",
      " [ 0.  0.  0. ...,  0.  0.  0.]]\n",
      "15-0100 (Nonprofit Hospital Pay).pdf: 7 12 14 9\n",
      "15-0101 (Affordable Healthcare).pdf: 7 16 11 18\n",
      "15-0102 (Nonprofit Hospital Healthcare).pdf: 7 18 11 17\n",
      "15-0103 (Marijuana)_1.pdf: 4 17 18 9\n",
      "15-0104 (Marijuana)_0.pdf: 17 18 5 16\n",
      "15-0105 (Minimum Wage)_0.pdf: 12 18 19 8\n",
      "15-0106 (Sales Tax on Political Advertisements V2).pdf: 18 17 15 19\n",
      "15-0107 (Redirect HighSpeed Rail Funds to Water Projects)_0.pdf: 10 1 16 19\n",
      "15-0108 (Electronic Voting)_0.pdf: 13 3 15 16\n",
      "15-0109 (High Speed Rail)_0.pdf: 10 17 12 15\n",
      "15-0110 (Construction-Related Accessibility Claims)_0.pdf: 16 13 14 17\n",
      "15-0111 (Hospital Pay)_0.pdf: 7 12 15 14\n",
      "15-0112 (Secret Ballot).pdf: 13 15 3 19\n",
      "15-0113 (Disability Accessibility Violations).pdf: 16 15 12 13\n",
      "15-0114 (Repeal Charter Schools)_0.pdf: 18 10 13 19\n",
      "15-0115 (Temporary Tax Increase)_0.pdf: 18 16 5 12\n",
      "15-0116 (Water and Sewer Fees)_0.pdf: 16 10 1 19\n",
      "15-0117 (Election Data Security and Voter Accessibility)_0.pdf: 3 19 13 12\n",
      "15-0118 (Election Data Security and Voter Accessibility V2)_0.pdf: 3 7 6 15\n",
      "15-0119 (Marijuana V6).pdf: 17 4 13 16\n",
      "15-0120 (Marijuana V7).pdf: 17 13 4 14\n",
      "15-0121 (Prison Sentence Reform)_1.pdf: 14 11 1 5\n",
      "15-0123 (Healthcare Privacy).pdf: 17 15 14 13\n",
      "15-0124 (Police Jurisdiction Discrimination).pdf: 16 13 12 17\n",
      "15-0125 (Honest Legislators).pdf: 13 12 14 10\n",
      "16-0001 (Clean Environment)_0.pdf: 17 15 10 16\n",
      "16-0002 (Electronic Petition Signatures).pdf: 19 18 1 2\n",
      "16-0003 (Child Custody Trial by Jury)_0 (1).pdf: 14 15 12 13\n",
      "16-0003 (Child Custody Trial by Jury)_0.pdf: 14 15 12 13\n",
      "16-0004 (&quot;Referendum on AB 1135&quot;).pdf: 9 16 19 11\n",
      "16-0005 (&quot;Referendum on SB 1446&quot;).pdf: 9 14 17 19\n",
      "16-0006 (&quot;Referendum on SB 1235&quot;).pdf: 9 12 17 6\n",
      "16-0007 (&quot;Referendum on SB 880&quot;).pdf: 9 16 19 14\n",
      "16-0008 (16-0008, &quot;Referendum on AB 1695&quot;).pdf: 14 9 19 16\n",
      "16-0009 (&quot;Referendum on AB 1511&quot;).pdf: 9 19 16 13\n",
      "16-0010 (&quot;Referendum on AB 857&quot;).pdf: 9 19 11 14\n",
      "16-0011 (Separate CA from US)_0.pdf: 15 19 13 12\n",
      "16-0012 (Presidential Elections).pdf: 15 10 19 3\n",
      "17-0001 (Child Custody Trial by Jury V2)_1.pdf: 19 18 1 2\n",
      "17-0002 (Legislature Reform)_0.pdf: 19 18 1 2\n",
      "17-0003 (Gender Identity)_0.pdf: 13 5 19 8\n",
      "17-0004 (Repeal Gas Tax)_0.pdf: 13 5 19 8\n",
      "17-0005 (Sovereign CA)_0.pdf: 15 13 19 17\n",
      "17-0006 (Elderly Parole)_0.pdf: 15 13 19 17\n",
      "17-0007 (Water Bond).pdf: 5 17 0 1\n",
      "17-0008 (Abortion).pdf: 5 17 0 1\n",
      "17-0009 (Youth Parole Hearings).pdf: 15 11 3 5\n",
      "17-0010 (Water Bond).pdf: 15 11 3 5\n",
      "17-0011 (Property Tax V1).pdf: 19 14 13 17\n",
      "17-0012 (Property Tax V2).pdf: 19 14 13 17\n",
      "17-0013 (Property Tax V3).pdf: 8 1 19 18\n",
      "17-0014 (Dialysis Clinic Pricing)_0.pdf: 8 1 19 18\n",
      "17-0015 (Dialysis Clinic Care)_0.pdf: 15 19 12 13\n",
      "17-0016 (ABA Model Rules)_1.pdf: 15 19 12 13\n",
      "17-0017 (Constitutional Convention)_1.pdf: 17 14 19 13\n",
      "17-0018 (Three Californias)_1.pdf: 17 14 19 13\n",
      "17-0019 (Healthcare Roadblock Removal).pdf: 1 16 8 15\n",
      "17-0020 (Top Two Primary)_0.pdf: 1 16 8 15\n",
      "17-0021 (Teacher Recruitment and Funding)_3.pdf: 2 5 10 7\n",
      "17-0022 (Law Enforcement Officer Criminal Prosecutions)_0.pdf: 2 5 10 7\n",
      "17-0023 (Voting Rights).pdf: 2 19 18 17\n",
      "17-0024 (Legalize Psilocybin)_0.pdf: 2 19 18 17\n",
      "17-0025 (UC Online)_1.pdf: 2 14 9 17\n",
      "17-0026 (Animal Cruelty)_0.pdf: 2 14 9 17\n",
      "17-0027 (Consumer Privacy).pdf: 11 7 18 13\n",
      "17-0028 (Education Taxes)_0.pdf: 11 7 18 13\n",
      "17-0029 (Resident Taxes)_0.pdf: 11 12 9 14\n",
      "17-0030 (Education)_0.pdf: 11 12 9 14\n",
      "17-0031 (California Economic Rights)_0.pdf: 19 17 14 16\n",
      "17-0032 (Tax Credits).pdf: 19 17 14 16\n",
      "17-0033 (Gas and Car Tax)_0.pdf: 15 16 8 6\n",
      "17-0034 (Tax and Bond Revenue).pdf: 15 16 8 6\n",
      "17-0034 (Tax and Bond Revenue)_0.pdf: 15 13 10 17\n"
     ]
    },
    {
     "ename": "IndexError",
     "evalue": "list index out of range",
     "output_type": "error",
     "traceback": [
      "\u001b[0;31m---------------------------------------------------------------------------\u001b[0m",
      "\u001b[0;31mIndexError\u001b[0m                                Traceback (most recent call last)",
      "\u001b[0;32m<ipython-input-18-f4eda0b499ac>\u001b[0m in \u001b[0;36m<module>\u001b[0;34m()\u001b[0m\n\u001b[1;32m     22\u001b[0m     \u001b[0mtop_topics\u001b[0m \u001b[0;34m=\u001b[0m \u001b[0mnp\u001b[0m\u001b[0;34m.\u001b[0m\u001b[0margsort\u001b[0m\u001b[0;34m(\u001b[0m\u001b[0mdoctopic\u001b[0m\u001b[0;34m[\u001b[0m\u001b[0mi\u001b[0m\u001b[0;34m,\u001b[0m\u001b[0;34m:\u001b[0m\u001b[0;34m]\u001b[0m\u001b[0;34m)\u001b[0m\u001b[0;34m[\u001b[0m\u001b[0;34m:\u001b[0m\u001b[0;34m:\u001b[0m\u001b[0;34m-\u001b[0m\u001b[0;36m1\u001b[0m\u001b[0;34m]\u001b[0m\u001b[0;34m[\u001b[0m\u001b[0;36m0\u001b[0m\u001b[0;34m:\u001b[0m\u001b[0;36m4\u001b[0m\u001b[0;34m]\u001b[0m\u001b[0;34m\u001b[0m\u001b[0m\n\u001b[1;32m     23\u001b[0m     \u001b[0mtop_topics_str\u001b[0m \u001b[0;34m=\u001b[0m \u001b[0;34m' '\u001b[0m\u001b[0;34m.\u001b[0m\u001b[0mjoin\u001b[0m\u001b[0;34m(\u001b[0m\u001b[0mstr\u001b[0m\u001b[0;34m(\u001b[0m\u001b[0mt\u001b[0m\u001b[0;34m)\u001b[0m \u001b[0;32mfor\u001b[0m \u001b[0mt\u001b[0m \u001b[0;32min\u001b[0m \u001b[0mtop_topics\u001b[0m\u001b[0;34m)\u001b[0m\u001b[0;34m\u001b[0m\u001b[0m\n\u001b[0;32m---> 24\u001b[0;31m     \u001b[0mprint\u001b[0m\u001b[0;34m(\u001b[0m\u001b[0;34m\"{}: {}\"\u001b[0m\u001b[0;34m.\u001b[0m\u001b[0mformat\u001b[0m\u001b[0;34m(\u001b[0m\u001b[0mdocuments\u001b[0m\u001b[0;34m[\u001b[0m\u001b[0mi\u001b[0m\u001b[0;34m]\u001b[0m\u001b[0;34m,\u001b[0m \u001b[0mtop_topics_str\u001b[0m\u001b[0;34m)\u001b[0m\u001b[0;34m)\u001b[0m\u001b[0;34m\u001b[0m\u001b[0m\n\u001b[0m\u001b[1;32m     25\u001b[0m \u001b[0;31m#     print(i)\u001b[0m\u001b[0;34m\u001b[0m\u001b[0;34m\u001b[0m\u001b[0m\n\u001b[1;32m     26\u001b[0m \u001b[0;31m#     print(top_topics_str)\u001b[0m\u001b[0;34m\u001b[0m\u001b[0;34m\u001b[0m\u001b[0m\n",
      "\u001b[0;31mIndexError\u001b[0m: list index out of range"
     ]
    }
   ],
   "source": [
    "# print(clf)\n",
    "document_names = np.asarray(document_names)\n",
    "doctopic_orig = doctopic.copy()\n",
    "num_groups = len(set(document_names))\n",
    "# print(num_groups)\n",
    "# print(doctopic.copy)\n",
    "doctopic_grouped = np.zeros((num_groups, num_topics))\n",
    "print(num_groups)\n",
    "# print(doctopic_grouped)\n",
    "\n",
    "# for i, name in enumerate(sorted(set(document_names))):\n",
    "#     doctopic_grouped[i, :] = np.mean(doctopic[document_names == name, :], axis=0)\n",
    "\n",
    "#     doctopic = doctopic_grouped\n",
    "\n",
    "documents = sorted(set(document_names))\n",
    "# print(documents)\n",
    "# print(doctopic)\n",
    "\n",
    "top_four_topics_total = []\n",
    "for i in range(len(doctopic)):\n",
    "    top_topics = np.argsort(doctopic[i,:])[::-1][0:4]\n",
    "    top_topics_str = ' '.join(str(t) for t in top_topics)\n",
    "    print(\"{}: {}\".format(documents[i], top_topics_str))\n",
    "#     print(i)\n",
    "#     print(top_topics_str)\n",
    "    top_topics_split = top_topics_str.split(' ')\n",
    "#     print(top_topics_split)\n",
    "    top_four_topics_total.extend(top_topics_split)\n"
   ]
  },
  {
   "cell_type": "code",
   "execution_count": 16,
   "metadata": {},
   "outputs": [
    {
     "data": {
      "image/png": "[encoded data removed]",
      "text/plain": [
       "<matplotlib.figure.Figure at 0x1025967b8>"
      ]
     },
     "metadata": {},
     "output_type": "display_data"
    }
   ],
   "source": [
    "#make a histogram of this all\n",
    "# print(top_four_topics_total)\n",
    "#make a giant array of top topics for all the documents\n",
    "counts = Counter(top_four_topics_total)\n",
    "labels, values = zip(*counts.items())\n",
    "\n",
    "indSort = np.argsort(values)[::-1]\n",
    "\n",
    "# rearrange \n",
    "labels = np.array(labels)[indSort]\n",
    "values = np.array(values)[indSort]\n",
    "\n",
    "indexes = np.arange(len(labels))\n",
    "\n",
    "bar_width = 0.3\n",
    "\n",
    "plt.bar(indexes, values)\n",
    "\n",
    "# add labels\n",
    "plt.xticks(indexes + bar_width, labels)\n",
    "\n",
    "figtext(.02, -0.3, \"Topic 19: federal natural nature constitutional rights right life californians environment health\\n\")\n",
    "figtext(.02, -0.35, \"Topic 13: legislature neighborhood assembly act senate members working districts article election\\n\")\n",
    "\n",
    "figtext(.02, -0.4, \"Topic 17: board chapter products tax license taxation cultivation city safety control\\n\")\n",
    "\n",
    "figtext(.02, -0.45, \"Topic 15: states government federal united local natural californians given people constitution\\n\")\n",
    "\n",
    "\n",
    "figtext(.02, -0.5, \"Topic 14: minor juvenile offense penal described criminal specified age rehabilitation relevant\\n\")\n",
    "\n",
    "figtext(.02, -0.55, \"Topic 16: service water local fee charge flood stormwater agency control conservation\\n\")\n",
    "figtext(.02, -0.6, \"Topic 18: education health care local tax children 2011 revenue services pursuant\\n\")\n",
    "\n",
    "\n",
    "plt.show()"
   ]
  },
  {
   "cell_type": "code",
   "execution_count": 66,
   "metadata": {},
   "outputs": [
    {
     "name": "stdout",
     "output_type": "stream",
     "text": [
      "Topic 0: person vehicle department 17 10 pursuant subdivision program violation date\n",
      "Topic 1: water 000 projects division pursuant funds public dollars agency million\n",
      "Topic 2: property replacement value original dwelling year base subdivision claimant person\n",
      "Topic 3: ballot mail vote elections election voter official commission electronic pursuant\n",
      "Topic 4: marijuana division use products subdivision department person pursuant act tax\n",
      "Topic 5: pursuant subdivision vehicle tax transportation department year program funds fiscal\n",
      "Topic 6: information consumer personal business 1798 purposes commercial act privacy including\n",
      "Topic 7: hospital nonprofit corporation compensation medical entity subdivision person covered group\n",
      "Topic 8: water 000 projects available pursuant funds division million dollars resources\n",
      "Topic 9: department pursuant person vendor commencing chapter article purchaser licensed transaction\n",
      "Topic 10: water authority storage chapter public bonds 15 project facilities groundwater\n",
      "Topic 11: chronic department ofthe patient governing entity care health patients treatment\n",
      "Topic 12: paid provider wage article days employee hours employment minimum use\n",
      "Topic 13: legislature neighborhood assembly act senate members working districts article election\n",
      "Topic 14: minor court juvenile subdivision person offense penal criminal described specified\n",
      "Topic 15: states government federal united local natural californians given people constitution\n",
      "Topic 16: service water local fee charge flood stormwater agency control conservation\n",
      "Topic 17: board chapter person products act tax license county cultivation taxation\n",
      "Topic 18: education health care local tax children 2011 revenue services pursuant\n",
      "Topic 19: petition elections pursuant ofthe secretary number document official signature following\n"
     ]
    }
   ],
   "source": [
    "for t in range(len(topic_words)):\n",
    "    print(\"Topic {}: {}\".format(t, ' '.join(topic_words[t][:20])))"
   ]
  },
  {
   "cell_type": "code",
   "execution_count": 68,
   "metadata": {},
   "outputs": [
    {
     "name": "stdout",
     "output_type": "stream",
     "text": [
      "NMF(alpha=0.0, beta=1, eta=0.1, init=None, l1_ratio=0.0, max_iter=200,\n",
      "  n_components=20, nls_max_iter=2000, random_state=1, shuffle=False,\n",
      "  solver='cd', sparseness=None, tol=0.0001, verbose=0)\n",
      "NMF(alpha=0.0, beta=1, eta=0.1, init=None, l1_ratio=0.0, max_iter=200,\n",
      "  n_components=20, nls_max_iter=2000, random_state=1, shuffle=False,\n",
      "  solver='cd', sparseness=None, tol=0.0001, verbose=0)\n",
      "Topic\n",
      "0\n",
      "0034 revenue bond tax 17 pdf7 pdf6 pdf34\n",
      "data/justice/txt/17-0034 (Tax and Bond Revenue).pdf72.txt\n",
      "data/justice/txt/17-0034 (Tax and Bond Revenue)_0.pdf73.txt\n",
      "data/justice/txt/17-0034 (Tax and Bond Revenue).pdf6.txt\n",
      "data/justice/txt/17-0034 (Tax and Bond Revenue).pdf34.txt\n",
      "Topic\n",
      "1\n",
      "gas car 0033 tax _0 repeal 0004 17\n",
      "data/justice/txt/17-0033 (Gas and Car Tax)_0.pdf71.txt\n",
      "data/justice/txt/17-0033 (Gas and Car Tax)_0.pdf33.txt\n",
      "data/justice/txt/17-0033 (Gas and Car Tax)_0.pdf5.txt\n",
      "data/justice/txt/17-0004 (Repeal Gas Tax)_0.pdf42.txt\n",
      "Topic\n",
      "2\n",
      "quot 16 referendum ab sb pdf35 pdf30 pdf32\n",
      "data/justice/txt/16-0010 (&quot;Referendum on AB 857&quot;).pdf36.txt\n",
      "data/justice/txt/16-0004 (&quot;Referendum on AB 1135&quot;).pdf30.txt\n",
      "data/justice/txt/16-0009 (&quot;Referendum on AB 1511&quot;).pdf35.txt\n",
      "data/justice/txt/16-0007 (&quot;Referendum on SB 880&quot;).pdf33.txt\n",
      "Topic\n",
      "3\n",
      "15 marijuana _0 accessibility hospital rail pdf24 pay\n",
      "data/justice/txt/15-0104 (Marijuana)_0.pdf5.txt\n",
      "data/justice/txt/15-0119 (Marijuana V6).pdf20.txt\n",
      "data/justice/txt/15-0120 (Marijuana V7).pdf21.txt\n",
      "data/justice/txt/15-0110 (Construction-Related Accessibility Claims)_0.pdf11.txt\n",
      "Topic\n",
      "4\n",
      "property tax 0012 v2 v1 0013 v3 0011\n",
      "data/justice/txt/17-0012 (Property Tax V2).pdf50.txt\n",
      "data/justice/txt/17-0012 (Property Tax V2).pdf12.txt\n",
      "data/justice/txt/17-0011 (Property Tax V1).pdf49.txt\n",
      "data/justice/txt/17-0013 (Property Tax V3).pdf51.txt\n",
      "Topic\n",
      "5\n",
      "0025 uc online _1 pdf25 pdf1 17 pdf22\n",
      "data/justice/txt/17-0025 (UC Online)_1.pdf63.txt\n",
      "data/justice/txt/17-0025 (UC Online)_1.pdf25.txt\n",
      "data/justice/txt/17-0025 (UC Online)_1.pdf1.txt\n",
      "data/justice/txt/15-0125 (Honest Legislators).pdf25.txt\n",
      "Topic\n",
      "6\n",
      "trial jury child custody 0003 0001 v2 16\n",
      "data/justice/txt/16-0003 (Child Custody Trial by Jury)_0 (1).pdf28.txt\n",
      "data/justice/txt/16-0003 (Child Custody Trial by Jury)_0.pdf29.txt\n",
      "data/justice/txt/17-0001 (Child Custody Trial by Jury V2)_1.pdf39.txt\n",
      "data/justice/txt/17-0001 (Child Custody Trial by Jury V2)_1.pdf1.txt\n",
      "Topic\n",
      "7\n",
      "rights economic 0031 california voting 0023 17 _0\n",
      "data/justice/txt/17-0031 (California Economic Rights)_0.pdf69.txt\n",
      "data/justice/txt/17-0031 (California Economic Rights)_0.pdf3.txt\n",
      "data/justice/txt/17-0031 (California Economic Rights)_0.pdf31.txt\n",
      "data/justice/txt/17-0023 (Voting Rights).pdf61.txt\n",
      "Topic\n",
      "8\n",
      "education 0030 _0 pdf2 17 pdf30 0028 pdf28\n",
      "data/justice/txt/17-0030 (Education)_0.pdf68.txt\n",
      "data/justice/txt/17-0030 (Education)_0.pdf2.txt\n",
      "data/justice/txt/17-0030 (Education)_0.pdf30.txt\n",
      "data/justice/txt/17-0028 (Education Taxes)_0.pdf66.txt\n",
      "Topic\n",
      "9\n",
      "clinic dialysis care 0015 0014 pricing _0 17\n",
      "data/justice/txt/17-0015 (Dialysis Clinic Care)_0.pdf53.txt\n",
      "data/justice/txt/17-0014 (Dialysis Clinic Pricing)_0.pdf52.txt\n",
      "data/justice/txt/17-0015 (Dialysis Clinic Care)_0.pdf15.txt\n",
      "data/justice/txt/17-0014 (Dialysis Clinic Pricing)_0.pdf14.txt\n",
      "Topic\n",
      "10\n",
      "water bond 0010 0007 17 pdf10 pdf7 pdf17\n",
      "data/justice/txt/17-0010 (Water Bond).pdf48.txt\n",
      "data/justice/txt/17-0007 (Water Bond).pdf45.txt\n",
      "data/justice/txt/17-0010 (Water Bond).pdf10.txt\n",
      "data/justice/txt/17-0007 (Water Bond).pdf7.txt\n",
      "Topic\n",
      "11\n",
      "parole elderly 0006 youth hearings 0009 pdf6 17\n",
      "data/justice/txt/17-0009 (Youth Parole Hearings).pdf47.txt\n",
      "data/justice/txt/17-0006 (Elderly Parole)_0.pdf6.txt\n",
      "data/justice/txt/17-0009 (Youth Parole Hearings).pdf9.txt\n",
      "data/justice/txt/17-0006 (Elderly Parole)_0.pdf44.txt\n",
      "Topic\n",
      "12\n",
      "healthcare roadblock removal 0019 pdf19 pdf2 nonprofit pdf3\n",
      "data/justice/txt/17-0019 (Healthcare Roadblock Removal).pdf57.txt\n",
      "data/justice/txt/17-0019 (Healthcare Roadblock Removal).pdf19.txt\n",
      "data/justice/txt/15-0101 (Affordable Healthcare).pdf2.txt\n",
      "data/justice/txt/15-0102 (Nonprofit Hospital Healthcare).pdf3.txt\n",
      "Topic\n",
      "13\n",
      "0032 credits tax pdf4 pdf32 17 pdf16 0004\n",
      "data/justice/txt/17-0032 (Tax Credits).pdf70.txt\n",
      "data/justice/txt/17-0032 (Tax Credits).pdf4.txt\n",
      "data/justice/txt/17-0032 (Tax Credits).pdf32.txt\n",
      "data/justice/txt/17-0004 (Repeal Gas Tax)_0.pdf4.txt\n",
      "Topic\n",
      "14\n",
      "ca sovereign 0005 pdf5 _0 0011 17 16\n",
      "data/justice/txt/17-0005 (Sovereign CA)_0.pdf5.txt\n",
      "data/justice/txt/17-0005 (Sovereign CA)_0.pdf43.txt\n",
      "data/justice/txt/16-0011 (Separate CA from US)_0.pdf37.txt\n",
      "data/justice/txt/15-0104 (Marijuana)_0.pdf5.txt\n",
      "Topic\n",
      "15\n",
      "0008 abortion pdf8 teacher 0021 _3 funding recruitment\n",
      "data/justice/txt/17-0008 (Abortion).pdf8.txt\n",
      "data/justice/txt/17-0008 (Abortion).pdf46.txt\n",
      "data/justice/txt/17-0021 (Teacher Recruitment and Funding)_3.pdf21.txt\n",
      "data/justice/txt/17-0021 (Teacher Recruitment and Funding)_3.pdf59.txt\n",
      "Topic\n",
      "16\n",
      "_0 17 reform 0002 legislature cruelty 0026 animal\n",
      "data/justice/txt/17-0002 (Legislature Reform)_0.pdf40.txt\n",
      "data/justice/txt/17-0002 (Legislature Reform)_0.pdf2.txt\n",
      "data/justice/txt/17-0026 (Animal Cruelty)_0.pdf26.txt\n",
      "data/justice/txt/17-0026 (Animal Cruelty)_0.pdf64.txt\n",
      "Topic\n",
      "17\n",
      "_1 californias 0018 constitutional convention 0017 model aba\n",
      "data/justice/txt/17-0018 (Three Californias)_1.pdf56.txt\n",
      "data/justice/txt/17-0017 (Constitutional Convention)_1.pdf55.txt\n",
      "data/justice/txt/17-0018 (Three Californias)_1.pdf18.txt\n",
      "data/justice/txt/17-0016 (ABA Model Rules)_1.pdf54.txt\n",
      "Topic\n",
      "18\n",
      "privacy consumer 0027 pdf27 17 pdf23 electronic 0002\n",
      "data/justice/txt/17-0027 (Consumer Privacy).pdf27.txt\n",
      "data/justice/txt/17-0027 (Consumer Privacy).pdf65.txt\n",
      "data/justice/txt/15-0123 (Healthcare Privacy).pdf23.txt\n",
      "data/justice/txt/16-0002 (Electronic Petition Signatures).pdf27.txt\n",
      "Topic\n",
      "19\n",
      "taxes 0029 resident _0 0028 pdf29 17 pdf28\n",
      "data/justice/txt/17-0029 (Resident Taxes)_0.pdf67.txt\n",
      "data/justice/txt/17-0029 (Resident Taxes)_0.pdf29.txt\n",
      "data/justice/txt/17-0028 (Education Taxes)_0.pdf66.txt\n",
      "data/justice/txt/17-0028 (Education Taxes)_0.pdf28.txt\n"
     ]
    }
   ],
   "source": [
    "#try to display topics with context\n",
    "print(clf)\n",
    "\n",
    "def display_topics(H, W, feature_names, documents, no_top_words, no_top_documents):\n",
    "    for topic_idx, topic in enumerate(H):\n",
    "        print('Topic')\n",
    "        print(topic_idx)\n",
    "        print (\" \".join([feature_names[i]\n",
    "                        for i in topic.argsort()[:-no_top_words - 1:-1]]))\n",
    "        top_doc_indices = np.argsort( W[:,topic_idx] )[::-1][0:no_top_documents]\n",
    "        for doc_index in top_doc_indices:\n",
    "            print(documents[doc_index])\n",
    "no_topics = 20\n",
    "\n",
    "\n",
    "tfidf_vectorizer = TfidfVectorizer(max_df=0.95, min_df=2, max_features=1000, stop_words='english')\n",
    "tfidf = tfidf_vectorizer.fit_transform(filenames)\n",
    "tfidf_feature_names = tfidf_vectorizer.get_feature_names()\n",
    "\n",
    "\n",
    "nmf_model = clf.fit(tfidf)\n",
    "print(nmf_model)\n",
    "nmf_W = nmf_model.transform(tfidf)\n",
    "nmf_H = nmf_model.components_\n",
    "\n",
    "\n",
    "tf_vectorizer = vectorizer\n",
    "tf = tf_vectorizer.fit_transform(filenames)\n",
    "tf_feature_names = tf_vectorizer.get_feature_names()\n",
    "\n",
    "\n",
    "\n",
    "no_top_words = 8\n",
    "no_top_documents = 4\n",
    "display_topics(nmf_H, nmf_W, tfidf_feature_names, filenames, no_top_words, no_top_documents)\n"
   ]
  },
  {
   "cell_type": "code",
   "execution_count": null,
   "metadata": {
    "collapsed": true
   },
   "outputs": [],
   "source": []
  },
  {
   "cell_type": "code",
   "execution_count": null,
   "metadata": {
    "collapsed": true
   },
   "outputs": [],
   "source": []
  }
 ],
 "metadata": {
  "kernelspec": {
   "display_name": "Python 3",
   "language": "python",
   "name": "python3"
  },
  "language_info": {
   "codemirror_mode": {
    "name": "ipython",
    "version": 3
   },
   "file_extension": ".py",
   "mimetype": "text/x-python",
   "name": "python",
   "nbconvert_exporter": "python",
   "pygments_lexer": "ipython3",
   "version": "3.6.1"
  }
 },
 "nbformat": 4,
 "nbformat_minor": 2
}
