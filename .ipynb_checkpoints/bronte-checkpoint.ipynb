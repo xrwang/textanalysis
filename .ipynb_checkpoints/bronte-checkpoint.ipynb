{
 "cells": [
  {
   "cell_type": "code",
   "execution_count": 1,
   "metadata": {},
   "outputs": [],
   "source": [
    "import os\n",
    "import sys\n",
    "from pdfminer.pdfinterp import PDFResourceManager, PDFPageInterpreter\n",
    "from pdfminer.pdfpage import PDFPage\n",
    "from pdfminer.converter import XMLConverter, HTMLConverter, TextConverter\n",
    "from pdfminer.layout import LAParams\n",
    "import io\n",
    "\n",
    "\n",
    "# PDF_PATH = os.path.join('data', 'justice','pdfs')\n",
    "# PDF_NAMES = os.listdir(PDF_PATH)\n",
    "# CORPUS_PATH = os.path.join('data','justice','txt')\n",
    "CORPUS_PATH = os.path.join('data', 'austen-brontë-split')\n",
    "# print(PDF_PATH)\n",
    "# print(PDF_NAMES)\n",
    "# print(CORPUS_PATH)\n",
    "\n",
    "#make a list of pdf files names\n",
    "#go through each of them and write them to the same directory as a text file \n",
    "\n",
    "# pdffilenames = sorted([os.path.join(PDF_PATH, fn) for fn in os.listdir(PDF_PATH)])\n",
    "# print(pdffilenames)\n",
    "\n",
    "\n",
    "def pdfparser(data):\n",
    "\n",
    "    fp = open(data, 'rb')\n",
    "    rsrcmgr = PDFResourceManager()\n",
    "    retstr = io.StringIO()\n",
    "    codec = 'utf-8'\n",
    "    laparams = LAParams()\n",
    "    device = TextConverter(rsrcmgr, retstr, codec=codec, laparams=laparams)\n",
    "    # Create a PDF interpreter object.\n",
    "    interpreter = PDFPageInterpreter(rsrcmgr, device)\n",
    "    # Process each page contained in the document.\n",
    "\n",
    "    for page in PDFPage.get_pages(fp):\n",
    "        interpreter.process_page(page)\n",
    "        data =  retstr.getvalue()\n",
    "\n",
    "#     print(data)\n",
    "    return data\n",
    "\n",
    "# if __name__ == '__main__':\n",
    "# pdfparser(CORPUS_PATH)  \n",
    "\n",
    "\n",
    "def pdfConverter(arrayOfFullFileNames, arrayOfPDFNames, destPath):\n",
    "    for i in range(len(arrayOfFullFileNames)):\n",
    "        print(i)\n",
    "        print('Creating new text file') \n",
    "        if not str(arrayOfPDFNames[i]).startswith('.'):\n",
    "            name = str(arrayOfPDFNames[i]) + '.txt'\n",
    "#         print('&&&&')\n",
    "#         print(name)\n",
    "#         print('*****')\n",
    "#         print(destPath)\n",
    "            print(arrayOfFullFileNames[i])\n",
    "\n",
    "            try:\n",
    "#             print(pdfparser())\n",
    "                content = pdfparser(arrayOfFullFileNames[i])\n",
    "#                 print('below is the content')\n",
    "#                 print(content)\n",
    "                contenttwo = str(content)\n",
    "                print('hi!!')\n",
    "#                 print(type(contenttwo))\n",
    "#                 print(contenttwo)\n",
    "                print('&&&&')\n",
    "                file = open(destPath+name,'w')\n",
    "                file.write(str(content))\n",
    "                file.close()\n",
    "\n",
    "            except:\n",
    "                print('Something went wrong! Can\\'t tell what?')\n",
    "                sys.exit(0) # quit Python\n",
    "        \n",
    "# pdfConverter(pdffilenames,PDF_NAMES,CORPUS_PATH) \n"
   ]
  },
  {
   "cell_type": "code",
   "execution_count": 2,
   "metadata": {},
   "outputs": [
    {
     "name": "stdout",
     "output_type": "stream",
     "text": [
      "data/austen-brontë-split\n",
      "['Austen_Emma0000.txt', 'Austen_Emma0001.txt', 'Austen_Emma0002.txt', 'Austen_Emma0003.txt', 'Austen_Emma0004.txt', 'Austen_Emma0005.txt', 'Austen_Emma0006.txt', 'Austen_Emma0007.txt', 'Austen_Emma0008.txt', 'Austen_Emma0009.txt', 'Austen_Emma0010.txt', 'Austen_Emma0011.txt', 'Austen_Emma0012.txt', 'Austen_Emma0013.txt', 'Austen_Emma0014.txt', 'Austen_Emma0015.txt', 'Austen_Emma0016.txt', 'Austen_Emma0017.txt', 'Austen_Emma0018.txt', 'Austen_Emma0019.txt', 'Austen_Emma0020.txt', 'Austen_Emma0021.txt', 'Austen_Emma0022.txt', 'Austen_Emma0023.txt', 'Austen_Emma0024.txt', 'Austen_Emma0025.txt', 'Austen_Emma0026.txt', 'Austen_Emma0027.txt', 'Austen_Emma0028.txt', 'Austen_Emma0029.txt', 'Austen_Emma0030.txt', 'Austen_Emma0031.txt', 'Austen_Emma0032.txt', 'Austen_Emma0033.txt', 'Austen_Emma0034.txt', 'Austen_Emma0035.txt', 'Austen_Emma0036.txt', 'Austen_Emma0037.txt', 'Austen_Emma0038.txt', 'Austen_Emma0039.txt', 'Austen_Emma0040.txt', 'Austen_Emma0041.txt', 'Austen_Emma0042.txt', 'Austen_Emma0043.txt', 'Austen_Emma0044.txt', 'Austen_Emma0045.txt', 'Austen_Emma0046.txt', 'Austen_Emma0047.txt', 'Austen_Emma0048.txt', 'Austen_Emma0049.txt', 'Austen_Emma0050.txt', 'Austen_Emma0051.txt', 'Austen_Emma0052.txt', 'Austen_Emma0053.txt', 'Austen_Emma0054.txt', 'Austen_Emma0055.txt', 'Austen_Emma0056.txt', 'Austen_Emma0057.txt', 'Austen_Emma0058.txt', 'Austen_Emma0059.txt', 'Austen_Emma0060.txt', 'Austen_Emma0061.txt', 'Austen_Emma0062.txt', 'Austen_Emma0063.txt', 'Austen_Emma0064.txt', 'Austen_Emma0065.txt', 'Austen_Emma0066.txt', 'Austen_Emma0067.txt', 'Austen_Emma0068.txt', 'Austen_Emma0069.txt', 'Austen_Emma0070.txt', 'Austen_Emma0071.txt', 'Austen_Emma0072.txt', 'Austen_Emma0073.txt', 'Austen_Emma0074.txt', 'Austen_Emma0075.txt', 'Austen_Emma0076.txt', 'Austen_Emma0077.txt', 'Austen_Emma0078.txt', 'Austen_Emma0079.txt', 'Austen_Emma0080.txt', 'Austen_Emma0081.txt', 'Austen_Emma0082.txt', 'Austen_Emma0083.txt', 'Austen_Emma0084.txt', 'Austen_Emma0085.txt', 'Austen_Emma0086.txt', 'Austen_Emma0087.txt', 'Austen_Emma0088.txt', 'Austen_Emma0089.txt', 'Austen_Emma0090.txt', 'Austen_Emma0091.txt', 'Austen_Emma0092.txt', 'Austen_Emma0093.txt', 'Austen_Emma0094.txt', 'Austen_Emma0095.txt', 'Austen_Emma0096.txt', 'Austen_Emma0097.txt', 'Austen_Emma0098.txt', 'Austen_Emma0099.txt', 'Austen_Emma0100.txt', 'Austen_Emma0101.txt', 'Austen_Emma0102.txt', 'Austen_Emma0103.txt', 'Austen_Emma0104.txt', 'Austen_Emma0105.txt', 'Austen_Emma0106.txt', 'Austen_Emma0107.txt', 'Austen_Emma0108.txt', 'Austen_Emma0109.txt', 'Austen_Emma0110.txt', 'Austen_Emma0111.txt', 'Austen_Emma0112.txt', 'Austen_Emma0113.txt', 'Austen_Emma0114.txt', 'Austen_Emma0115.txt', 'Austen_Emma0116.txt', 'Austen_Emma0117.txt', 'Austen_Emma0118.txt', 'Austen_Emma0119.txt', 'Austen_Emma0120.txt', 'Austen_Emma0121.txt', 'Austen_Emma0122.txt', 'Austen_Emma0123.txt', 'Austen_Emma0124.txt', 'Austen_Emma0125.txt', 'Austen_Emma0126.txt', 'Austen_Emma0127.txt', 'Austen_Emma0128.txt', 'Austen_Emma0129.txt', 'Austen_Emma0130.txt', 'Austen_Emma0131.txt', 'Austen_Emma0132.txt', 'Austen_Emma0133.txt', 'Austen_Emma0134.txt', 'Austen_Emma0135.txt', 'Austen_Emma0136.txt', 'Austen_Emma0137.txt', 'Austen_Emma0138.txt', 'Austen_Emma0139.txt', 'Austen_Emma0140.txt', 'Austen_Emma0141.txt', 'Austen_Emma0142.txt', 'Austen_Emma0143.txt', 'Austen_Pride0000.txt', 'Austen_Pride0001.txt', 'Austen_Pride0002.txt', 'Austen_Pride0003.txt', 'Austen_Pride0004.txt', 'Austen_Pride0005.txt', 'Austen_Pride0006.txt', 'Austen_Pride0007.txt', 'Austen_Pride0008.txt', 'Austen_Pride0009.txt', 'Austen_Pride0010.txt', 'Austen_Pride0011.txt', 'Austen_Pride0012.txt', 'Austen_Pride0013.txt', 'Austen_Pride0014.txt', 'Austen_Pride0015.txt', 'Austen_Pride0016.txt', 'Austen_Pride0017.txt', 'Austen_Pride0018.txt', 'Austen_Pride0019.txt', 'Austen_Pride0020.txt', 'Austen_Pride0021.txt', 'Austen_Pride0022.txt', 'Austen_Pride0023.txt', 'Austen_Pride0024.txt', 'Austen_Pride0025.txt', 'Austen_Pride0026.txt', 'Austen_Pride0027.txt', 'Austen_Pride0028.txt', 'Austen_Pride0029.txt', 'Austen_Pride0030.txt', 'Austen_Pride0031.txt', 'Austen_Pride0032.txt', 'Austen_Pride0033.txt', 'Austen_Pride0034.txt', 'Austen_Pride0035.txt', 'Austen_Pride0036.txt', 'Austen_Pride0037.txt', 'Austen_Pride0038.txt', 'Austen_Pride0039.txt', 'Austen_Pride0040.txt', 'Austen_Pride0041.txt', 'Austen_Pride0042.txt', 'Austen_Pride0043.txt', 'Austen_Pride0044.txt', 'Austen_Pride0045.txt', 'Austen_Pride0046.txt', 'Austen_Pride0047.txt', 'Austen_Pride0048.txt', 'Austen_Pride0049.txt', 'Austen_Pride0050.txt', 'Austen_Pride0051.txt', 'Austen_Pride0052.txt', 'Austen_Pride0053.txt', 'Austen_Pride0054.txt', 'Austen_Pride0055.txt', 'Austen_Pride0056.txt', 'Austen_Pride0057.txt', 'Austen_Pride0058.txt', 'Austen_Pride0059.txt', 'Austen_Pride0060.txt', 'Austen_Pride0061.txt', 'Austen_Pride0062.txt', 'Austen_Pride0063.txt', 'Austen_Pride0064.txt', 'Austen_Pride0065.txt', 'Austen_Pride0066.txt', 'Austen_Pride0067.txt', 'Austen_Pride0068.txt', 'Austen_Pride0069.txt', 'Austen_Pride0070.txt', 'Austen_Pride0071.txt', 'Austen_Pride0072.txt', 'Austen_Pride0073.txt', 'Austen_Pride0074.txt', 'Austen_Pride0075.txt', 'Austen_Pride0076.txt', 'Austen_Pride0077.txt', 'Austen_Pride0078.txt', 'Austen_Pride0079.txt', 'Austen_Pride0080.txt', 'Austen_Pride0081.txt', 'Austen_Pride0082.txt', 'Austen_Pride0083.txt', 'Austen_Pride0084.txt', 'Austen_Pride0085.txt', 'Austen_Pride0086.txt', 'Austen_Pride0087.txt', 'Austen_Pride0088.txt', 'Austen_Pride0089.txt', 'Austen_Pride0090.txt', 'Austen_Pride0091.txt', 'Austen_Pride0092.txt', 'Austen_Pride0093.txt', 'Austen_Pride0094.txt', 'Austen_Pride0095.txt', 'Austen_Pride0096.txt', 'Austen_Pride0097.txt', 'Austen_Pride0098.txt', 'Austen_Pride0099.txt', 'Austen_Pride0100.txt', 'Austen_Pride0101.txt', 'Austen_Pride0102.txt', 'Austen_Pride0103.txt', 'Austen_Pride0104.txt', 'Austen_Pride0105.txt', 'Austen_Pride0106.txt', 'Austen_Pride0107.txt', 'Austen_Pride0108.txt', 'Austen_Pride0109.txt', 'Austen_Pride0110.txt', 'Austen_Pride0111.txt', 'Austen_Pride0112.txt', 'Austen_Pride0113.txt', 'Austen_Pride0114.txt', 'Austen_Pride0115.txt', 'Austen_Pride0116.txt', 'Austen_Pride0117.txt', 'Austen_Pride0118.txt', 'Austen_Pride0119.txt', 'Austen_Sense0000.txt', 'Austen_Sense0001.txt', 'Austen_Sense0002.txt', 'Austen_Sense0003.txt', 'Austen_Sense0004.txt', 'Austen_Sense0005.txt', 'Austen_Sense0006.txt', 'Austen_Sense0007.txt', 'Austen_Sense0008.txt', 'Austen_Sense0009.txt', 'Austen_Sense0010.txt', 'Austen_Sense0011.txt', 'Austen_Sense0012.txt', 'Austen_Sense0013.txt', 'Austen_Sense0014.txt', 'Austen_Sense0015.txt', 'Austen_Sense0016.txt', 'Austen_Sense0017.txt', 'Austen_Sense0018.txt', 'Austen_Sense0019.txt', 'Austen_Sense0020.txt', 'Austen_Sense0021.txt', 'Austen_Sense0022.txt', 'Austen_Sense0023.txt', 'Austen_Sense0024.txt', 'Austen_Sense0025.txt', 'Austen_Sense0026.txt', 'Austen_Sense0027.txt', 'Austen_Sense0028.txt', 'Austen_Sense0029.txt', 'Austen_Sense0030.txt', 'Austen_Sense0031.txt', 'Austen_Sense0032.txt', 'Austen_Sense0033.txt', 'Austen_Sense0034.txt', 'Austen_Sense0035.txt', 'Austen_Sense0036.txt', 'Austen_Sense0037.txt', 'Austen_Sense0038.txt', 'Austen_Sense0039.txt', 'Austen_Sense0040.txt', 'Austen_Sense0041.txt', 'Austen_Sense0042.txt', 'Austen_Sense0043.txt', 'Austen_Sense0044.txt', 'Austen_Sense0045.txt', 'Austen_Sense0046.txt', 'Austen_Sense0047.txt', 'Austen_Sense0048.txt', 'Austen_Sense0049.txt', 'Austen_Sense0050.txt', 'Austen_Sense0051.txt', 'Austen_Sense0052.txt', 'Austen_Sense0053.txt', 'Austen_Sense0054.txt', 'Austen_Sense0055.txt', 'Austen_Sense0056.txt', 'Austen_Sense0057.txt', 'Austen_Sense0058.txt', 'Austen_Sense0059.txt', 'Austen_Sense0060.txt', 'Austen_Sense0061.txt', 'Austen_Sense0062.txt', 'Austen_Sense0063.txt', 'Austen_Sense0064.txt', 'Austen_Sense0065.txt', 'Austen_Sense0066.txt', 'Austen_Sense0067.txt', 'Austen_Sense0068.txt', 'Austen_Sense0069.txt', 'Austen_Sense0070.txt', 'Austen_Sense0071.txt', 'Austen_Sense0072.txt', 'Austen_Sense0073.txt', 'Austen_Sense0074.txt', 'Austen_Sense0075.txt', 'Austen_Sense0076.txt', 'Austen_Sense0077.txt', 'Austen_Sense0078.txt', 'Austen_Sense0079.txt', 'Austen_Sense0080.txt', 'Austen_Sense0081.txt', 'Austen_Sense0082.txt', 'Austen_Sense0083.txt', 'Austen_Sense0084.txt', 'Austen_Sense0085.txt', 'Austen_Sense0086.txt', 'Austen_Sense0087.txt', 'Austen_Sense0088.txt', 'Austen_Sense0089.txt', 'Austen_Sense0090.txt', 'Austen_Sense0091.txt', 'Austen_Sense0092.txt', 'Austen_Sense0093.txt', 'Austen_Sense0094.txt', 'Austen_Sense0095.txt', 'Austen_Sense0096.txt', 'Austen_Sense0097.txt', 'Austen_Sense0098.txt', 'Austen_Sense0099.txt', 'Austen_Sense0100.txt', 'Austen_Sense0101.txt', 'Austen_Sense0102.txt', 'Austen_Sense0103.txt', 'Austen_Sense0104.txt', 'Austen_Sense0105.txt', 'Austen_Sense0106.txt', 'Austen_Sense0107.txt', 'CBronte_Jane0000.txt', 'CBronte_Jane0001.txt', 'CBronte_Jane0002.txt', 'CBronte_Jane0003.txt', 'CBronte_Jane0004.txt', 'CBronte_Jane0005.txt', 'CBronte_Jane0006.txt', 'CBronte_Jane0007.txt', 'CBronte_Jane0008.txt', 'CBronte_Jane0009.txt', 'CBronte_Jane0010.txt', 'CBronte_Jane0011.txt', 'CBronte_Jane0012.txt', 'CBronte_Jane0013.txt', 'CBronte_Jane0014.txt', 'CBronte_Jane0015.txt', 'CBronte_Jane0016.txt', 'CBronte_Jane0017.txt', 'CBronte_Jane0018.txt', 'CBronte_Jane0019.txt', 'CBronte_Jane0020.txt', 'CBronte_Jane0021.txt', 'CBronte_Jane0022.txt', 'CBronte_Jane0023.txt', 'CBronte_Jane0024.txt', 'CBronte_Jane0025.txt', 'CBronte_Jane0026.txt', 'CBronte_Jane0027.txt', 'CBronte_Jane0028.txt', 'CBronte_Jane0029.txt', 'CBronte_Jane0030.txt', 'CBronte_Jane0031.txt', 'CBronte_Jane0032.txt', 'CBronte_Jane0033.txt', 'CBronte_Jane0034.txt', 'CBronte_Jane0035.txt', 'CBronte_Jane0036.txt', 'CBronte_Jane0037.txt', 'CBronte_Jane0038.txt', 'CBronte_Jane0039.txt', 'CBronte_Jane0040.txt', 'CBronte_Jane0041.txt', 'CBronte_Jane0042.txt', 'CBronte_Jane0043.txt', 'CBronte_Jane0044.txt', 'CBronte_Jane0045.txt', 'CBronte_Jane0046.txt', 'CBronte_Jane0047.txt', 'CBronte_Jane0048.txt', 'CBronte_Jane0049.txt', 'CBronte_Jane0050.txt', 'CBronte_Jane0051.txt', 'CBronte_Jane0052.txt', 'CBronte_Jane0053.txt', 'CBronte_Jane0054.txt', 'CBronte_Jane0055.txt', 'CBronte_Jane0056.txt', 'CBronte_Jane0057.txt', 'CBronte_Jane0058.txt', 'CBronte_Jane0059.txt', 'CBronte_Jane0060.txt', 'CBronte_Jane0061.txt', 'CBronte_Jane0062.txt', 'CBronte_Jane0063.txt', 'CBronte_Jane0064.txt', 'CBronte_Jane0065.txt', 'CBronte_Jane0066.txt', 'CBronte_Jane0067.txt', 'CBronte_Jane0068.txt', 'CBronte_Jane0069.txt', 'CBronte_Jane0070.txt', 'CBronte_Jane0071.txt', 'CBronte_Jane0072.txt', 'CBronte_Jane0073.txt', 'CBronte_Jane0074.txt', 'CBronte_Jane0075.txt', 'CBronte_Jane0076.txt', 'CBronte_Jane0077.txt', 'CBronte_Jane0078.txt', 'CBronte_Jane0079.txt', 'CBronte_Jane0080.txt', 'CBronte_Jane0081.txt', 'CBronte_Jane0082.txt', 'CBronte_Jane0083.txt', 'CBronte_Jane0084.txt', 'CBronte_Jane0085.txt', 'CBronte_Jane0086.txt', 'CBronte_Jane0087.txt', 'CBronte_Jane0088.txt', 'CBronte_Jane0089.txt', 'CBronte_Jane0090.txt', 'CBronte_Jane0091.txt', 'CBronte_Jane0092.txt', 'CBronte_Jane0093.txt', 'CBronte_Jane0094.txt', 'CBronte_Jane0095.txt', 'CBronte_Jane0096.txt', 'CBronte_Jane0097.txt', 'CBronte_Jane0098.txt', 'CBronte_Jane0099.txt', 'CBronte_Jane0100.txt', 'CBronte_Jane0101.txt', 'CBronte_Jane0102.txt', 'CBronte_Jane0103.txt', 'CBronte_Jane0104.txt', 'CBronte_Jane0105.txt', 'CBronte_Jane0106.txt', 'CBronte_Jane0107.txt', 'CBronte_Jane0108.txt', 'CBronte_Jane0109.txt', 'CBronte_Jane0110.txt', 'CBronte_Jane0111.txt', 'CBronte_Jane0112.txt', 'CBronte_Jane0113.txt', 'CBronte_Jane0114.txt', 'CBronte_Jane0115.txt', 'CBronte_Jane0116.txt', 'CBronte_Jane0117.txt', 'CBronte_Jane0118.txt', 'CBronte_Jane0119.txt', 'CBronte_Jane0120.txt', 'CBronte_Jane0121.txt', 'CBronte_Jane0122.txt', 'CBronte_Jane0123.txt', 'CBronte_Jane0124.txt', 'CBronte_Jane0125.txt', 'CBronte_Jane0126.txt', 'CBronte_Jane0127.txt', 'CBronte_Jane0128.txt', 'CBronte_Jane0129.txt', 'CBronte_Jane0130.txt', 'CBronte_Jane0131.txt', 'CBronte_Jane0132.txt', 'CBronte_Jane0133.txt', 'CBronte_Jane0134.txt', 'CBronte_Jane0135.txt', 'CBronte_Jane0136.txt', 'CBronte_Jane0137.txt', 'CBronte_Jane0138.txt', 'CBronte_Jane0139.txt', 'CBronte_Jane0140.txt', 'CBronte_Jane0141.txt', 'CBronte_Jane0142.txt', 'CBronte_Jane0143.txt', 'CBronte_Jane0144.txt', 'CBronte_Jane0145.txt', 'CBronte_Jane0146.txt', 'CBronte_Jane0147.txt', 'CBronte_Jane0148.txt', 'CBronte_Jane0149.txt', 'CBronte_Jane0150.txt', 'CBronte_Jane0151.txt', 'CBronte_Jane0152.txt', 'CBronte_Jane0153.txt', 'CBronte_Jane0154.txt', 'CBronte_Jane0155.txt', 'CBronte_Jane0156.txt', 'CBronte_Jane0157.txt', 'CBronte_Jane0158.txt', 'CBronte_Jane0159.txt', 'CBronte_Jane0160.txt', 'CBronte_Jane0161.txt', 'CBronte_Jane0162.txt', 'CBronte_Jane0163.txt', 'CBronte_Jane0164.txt', 'CBronte_Jane0165.txt', 'CBronte_Jane0166.txt', 'CBronte_Jane0167.txt', 'CBronte_Jane0168.txt', 'CBronte_Jane0169.txt', 'CBronte_Jane0170.txt', 'CBronte_Jane0171.txt', 'CBronte_Jane0172.txt', 'CBronte_Jane0173.txt', 'CBronte_Jane0174.txt', 'CBronte_Jane0175.txt', 'CBronte_Jane0176.txt', 'CBronte_Jane0177.txt', 'CBronte_Jane0178.txt', 'CBronte_Jane0179.txt', 'CBronte_Jane0180.txt', 'CBronte_Jane0181.txt', 'CBronte_Jane0182.txt', 'CBronte_Jane0183.txt', 'CBronte_Jane0184.txt', 'CBronte_Professor0000.txt', 'CBronte_Professor0001.txt', 'CBronte_Professor0002.txt', 'CBronte_Professor0003.txt', 'CBronte_Professor0004.txt', 'CBronte_Professor0005.txt', 'CBronte_Professor0006.txt', 'CBronte_Professor0007.txt', 'CBronte_Professor0008.txt', 'CBronte_Professor0009.txt', 'CBronte_Professor0010.txt', 'CBronte_Professor0011.txt', 'CBronte_Professor0012.txt', 'CBronte_Professor0013.txt', 'CBronte_Professor0014.txt', 'CBronte_Professor0015.txt', 'CBronte_Professor0016.txt', 'CBronte_Professor0017.txt', 'CBronte_Professor0018.txt', 'CBronte_Professor0019.txt', 'CBronte_Professor0020.txt', 'CBronte_Professor0021.txt', 'CBronte_Professor0022.txt', 'CBronte_Professor0023.txt', 'CBronte_Professor0024.txt', 'CBronte_Professor0025.txt', 'CBronte_Professor0026.txt', 'CBronte_Professor0027.txt', 'CBronte_Professor0028.txt', 'CBronte_Professor0029.txt', 'CBronte_Professor0030.txt', 'CBronte_Professor0031.txt', 'CBronte_Professor0032.txt', 'CBronte_Professor0033.txt', 'CBronte_Professor0034.txt', 'CBronte_Professor0035.txt', 'CBronte_Professor0036.txt', 'CBronte_Professor0037.txt', 'CBronte_Professor0038.txt', 'CBronte_Professor0039.txt', 'CBronte_Professor0040.txt', 'CBronte_Professor0041.txt', 'CBronte_Professor0042.txt', 'CBronte_Professor0043.txt', 'CBronte_Professor0044.txt', 'CBronte_Professor0045.txt', 'CBronte_Professor0046.txt', 'CBronte_Professor0047.txt', 'CBronte_Professor0048.txt', 'CBronte_Professor0049.txt', 'CBronte_Professor0050.txt', 'CBronte_Professor0051.txt', 'CBronte_Professor0052.txt', 'CBronte_Professor0053.txt', 'CBronte_Professor0054.txt', 'CBronte_Professor0055.txt', 'CBronte_Professor0056.txt', 'CBronte_Professor0057.txt', 'CBronte_Professor0058.txt', 'CBronte_Professor0059.txt', 'CBronte_Professor0060.txt', 'CBronte_Professor0061.txt', 'CBronte_Professor0062.txt', 'CBronte_Professor0063.txt', 'CBronte_Professor0064.txt', 'CBronte_Professor0065.txt', 'CBronte_Professor0066.txt', 'CBronte_Professor0067.txt', 'CBronte_Professor0068.txt', 'CBronte_Professor0069.txt', 'CBronte_Professor0070.txt', 'CBronte_Professor0071.txt', 'CBronte_Professor0072.txt', 'CBronte_Professor0073.txt', 'CBronte_Professor0074.txt', 'CBronte_Professor0075.txt', 'CBronte_Professor0076.txt', 'CBronte_Professor0077.txt', 'CBronte_Professor0078.txt', 'CBronte_Professor0079.txt', 'CBronte_Professor0080.txt', 'CBronte_Villette0000.txt', 'CBronte_Villette0001.txt', 'CBronte_Villette0002.txt', 'CBronte_Villette0003.txt', 'CBronte_Villette0004.txt', 'CBronte_Villette0005.txt', 'CBronte_Villette0006.txt', 'CBronte_Villette0007.txt', 'CBronte_Villette0008.txt', 'CBronte_Villette0009.txt', 'CBronte_Villette0010.txt', 'CBronte_Villette0011.txt', 'CBronte_Villette0012.txt', 'CBronte_Villette0013.txt', 'CBronte_Villette0014.txt', 'CBronte_Villette0015.txt', 'CBronte_Villette0016.txt', 'CBronte_Villette0017.txt', 'CBronte_Villette0018.txt', 'CBronte_Villette0019.txt', 'CBronte_Villette0020.txt', 'CBronte_Villette0021.txt', 'CBronte_Villette0022.txt', 'CBronte_Villette0023.txt', 'CBronte_Villette0024.txt', 'CBronte_Villette0025.txt', 'CBronte_Villette0026.txt', 'CBronte_Villette0027.txt', 'CBronte_Villette0028.txt', 'CBronte_Villette0029.txt', 'CBronte_Villette0030.txt', 'CBronte_Villette0031.txt', 'CBronte_Villette0032.txt', 'CBronte_Villette0033.txt', 'CBronte_Villette0034.txt', 'CBronte_Villette0035.txt', 'CBronte_Villette0036.txt', 'CBronte_Villette0037.txt', 'CBronte_Villette0038.txt', 'CBronte_Villette0039.txt', 'CBronte_Villette0040.txt', 'CBronte_Villette0041.txt', 'CBronte_Villette0042.txt', 'CBronte_Villette0043.txt', 'CBronte_Villette0044.txt', 'CBronte_Villette0045.txt', 'CBronte_Villette0046.txt', 'CBronte_Villette0047.txt', 'CBronte_Villette0048.txt', 'CBronte_Villette0049.txt', 'CBronte_Villette0050.txt', 'CBronte_Villette0051.txt', 'CBronte_Villette0052.txt', 'CBronte_Villette0053.txt', 'CBronte_Villette0054.txt', 'CBronte_Villette0055.txt', 'CBronte_Villette0056.txt', 'CBronte_Villette0057.txt', 'CBronte_Villette0058.txt', 'CBronte_Villette0059.txt', 'CBronte_Villette0060.txt', 'CBronte_Villette0061.txt', 'CBronte_Villette0062.txt', 'CBronte_Villette0063.txt', 'CBronte_Villette0064.txt', 'CBronte_Villette0065.txt', 'CBronte_Villette0066.txt', 'CBronte_Villette0067.txt', 'CBronte_Villette0068.txt', 'CBronte_Villette0069.txt', 'CBronte_Villette0070.txt', 'CBronte_Villette0071.txt', 'CBronte_Villette0072.txt', 'CBronte_Villette0073.txt', 'CBronte_Villette0074.txt', 'CBronte_Villette0075.txt', 'CBronte_Villette0076.txt', 'CBronte_Villette0077.txt', 'CBronte_Villette0078.txt', 'CBronte_Villette0079.txt', 'CBronte_Villette0080.txt', 'CBronte_Villette0081.txt', 'CBronte_Villette0082.txt', 'CBronte_Villette0083.txt', 'CBronte_Villette0084.txt', 'CBronte_Villette0085.txt', 'CBronte_Villette0086.txt', 'CBronte_Villette0087.txt', 'CBronte_Villette0088.txt', 'CBronte_Villette0089.txt', 'CBronte_Villette0090.txt', 'CBronte_Villette0091.txt', 'CBronte_Villette0092.txt', 'CBronte_Villette0093.txt', 'CBronte_Villette0094.txt', 'CBronte_Villette0095.txt', 'CBronte_Villette0096.txt', 'CBronte_Villette0097.txt', 'CBronte_Villette0098.txt', 'CBronte_Villette0099.txt', 'CBronte_Villette0100.txt', 'CBronte_Villette0101.txt', 'CBronte_Villette0102.txt', 'CBronte_Villette0103.txt', 'CBronte_Villette0104.txt', 'CBronte_Villette0105.txt', 'CBronte_Villette0106.txt', 'CBronte_Villette0107.txt', 'CBronte_Villette0108.txt', 'CBronte_Villette0109.txt', 'CBronte_Villette0110.txt', 'CBronte_Villette0111.txt', 'CBronte_Villette0112.txt', 'CBronte_Villette0113.txt', 'CBronte_Villette0114.txt', 'CBronte_Villette0115.txt', 'CBronte_Villette0116.txt', 'CBronte_Villette0117.txt', 'CBronte_Villette0118.txt', 'CBronte_Villette0119.txt', 'CBronte_Villette0120.txt', 'CBronte_Villette0121.txt', 'CBronte_Villette0122.txt', 'CBronte_Villette0123.txt', 'CBronte_Villette0124.txt', 'CBronte_Villette0125.txt', 'CBronte_Villette0126.txt', 'CBronte_Villette0127.txt', 'CBronte_Villette0128.txt', 'CBronte_Villette0129.txt', 'CBronte_Villette0130.txt', 'CBronte_Villette0131.txt', 'CBronte_Villette0132.txt', 'CBronte_Villette0133.txt', 'CBronte_Villette0134.txt', 'CBronte_Villette0135.txt', 'CBronte_Villette0136.txt', 'CBronte_Villette0137.txt', 'CBronte_Villette0138.txt', 'CBronte_Villette0139.txt', 'CBronte_Villette0140.txt', 'CBronte_Villette0141.txt', 'CBronte_Villette0142.txt', 'CBronte_Villette0143.txt', 'CBronte_Villette0144.txt', 'CBronte_Villette0145.txt', 'CBronte_Villette0146.txt', 'CBronte_Villette0147.txt', 'CBronte_Villette0148.txt', 'CBronte_Villette0149.txt', 'CBronte_Villette0150.txt', 'CBronte_Villette0151.txt', 'CBronte_Villette0152.txt', 'CBronte_Villette0153.txt', 'CBronte_Villette0154.txt', 'CBronte_Villette0155.txt', 'CBronte_Villette0156.txt', 'CBronte_Villette0157.txt', 'CBronte_Villette0158.txt', 'CBronte_Villette0159.txt', 'CBronte_Villette0160.txt', 'CBronte_Villette0161.txt', 'CBronte_Villette0162.txt', 'CBronte_Villette0163.txt', 'CBronte_Villette0164.txt', 'CBronte_Villette0165.txt', 'CBronte_Villette0166.txt', 'CBronte_Villette0167.txt', 'CBronte_Villette0168.txt', 'CBronte_Villette0169.txt', 'CBronte_Villette0170.txt', 'CBronte_Villette0171.txt', 'CBronte_Villette0172.txt', 'CBronte_Villette0173.txt', 'CBronte_Villette0174.txt']\n",
      "['data/austen-brontë-split/Austen_Emma0000.txt', 'data/austen-brontë-split/Austen_Emma0001.txt', 'data/austen-brontë-split/Austen_Emma0002.txt', 'data/austen-brontë-split/Austen_Emma0003.txt', 'data/austen-brontë-split/Austen_Emma0004.txt', 'data/austen-brontë-split/Austen_Emma0005.txt', 'data/austen-brontë-split/Austen_Emma0006.txt', 'data/austen-brontë-split/Austen_Emma0007.txt', 'data/austen-brontë-split/Austen_Emma0008.txt', 'data/austen-brontë-split/Austen_Emma0009.txt', 'data/austen-brontë-split/Austen_Emma0010.txt', 'data/austen-brontë-split/Austen_Emma0011.txt', 'data/austen-brontë-split/Austen_Emma0012.txt', 'data/austen-brontë-split/Austen_Emma0013.txt', 'data/austen-brontë-split/Austen_Emma0014.txt', 'data/austen-brontë-split/Austen_Emma0015.txt', 'data/austen-brontë-split/Austen_Emma0016.txt', 'data/austen-brontë-split/Austen_Emma0017.txt', 'data/austen-brontë-split/Austen_Emma0018.txt', 'data/austen-brontë-split/Austen_Emma0019.txt', 'data/austen-brontë-split/Austen_Emma0020.txt', 'data/austen-brontë-split/Austen_Emma0021.txt', 'data/austen-brontë-split/Austen_Emma0022.txt', 'data/austen-brontë-split/Austen_Emma0023.txt', 'data/austen-brontë-split/Austen_Emma0024.txt', 'data/austen-brontë-split/Austen_Emma0025.txt', 'data/austen-brontë-split/Austen_Emma0026.txt', 'data/austen-brontë-split/Austen_Emma0027.txt', 'data/austen-brontë-split/Austen_Emma0028.txt', 'data/austen-brontë-split/Austen_Emma0029.txt', 'data/austen-brontë-split/Austen_Emma0030.txt', 'data/austen-brontë-split/Austen_Emma0031.txt', 'data/austen-brontë-split/Austen_Emma0032.txt', 'data/austen-brontë-split/Austen_Emma0033.txt', 'data/austen-brontë-split/Austen_Emma0034.txt', 'data/austen-brontë-split/Austen_Emma0035.txt', 'data/austen-brontë-split/Austen_Emma0036.txt', 'data/austen-brontë-split/Austen_Emma0037.txt', 'data/austen-brontë-split/Austen_Emma0038.txt', 'data/austen-brontë-split/Austen_Emma0039.txt', 'data/austen-brontë-split/Austen_Emma0040.txt', 'data/austen-brontë-split/Austen_Emma0041.txt', 'data/austen-brontë-split/Austen_Emma0042.txt', 'data/austen-brontë-split/Austen_Emma0043.txt', 'data/austen-brontë-split/Austen_Emma0044.txt', 'data/austen-brontë-split/Austen_Emma0045.txt', 'data/austen-brontë-split/Austen_Emma0046.txt', 'data/austen-brontë-split/Austen_Emma0047.txt', 'data/austen-brontë-split/Austen_Emma0048.txt', 'data/austen-brontë-split/Austen_Emma0049.txt', 'data/austen-brontë-split/Austen_Emma0050.txt', 'data/austen-brontë-split/Austen_Emma0051.txt', 'data/austen-brontë-split/Austen_Emma0052.txt', 'data/austen-brontë-split/Austen_Emma0053.txt', 'data/austen-brontë-split/Austen_Emma0054.txt', 'data/austen-brontë-split/Austen_Emma0055.txt', 'data/austen-brontë-split/Austen_Emma0056.txt', 'data/austen-brontë-split/Austen_Emma0057.txt', 'data/austen-brontë-split/Austen_Emma0058.txt', 'data/austen-brontë-split/Austen_Emma0059.txt', 'data/austen-brontë-split/Austen_Emma0060.txt', 'data/austen-brontë-split/Austen_Emma0061.txt', 'data/austen-brontë-split/Austen_Emma0062.txt', 'data/austen-brontë-split/Austen_Emma0063.txt', 'data/austen-brontë-split/Austen_Emma0064.txt', 'data/austen-brontë-split/Austen_Emma0065.txt', 'data/austen-brontë-split/Austen_Emma0066.txt', 'data/austen-brontë-split/Austen_Emma0067.txt', 'data/austen-brontë-split/Austen_Emma0068.txt', 'data/austen-brontë-split/Austen_Emma0069.txt', 'data/austen-brontë-split/Austen_Emma0070.txt', 'data/austen-brontë-split/Austen_Emma0071.txt', 'data/austen-brontë-split/Austen_Emma0072.txt', 'data/austen-brontë-split/Austen_Emma0073.txt', 'data/austen-brontë-split/Austen_Emma0074.txt', 'data/austen-brontë-split/Austen_Emma0075.txt', 'data/austen-brontë-split/Austen_Emma0076.txt', 'data/austen-brontë-split/Austen_Emma0077.txt', 'data/austen-brontë-split/Austen_Emma0078.txt', 'data/austen-brontë-split/Austen_Emma0079.txt', 'data/austen-brontë-split/Austen_Emma0080.txt', 'data/austen-brontë-split/Austen_Emma0081.txt', 'data/austen-brontë-split/Austen_Emma0082.txt', 'data/austen-brontë-split/Austen_Emma0083.txt', 'data/austen-brontë-split/Austen_Emma0084.txt', 'data/austen-brontë-split/Austen_Emma0085.txt', 'data/austen-brontë-split/Austen_Emma0086.txt', 'data/austen-brontë-split/Austen_Emma0087.txt', 'data/austen-brontë-split/Austen_Emma0088.txt', 'data/austen-brontë-split/Austen_Emma0089.txt', 'data/austen-brontë-split/Austen_Emma0090.txt', 'data/austen-brontë-split/Austen_Emma0091.txt', 'data/austen-brontë-split/Austen_Emma0092.txt', 'data/austen-brontë-split/Austen_Emma0093.txt', 'data/austen-brontë-split/Austen_Emma0094.txt', 'data/austen-brontë-split/Austen_Emma0095.txt', 'data/austen-brontë-split/Austen_Emma0096.txt', 'data/austen-brontë-split/Austen_Emma0097.txt', 'data/austen-brontë-split/Austen_Emma0098.txt', 'data/austen-brontë-split/Austen_Emma0099.txt', 'data/austen-brontë-split/Austen_Emma0100.txt', 'data/austen-brontë-split/Austen_Emma0101.txt', 'data/austen-brontë-split/Austen_Emma0102.txt', 'data/austen-brontë-split/Austen_Emma0103.txt', 'data/austen-brontë-split/Austen_Emma0104.txt', 'data/austen-brontë-split/Austen_Emma0105.txt', 'data/austen-brontë-split/Austen_Emma0106.txt', 'data/austen-brontë-split/Austen_Emma0107.txt', 'data/austen-brontë-split/Austen_Emma0108.txt', 'data/austen-brontë-split/Austen_Emma0109.txt', 'data/austen-brontë-split/Austen_Emma0110.txt', 'data/austen-brontë-split/Austen_Emma0111.txt', 'data/austen-brontë-split/Austen_Emma0112.txt', 'data/austen-brontë-split/Austen_Emma0113.txt', 'data/austen-brontë-split/Austen_Emma0114.txt', 'data/austen-brontë-split/Austen_Emma0115.txt', 'data/austen-brontë-split/Austen_Emma0116.txt', 'data/austen-brontë-split/Austen_Emma0117.txt', 'data/austen-brontë-split/Austen_Emma0118.txt', 'data/austen-brontë-split/Austen_Emma0119.txt', 'data/austen-brontë-split/Austen_Emma0120.txt', 'data/austen-brontë-split/Austen_Emma0121.txt', 'data/austen-brontë-split/Austen_Emma0122.txt', 'data/austen-brontë-split/Austen_Emma0123.txt', 'data/austen-brontë-split/Austen_Emma0124.txt', 'data/austen-brontë-split/Austen_Emma0125.txt', 'data/austen-brontë-split/Austen_Emma0126.txt', 'data/austen-brontë-split/Austen_Emma0127.txt', 'data/austen-brontë-split/Austen_Emma0128.txt', 'data/austen-brontë-split/Austen_Emma0129.txt', 'data/austen-brontë-split/Austen_Emma0130.txt', 'data/austen-brontë-split/Austen_Emma0131.txt', 'data/austen-brontë-split/Austen_Emma0132.txt', 'data/austen-brontë-split/Austen_Emma0133.txt', 'data/austen-brontë-split/Austen_Emma0134.txt', 'data/austen-brontë-split/Austen_Emma0135.txt', 'data/austen-brontë-split/Austen_Emma0136.txt', 'data/austen-brontë-split/Austen_Emma0137.txt', 'data/austen-brontë-split/Austen_Emma0138.txt', 'data/austen-brontë-split/Austen_Emma0139.txt', 'data/austen-brontë-split/Austen_Emma0140.txt', 'data/austen-brontë-split/Austen_Emma0141.txt', 'data/austen-brontë-split/Austen_Emma0142.txt', 'data/austen-brontë-split/Austen_Emma0143.txt', 'data/austen-brontë-split/Austen_Pride0000.txt', 'data/austen-brontë-split/Austen_Pride0001.txt', 'data/austen-brontë-split/Austen_Pride0002.txt', 'data/austen-brontë-split/Austen_Pride0003.txt', 'data/austen-brontë-split/Austen_Pride0004.txt', 'data/austen-brontë-split/Austen_Pride0005.txt', 'data/austen-brontë-split/Austen_Pride0006.txt', 'data/austen-brontë-split/Austen_Pride0007.txt', 'data/austen-brontë-split/Austen_Pride0008.txt', 'data/austen-brontë-split/Austen_Pride0009.txt', 'data/austen-brontë-split/Austen_Pride0010.txt', 'data/austen-brontë-split/Austen_Pride0011.txt', 'data/austen-brontë-split/Austen_Pride0012.txt', 'data/austen-brontë-split/Austen_Pride0013.txt', 'data/austen-brontë-split/Austen_Pride0014.txt', 'data/austen-brontë-split/Austen_Pride0015.txt', 'data/austen-brontë-split/Austen_Pride0016.txt', 'data/austen-brontë-split/Austen_Pride0017.txt', 'data/austen-brontë-split/Austen_Pride0018.txt', 'data/austen-brontë-split/Austen_Pride0019.txt', 'data/austen-brontë-split/Austen_Pride0020.txt', 'data/austen-brontë-split/Austen_Pride0021.txt', 'data/austen-brontë-split/Austen_Pride0022.txt', 'data/austen-brontë-split/Austen_Pride0023.txt', 'data/austen-brontë-split/Austen_Pride0024.txt', 'data/austen-brontë-split/Austen_Pride0025.txt', 'data/austen-brontë-split/Austen_Pride0026.txt', 'data/austen-brontë-split/Austen_Pride0027.txt', 'data/austen-brontë-split/Austen_Pride0028.txt', 'data/austen-brontë-split/Austen_Pride0029.txt', 'data/austen-brontë-split/Austen_Pride0030.txt', 'data/austen-brontë-split/Austen_Pride0031.txt', 'data/austen-brontë-split/Austen_Pride0032.txt', 'data/austen-brontë-split/Austen_Pride0033.txt', 'data/austen-brontë-split/Austen_Pride0034.txt', 'data/austen-brontë-split/Austen_Pride0035.txt', 'data/austen-brontë-split/Austen_Pride0036.txt', 'data/austen-brontë-split/Austen_Pride0037.txt', 'data/austen-brontë-split/Austen_Pride0038.txt', 'data/austen-brontë-split/Austen_Pride0039.txt', 'data/austen-brontë-split/Austen_Pride0040.txt', 'data/austen-brontë-split/Austen_Pride0041.txt', 'data/austen-brontë-split/Austen_Pride0042.txt', 'data/austen-brontë-split/Austen_Pride0043.txt', 'data/austen-brontë-split/Austen_Pride0044.txt', 'data/austen-brontë-split/Austen_Pride0045.txt', 'data/austen-brontë-split/Austen_Pride0046.txt', 'data/austen-brontë-split/Austen_Pride0047.txt', 'data/austen-brontë-split/Austen_Pride0048.txt', 'data/austen-brontë-split/Austen_Pride0049.txt', 'data/austen-brontë-split/Austen_Pride0050.txt', 'data/austen-brontë-split/Austen_Pride0051.txt', 'data/austen-brontë-split/Austen_Pride0052.txt', 'data/austen-brontë-split/Austen_Pride0053.txt', 'data/austen-brontë-split/Austen_Pride0054.txt', 'data/austen-brontë-split/Austen_Pride0055.txt', 'data/austen-brontë-split/Austen_Pride0056.txt', 'data/austen-brontë-split/Austen_Pride0057.txt', 'data/austen-brontë-split/Austen_Pride0058.txt', 'data/austen-brontë-split/Austen_Pride0059.txt', 'data/austen-brontë-split/Austen_Pride0060.txt', 'data/austen-brontë-split/Austen_Pride0061.txt', 'data/austen-brontë-split/Austen_Pride0062.txt', 'data/austen-brontë-split/Austen_Pride0063.txt', 'data/austen-brontë-split/Austen_Pride0064.txt', 'data/austen-brontë-split/Austen_Pride0065.txt', 'data/austen-brontë-split/Austen_Pride0066.txt', 'data/austen-brontë-split/Austen_Pride0067.txt', 'data/austen-brontë-split/Austen_Pride0068.txt', 'data/austen-brontë-split/Austen_Pride0069.txt', 'data/austen-brontë-split/Austen_Pride0070.txt', 'data/austen-brontë-split/Austen_Pride0071.txt', 'data/austen-brontë-split/Austen_Pride0072.txt', 'data/austen-brontë-split/Austen_Pride0073.txt', 'data/austen-brontë-split/Austen_Pride0074.txt', 'data/austen-brontë-split/Austen_Pride0075.txt', 'data/austen-brontë-split/Austen_Pride0076.txt', 'data/austen-brontë-split/Austen_Pride0077.txt', 'data/austen-brontë-split/Austen_Pride0078.txt', 'data/austen-brontë-split/Austen_Pride0079.txt', 'data/austen-brontë-split/Austen_Pride0080.txt', 'data/austen-brontë-split/Austen_Pride0081.txt', 'data/austen-brontë-split/Austen_Pride0082.txt', 'data/austen-brontë-split/Austen_Pride0083.txt', 'data/austen-brontë-split/Austen_Pride0084.txt', 'data/austen-brontë-split/Austen_Pride0085.txt', 'data/austen-brontë-split/Austen_Pride0086.txt', 'data/austen-brontë-split/Austen_Pride0087.txt', 'data/austen-brontë-split/Austen_Pride0088.txt', 'data/austen-brontë-split/Austen_Pride0089.txt', 'data/austen-brontë-split/Austen_Pride0090.txt', 'data/austen-brontë-split/Austen_Pride0091.txt', 'data/austen-brontë-split/Austen_Pride0092.txt', 'data/austen-brontë-split/Austen_Pride0093.txt', 'data/austen-brontë-split/Austen_Pride0094.txt', 'data/austen-brontë-split/Austen_Pride0095.txt', 'data/austen-brontë-split/Austen_Pride0096.txt', 'data/austen-brontë-split/Austen_Pride0097.txt', 'data/austen-brontë-split/Austen_Pride0098.txt', 'data/austen-brontë-split/Austen_Pride0099.txt', 'data/austen-brontë-split/Austen_Pride0100.txt', 'data/austen-brontë-split/Austen_Pride0101.txt', 'data/austen-brontë-split/Austen_Pride0102.txt', 'data/austen-brontë-split/Austen_Pride0103.txt', 'data/austen-brontë-split/Austen_Pride0104.txt', 'data/austen-brontë-split/Austen_Pride0105.txt', 'data/austen-brontë-split/Austen_Pride0106.txt', 'data/austen-brontë-split/Austen_Pride0107.txt', 'data/austen-brontë-split/Austen_Pride0108.txt', 'data/austen-brontë-split/Austen_Pride0109.txt', 'data/austen-brontë-split/Austen_Pride0110.txt', 'data/austen-brontë-split/Austen_Pride0111.txt', 'data/austen-brontë-split/Austen_Pride0112.txt', 'data/austen-brontë-split/Austen_Pride0113.txt', 'data/austen-brontë-split/Austen_Pride0114.txt', 'data/austen-brontë-split/Austen_Pride0115.txt', 'data/austen-brontë-split/Austen_Pride0116.txt', 'data/austen-brontë-split/Austen_Pride0117.txt', 'data/austen-brontë-split/Austen_Pride0118.txt', 'data/austen-brontë-split/Austen_Pride0119.txt', 'data/austen-brontë-split/Austen_Sense0000.txt', 'data/austen-brontë-split/Austen_Sense0001.txt', 'data/austen-brontë-split/Austen_Sense0002.txt', 'data/austen-brontë-split/Austen_Sense0003.txt', 'data/austen-brontë-split/Austen_Sense0004.txt', 'data/austen-brontë-split/Austen_Sense0005.txt', 'data/austen-brontë-split/Austen_Sense0006.txt', 'data/austen-brontë-split/Austen_Sense0007.txt', 'data/austen-brontë-split/Austen_Sense0008.txt', 'data/austen-brontë-split/Austen_Sense0009.txt', 'data/austen-brontë-split/Austen_Sense0010.txt', 'data/austen-brontë-split/Austen_Sense0011.txt', 'data/austen-brontë-split/Austen_Sense0012.txt', 'data/austen-brontë-split/Austen_Sense0013.txt', 'data/austen-brontë-split/Austen_Sense0014.txt', 'data/austen-brontë-split/Austen_Sense0015.txt', 'data/austen-brontë-split/Austen_Sense0016.txt', 'data/austen-brontë-split/Austen_Sense0017.txt', 'data/austen-brontë-split/Austen_Sense0018.txt', 'data/austen-brontë-split/Austen_Sense0019.txt', 'data/austen-brontë-split/Austen_Sense0020.txt', 'data/austen-brontë-split/Austen_Sense0021.txt', 'data/austen-brontë-split/Austen_Sense0022.txt', 'data/austen-brontë-split/Austen_Sense0023.txt', 'data/austen-brontë-split/Austen_Sense0024.txt', 'data/austen-brontë-split/Austen_Sense0025.txt', 'data/austen-brontë-split/Austen_Sense0026.txt', 'data/austen-brontë-split/Austen_Sense0027.txt', 'data/austen-brontë-split/Austen_Sense0028.txt', 'data/austen-brontë-split/Austen_Sense0029.txt', 'data/austen-brontë-split/Austen_Sense0030.txt', 'data/austen-brontë-split/Austen_Sense0031.txt', 'data/austen-brontë-split/Austen_Sense0032.txt', 'data/austen-brontë-split/Austen_Sense0033.txt', 'data/austen-brontë-split/Austen_Sense0034.txt', 'data/austen-brontë-split/Austen_Sense0035.txt', 'data/austen-brontë-split/Austen_Sense0036.txt', 'data/austen-brontë-split/Austen_Sense0037.txt', 'data/austen-brontë-split/Austen_Sense0038.txt', 'data/austen-brontë-split/Austen_Sense0039.txt', 'data/austen-brontë-split/Austen_Sense0040.txt', 'data/austen-brontë-split/Austen_Sense0041.txt', 'data/austen-brontë-split/Austen_Sense0042.txt', 'data/austen-brontë-split/Austen_Sense0043.txt', 'data/austen-brontë-split/Austen_Sense0044.txt', 'data/austen-brontë-split/Austen_Sense0045.txt', 'data/austen-brontë-split/Austen_Sense0046.txt', 'data/austen-brontë-split/Austen_Sense0047.txt', 'data/austen-brontë-split/Austen_Sense0048.txt', 'data/austen-brontë-split/Austen_Sense0049.txt', 'data/austen-brontë-split/Austen_Sense0050.txt', 'data/austen-brontë-split/Austen_Sense0051.txt', 'data/austen-brontë-split/Austen_Sense0052.txt', 'data/austen-brontë-split/Austen_Sense0053.txt', 'data/austen-brontë-split/Austen_Sense0054.txt', 'data/austen-brontë-split/Austen_Sense0055.txt', 'data/austen-brontë-split/Austen_Sense0056.txt', 'data/austen-brontë-split/Austen_Sense0057.txt', 'data/austen-brontë-split/Austen_Sense0058.txt', 'data/austen-brontë-split/Austen_Sense0059.txt', 'data/austen-brontë-split/Austen_Sense0060.txt', 'data/austen-brontë-split/Austen_Sense0061.txt', 'data/austen-brontë-split/Austen_Sense0062.txt', 'data/austen-brontë-split/Austen_Sense0063.txt', 'data/austen-brontë-split/Austen_Sense0064.txt', 'data/austen-brontë-split/Austen_Sense0065.txt', 'data/austen-brontë-split/Austen_Sense0066.txt', 'data/austen-brontë-split/Austen_Sense0067.txt', 'data/austen-brontë-split/Austen_Sense0068.txt', 'data/austen-brontë-split/Austen_Sense0069.txt', 'data/austen-brontë-split/Austen_Sense0070.txt', 'data/austen-brontë-split/Austen_Sense0071.txt', 'data/austen-brontë-split/Austen_Sense0072.txt', 'data/austen-brontë-split/Austen_Sense0073.txt', 'data/austen-brontë-split/Austen_Sense0074.txt', 'data/austen-brontë-split/Austen_Sense0075.txt', 'data/austen-brontë-split/Austen_Sense0076.txt', 'data/austen-brontë-split/Austen_Sense0077.txt', 'data/austen-brontë-split/Austen_Sense0078.txt', 'data/austen-brontë-split/Austen_Sense0079.txt', 'data/austen-brontë-split/Austen_Sense0080.txt', 'data/austen-brontë-split/Austen_Sense0081.txt', 'data/austen-brontë-split/Austen_Sense0082.txt', 'data/austen-brontë-split/Austen_Sense0083.txt', 'data/austen-brontë-split/Austen_Sense0084.txt', 'data/austen-brontë-split/Austen_Sense0085.txt', 'data/austen-brontë-split/Austen_Sense0086.txt', 'data/austen-brontë-split/Austen_Sense0087.txt', 'data/austen-brontë-split/Austen_Sense0088.txt', 'data/austen-brontë-split/Austen_Sense0089.txt', 'data/austen-brontë-split/Austen_Sense0090.txt', 'data/austen-brontë-split/Austen_Sense0091.txt', 'data/austen-brontë-split/Austen_Sense0092.txt', 'data/austen-brontë-split/Austen_Sense0093.txt', 'data/austen-brontë-split/Austen_Sense0094.txt', 'data/austen-brontë-split/Austen_Sense0095.txt', 'data/austen-brontë-split/Austen_Sense0096.txt', 'data/austen-brontë-split/Austen_Sense0097.txt', 'data/austen-brontë-split/Austen_Sense0098.txt', 'data/austen-brontë-split/Austen_Sense0099.txt', 'data/austen-brontë-split/Austen_Sense0100.txt', 'data/austen-brontë-split/Austen_Sense0101.txt', 'data/austen-brontë-split/Austen_Sense0102.txt', 'data/austen-brontë-split/Austen_Sense0103.txt', 'data/austen-brontë-split/Austen_Sense0104.txt', 'data/austen-brontë-split/Austen_Sense0105.txt', 'data/austen-brontë-split/Austen_Sense0106.txt', 'data/austen-brontë-split/Austen_Sense0107.txt', 'data/austen-brontë-split/CBronte_Jane0000.txt', 'data/austen-brontë-split/CBronte_Jane0001.txt', 'data/austen-brontë-split/CBronte_Jane0002.txt', 'data/austen-brontë-split/CBronte_Jane0003.txt', 'data/austen-brontë-split/CBronte_Jane0004.txt', 'data/austen-brontë-split/CBronte_Jane0005.txt', 'data/austen-brontë-split/CBronte_Jane0006.txt', 'data/austen-brontë-split/CBronte_Jane0007.txt', 'data/austen-brontë-split/CBronte_Jane0008.txt', 'data/austen-brontë-split/CBronte_Jane0009.txt', 'data/austen-brontë-split/CBronte_Jane0010.txt', 'data/austen-brontë-split/CBronte_Jane0011.txt', 'data/austen-brontë-split/CBronte_Jane0012.txt', 'data/austen-brontë-split/CBronte_Jane0013.txt', 'data/austen-brontë-split/CBronte_Jane0014.txt', 'data/austen-brontë-split/CBronte_Jane0015.txt', 'data/austen-brontë-split/CBronte_Jane0016.txt', 'data/austen-brontë-split/CBronte_Jane0017.txt', 'data/austen-brontë-split/CBronte_Jane0018.txt', 'data/austen-brontë-split/CBronte_Jane0019.txt', 'data/austen-brontë-split/CBronte_Jane0020.txt', 'data/austen-brontë-split/CBronte_Jane0021.txt', 'data/austen-brontë-split/CBronte_Jane0022.txt', 'data/austen-brontë-split/CBronte_Jane0023.txt', 'data/austen-brontë-split/CBronte_Jane0024.txt', 'data/austen-brontë-split/CBronte_Jane0025.txt', 'data/austen-brontë-split/CBronte_Jane0026.txt', 'data/austen-brontë-split/CBronte_Jane0027.txt', 'data/austen-brontë-split/CBronte_Jane0028.txt', 'data/austen-brontë-split/CBronte_Jane0029.txt', 'data/austen-brontë-split/CBronte_Jane0030.txt', 'data/austen-brontë-split/CBronte_Jane0031.txt', 'data/austen-brontë-split/CBronte_Jane0032.txt', 'data/austen-brontë-split/CBronte_Jane0033.txt', 'data/austen-brontë-split/CBronte_Jane0034.txt', 'data/austen-brontë-split/CBronte_Jane0035.txt', 'data/austen-brontë-split/CBronte_Jane0036.txt', 'data/austen-brontë-split/CBronte_Jane0037.txt', 'data/austen-brontë-split/CBronte_Jane0038.txt', 'data/austen-brontë-split/CBronte_Jane0039.txt', 'data/austen-brontë-split/CBronte_Jane0040.txt', 'data/austen-brontë-split/CBronte_Jane0041.txt', 'data/austen-brontë-split/CBronte_Jane0042.txt', 'data/austen-brontë-split/CBronte_Jane0043.txt', 'data/austen-brontë-split/CBronte_Jane0044.txt', 'data/austen-brontë-split/CBronte_Jane0045.txt', 'data/austen-brontë-split/CBronte_Jane0046.txt', 'data/austen-brontë-split/CBronte_Jane0047.txt', 'data/austen-brontë-split/CBronte_Jane0048.txt', 'data/austen-brontë-split/CBronte_Jane0049.txt', 'data/austen-brontë-split/CBronte_Jane0050.txt', 'data/austen-brontë-split/CBronte_Jane0051.txt', 'data/austen-brontë-split/CBronte_Jane0052.txt', 'data/austen-brontë-split/CBronte_Jane0053.txt', 'data/austen-brontë-split/CBronte_Jane0054.txt', 'data/austen-brontë-split/CBronte_Jane0055.txt', 'data/austen-brontë-split/CBronte_Jane0056.txt', 'data/austen-brontë-split/CBronte_Jane0057.txt', 'data/austen-brontë-split/CBronte_Jane0058.txt', 'data/austen-brontë-split/CBronte_Jane0059.txt', 'data/austen-brontë-split/CBronte_Jane0060.txt', 'data/austen-brontë-split/CBronte_Jane0061.txt', 'data/austen-brontë-split/CBronte_Jane0062.txt', 'data/austen-brontë-split/CBronte_Jane0063.txt', 'data/austen-brontë-split/CBronte_Jane0064.txt', 'data/austen-brontë-split/CBronte_Jane0065.txt', 'data/austen-brontë-split/CBronte_Jane0066.txt', 'data/austen-brontë-split/CBronte_Jane0067.txt', 'data/austen-brontë-split/CBronte_Jane0068.txt', 'data/austen-brontë-split/CBronte_Jane0069.txt', 'data/austen-brontë-split/CBronte_Jane0070.txt', 'data/austen-brontë-split/CBronte_Jane0071.txt', 'data/austen-brontë-split/CBronte_Jane0072.txt', 'data/austen-brontë-split/CBronte_Jane0073.txt', 'data/austen-brontë-split/CBronte_Jane0074.txt', 'data/austen-brontë-split/CBronte_Jane0075.txt', 'data/austen-brontë-split/CBronte_Jane0076.txt', 'data/austen-brontë-split/CBronte_Jane0077.txt', 'data/austen-brontë-split/CBronte_Jane0078.txt', 'data/austen-brontë-split/CBronte_Jane0079.txt', 'data/austen-brontë-split/CBronte_Jane0080.txt', 'data/austen-brontë-split/CBronte_Jane0081.txt', 'data/austen-brontë-split/CBronte_Jane0082.txt', 'data/austen-brontë-split/CBronte_Jane0083.txt', 'data/austen-brontë-split/CBronte_Jane0084.txt', 'data/austen-brontë-split/CBronte_Jane0085.txt', 'data/austen-brontë-split/CBronte_Jane0086.txt', 'data/austen-brontë-split/CBronte_Jane0087.txt', 'data/austen-brontë-split/CBronte_Jane0088.txt', 'data/austen-brontë-split/CBronte_Jane0089.txt', 'data/austen-brontë-split/CBronte_Jane0090.txt', 'data/austen-brontë-split/CBronte_Jane0091.txt', 'data/austen-brontë-split/CBronte_Jane0092.txt', 'data/austen-brontë-split/CBronte_Jane0093.txt', 'data/austen-brontë-split/CBronte_Jane0094.txt', 'data/austen-brontë-split/CBronte_Jane0095.txt', 'data/austen-brontë-split/CBronte_Jane0096.txt', 'data/austen-brontë-split/CBronte_Jane0097.txt', 'data/austen-brontë-split/CBronte_Jane0098.txt', 'data/austen-brontë-split/CBronte_Jane0099.txt', 'data/austen-brontë-split/CBronte_Jane0100.txt', 'data/austen-brontë-split/CBronte_Jane0101.txt', 'data/austen-brontë-split/CBronte_Jane0102.txt', 'data/austen-brontë-split/CBronte_Jane0103.txt', 'data/austen-brontë-split/CBronte_Jane0104.txt', 'data/austen-brontë-split/CBronte_Jane0105.txt', 'data/austen-brontë-split/CBronte_Jane0106.txt', 'data/austen-brontë-split/CBronte_Jane0107.txt', 'data/austen-brontë-split/CBronte_Jane0108.txt', 'data/austen-brontë-split/CBronte_Jane0109.txt', 'data/austen-brontë-split/CBronte_Jane0110.txt', 'data/austen-brontë-split/CBronte_Jane0111.txt', 'data/austen-brontë-split/CBronte_Jane0112.txt', 'data/austen-brontë-split/CBronte_Jane0113.txt', 'data/austen-brontë-split/CBronte_Jane0114.txt', 'data/austen-brontë-split/CBronte_Jane0115.txt', 'data/austen-brontë-split/CBronte_Jane0116.txt', 'data/austen-brontë-split/CBronte_Jane0117.txt', 'data/austen-brontë-split/CBronte_Jane0118.txt', 'data/austen-brontë-split/CBronte_Jane0119.txt', 'data/austen-brontë-split/CBronte_Jane0120.txt', 'data/austen-brontë-split/CBronte_Jane0121.txt', 'data/austen-brontë-split/CBronte_Jane0122.txt', 'data/austen-brontë-split/CBronte_Jane0123.txt', 'data/austen-brontë-split/CBronte_Jane0124.txt', 'data/austen-brontë-split/CBronte_Jane0125.txt', 'data/austen-brontë-split/CBronte_Jane0126.txt', 'data/austen-brontë-split/CBronte_Jane0127.txt', 'data/austen-brontë-split/CBronte_Jane0128.txt', 'data/austen-brontë-split/CBronte_Jane0129.txt', 'data/austen-brontë-split/CBronte_Jane0130.txt', 'data/austen-brontë-split/CBronte_Jane0131.txt', 'data/austen-brontë-split/CBronte_Jane0132.txt', 'data/austen-brontë-split/CBronte_Jane0133.txt', 'data/austen-brontë-split/CBronte_Jane0134.txt', 'data/austen-brontë-split/CBronte_Jane0135.txt', 'data/austen-brontë-split/CBronte_Jane0136.txt', 'data/austen-brontë-split/CBronte_Jane0137.txt', 'data/austen-brontë-split/CBronte_Jane0138.txt', 'data/austen-brontë-split/CBronte_Jane0139.txt', 'data/austen-brontë-split/CBronte_Jane0140.txt', 'data/austen-brontë-split/CBronte_Jane0141.txt', 'data/austen-brontë-split/CBronte_Jane0142.txt', 'data/austen-brontë-split/CBronte_Jane0143.txt', 'data/austen-brontë-split/CBronte_Jane0144.txt', 'data/austen-brontë-split/CBronte_Jane0145.txt', 'data/austen-brontë-split/CBronte_Jane0146.txt', 'data/austen-brontë-split/CBronte_Jane0147.txt', 'data/austen-brontë-split/CBronte_Jane0148.txt', 'data/austen-brontë-split/CBronte_Jane0149.txt', 'data/austen-brontë-split/CBronte_Jane0150.txt', 'data/austen-brontë-split/CBronte_Jane0151.txt', 'data/austen-brontë-split/CBronte_Jane0152.txt', 'data/austen-brontë-split/CBronte_Jane0153.txt', 'data/austen-brontë-split/CBronte_Jane0154.txt', 'data/austen-brontë-split/CBronte_Jane0155.txt', 'data/austen-brontë-split/CBronte_Jane0156.txt', 'data/austen-brontë-split/CBronte_Jane0157.txt', 'data/austen-brontë-split/CBronte_Jane0158.txt', 'data/austen-brontë-split/CBronte_Jane0159.txt', 'data/austen-brontë-split/CBronte_Jane0160.txt', 'data/austen-brontë-split/CBronte_Jane0161.txt', 'data/austen-brontë-split/CBronte_Jane0162.txt', 'data/austen-brontë-split/CBronte_Jane0163.txt', 'data/austen-brontë-split/CBronte_Jane0164.txt', 'data/austen-brontë-split/CBronte_Jane0165.txt', 'data/austen-brontë-split/CBronte_Jane0166.txt', 'data/austen-brontë-split/CBronte_Jane0167.txt', 'data/austen-brontë-split/CBronte_Jane0168.txt', 'data/austen-brontë-split/CBronte_Jane0169.txt', 'data/austen-brontë-split/CBronte_Jane0170.txt', 'data/austen-brontë-split/CBronte_Jane0171.txt', 'data/austen-brontë-split/CBronte_Jane0172.txt', 'data/austen-brontë-split/CBronte_Jane0173.txt', 'data/austen-brontë-split/CBronte_Jane0174.txt', 'data/austen-brontë-split/CBronte_Jane0175.txt', 'data/austen-brontë-split/CBronte_Jane0176.txt', 'data/austen-brontë-split/CBronte_Jane0177.txt', 'data/austen-brontë-split/CBronte_Jane0178.txt', 'data/austen-brontë-split/CBronte_Jane0179.txt', 'data/austen-brontë-split/CBronte_Jane0180.txt', 'data/austen-brontë-split/CBronte_Jane0181.txt', 'data/austen-brontë-split/CBronte_Jane0182.txt', 'data/austen-brontë-split/CBronte_Jane0183.txt', 'data/austen-brontë-split/CBronte_Jane0184.txt', 'data/austen-brontë-split/CBronte_Professor0000.txt', 'data/austen-brontë-split/CBronte_Professor0001.txt', 'data/austen-brontë-split/CBronte_Professor0002.txt', 'data/austen-brontë-split/CBronte_Professor0003.txt', 'data/austen-brontë-split/CBronte_Professor0004.txt', 'data/austen-brontë-split/CBronte_Professor0005.txt', 'data/austen-brontë-split/CBronte_Professor0006.txt', 'data/austen-brontë-split/CBronte_Professor0007.txt', 'data/austen-brontë-split/CBronte_Professor0008.txt', 'data/austen-brontë-split/CBronte_Professor0009.txt', 'data/austen-brontë-split/CBronte_Professor0010.txt', 'data/austen-brontë-split/CBronte_Professor0011.txt', 'data/austen-brontë-split/CBronte_Professor0012.txt', 'data/austen-brontë-split/CBronte_Professor0013.txt', 'data/austen-brontë-split/CBronte_Professor0014.txt', 'data/austen-brontë-split/CBronte_Professor0015.txt', 'data/austen-brontë-split/CBronte_Professor0016.txt', 'data/austen-brontë-split/CBronte_Professor0017.txt', 'data/austen-brontë-split/CBronte_Professor0018.txt', 'data/austen-brontë-split/CBronte_Professor0019.txt', 'data/austen-brontë-split/CBronte_Professor0020.txt', 'data/austen-brontë-split/CBronte_Professor0021.txt', 'data/austen-brontë-split/CBronte_Professor0022.txt', 'data/austen-brontë-split/CBronte_Professor0023.txt', 'data/austen-brontë-split/CBronte_Professor0024.txt', 'data/austen-brontë-split/CBronte_Professor0025.txt', 'data/austen-brontë-split/CBronte_Professor0026.txt', 'data/austen-brontë-split/CBronte_Professor0027.txt', 'data/austen-brontë-split/CBronte_Professor0028.txt', 'data/austen-brontë-split/CBronte_Professor0029.txt', 'data/austen-brontë-split/CBronte_Professor0030.txt', 'data/austen-brontë-split/CBronte_Professor0031.txt', 'data/austen-brontë-split/CBronte_Professor0032.txt', 'data/austen-brontë-split/CBronte_Professor0033.txt', 'data/austen-brontë-split/CBronte_Professor0034.txt', 'data/austen-brontë-split/CBronte_Professor0035.txt', 'data/austen-brontë-split/CBronte_Professor0036.txt', 'data/austen-brontë-split/CBronte_Professor0037.txt', 'data/austen-brontë-split/CBronte_Professor0038.txt', 'data/austen-brontë-split/CBronte_Professor0039.txt', 'data/austen-brontë-split/CBronte_Professor0040.txt', 'data/austen-brontë-split/CBronte_Professor0041.txt', 'data/austen-brontë-split/CBronte_Professor0042.txt', 'data/austen-brontë-split/CBronte_Professor0043.txt', 'data/austen-brontë-split/CBronte_Professor0044.txt', 'data/austen-brontë-split/CBronte_Professor0045.txt', 'data/austen-brontë-split/CBronte_Professor0046.txt', 'data/austen-brontë-split/CBronte_Professor0047.txt', 'data/austen-brontë-split/CBronte_Professor0048.txt', 'data/austen-brontë-split/CBronte_Professor0049.txt', 'data/austen-brontë-split/CBronte_Professor0050.txt', 'data/austen-brontë-split/CBronte_Professor0051.txt', 'data/austen-brontë-split/CBronte_Professor0052.txt', 'data/austen-brontë-split/CBronte_Professor0053.txt', 'data/austen-brontë-split/CBronte_Professor0054.txt', 'data/austen-brontë-split/CBronte_Professor0055.txt', 'data/austen-brontë-split/CBronte_Professor0056.txt', 'data/austen-brontë-split/CBronte_Professor0057.txt', 'data/austen-brontë-split/CBronte_Professor0058.txt', 'data/austen-brontë-split/CBronte_Professor0059.txt', 'data/austen-brontë-split/CBronte_Professor0060.txt', 'data/austen-brontë-split/CBronte_Professor0061.txt', 'data/austen-brontë-split/CBronte_Professor0062.txt', 'data/austen-brontë-split/CBronte_Professor0063.txt', 'data/austen-brontë-split/CBronte_Professor0064.txt', 'data/austen-brontë-split/CBronte_Professor0065.txt', 'data/austen-brontë-split/CBronte_Professor0066.txt', 'data/austen-brontë-split/CBronte_Professor0067.txt', 'data/austen-brontë-split/CBronte_Professor0068.txt', 'data/austen-brontë-split/CBronte_Professor0069.txt', 'data/austen-brontë-split/CBronte_Professor0070.txt', 'data/austen-brontë-split/CBronte_Professor0071.txt', 'data/austen-brontë-split/CBronte_Professor0072.txt', 'data/austen-brontë-split/CBronte_Professor0073.txt', 'data/austen-brontë-split/CBronte_Professor0074.txt', 'data/austen-brontë-split/CBronte_Professor0075.txt', 'data/austen-brontë-split/CBronte_Professor0076.txt', 'data/austen-brontë-split/CBronte_Professor0077.txt', 'data/austen-brontë-split/CBronte_Professor0078.txt', 'data/austen-brontë-split/CBronte_Professor0079.txt', 'data/austen-brontë-split/CBronte_Professor0080.txt', 'data/austen-brontë-split/CBronte_Villette0000.txt', 'data/austen-brontë-split/CBronte_Villette0001.txt', 'data/austen-brontë-split/CBronte_Villette0002.txt', 'data/austen-brontë-split/CBronte_Villette0003.txt', 'data/austen-brontë-split/CBronte_Villette0004.txt', 'data/austen-brontë-split/CBronte_Villette0005.txt', 'data/austen-brontë-split/CBronte_Villette0006.txt', 'data/austen-brontë-split/CBronte_Villette0007.txt', 'data/austen-brontë-split/CBronte_Villette0008.txt', 'data/austen-brontë-split/CBronte_Villette0009.txt', 'data/austen-brontë-split/CBronte_Villette0010.txt', 'data/austen-brontë-split/CBronte_Villette0011.txt', 'data/austen-brontë-split/CBronte_Villette0012.txt', 'data/austen-brontë-split/CBronte_Villette0013.txt', 'data/austen-brontë-split/CBronte_Villette0014.txt', 'data/austen-brontë-split/CBronte_Villette0015.txt', 'data/austen-brontë-split/CBronte_Villette0016.txt', 'data/austen-brontë-split/CBronte_Villette0017.txt', 'data/austen-brontë-split/CBronte_Villette0018.txt', 'data/austen-brontë-split/CBronte_Villette0019.txt', 'data/austen-brontë-split/CBronte_Villette0020.txt', 'data/austen-brontë-split/CBronte_Villette0021.txt', 'data/austen-brontë-split/CBronte_Villette0022.txt', 'data/austen-brontë-split/CBronte_Villette0023.txt', 'data/austen-brontë-split/CBronte_Villette0024.txt', 'data/austen-brontë-split/CBronte_Villette0025.txt', 'data/austen-brontë-split/CBronte_Villette0026.txt', 'data/austen-brontë-split/CBronte_Villette0027.txt', 'data/austen-brontë-split/CBronte_Villette0028.txt', 'data/austen-brontë-split/CBronte_Villette0029.txt', 'data/austen-brontë-split/CBronte_Villette0030.txt', 'data/austen-brontë-split/CBronte_Villette0031.txt', 'data/austen-brontë-split/CBronte_Villette0032.txt', 'data/austen-brontë-split/CBronte_Villette0033.txt', 'data/austen-brontë-split/CBronte_Villette0034.txt', 'data/austen-brontë-split/CBronte_Villette0035.txt', 'data/austen-brontë-split/CBronte_Villette0036.txt', 'data/austen-brontë-split/CBronte_Villette0037.txt', 'data/austen-brontë-split/CBronte_Villette0038.txt', 'data/austen-brontë-split/CBronte_Villette0039.txt', 'data/austen-brontë-split/CBronte_Villette0040.txt', 'data/austen-brontë-split/CBronte_Villette0041.txt', 'data/austen-brontë-split/CBronte_Villette0042.txt', 'data/austen-brontë-split/CBronte_Villette0043.txt', 'data/austen-brontë-split/CBronte_Villette0044.txt', 'data/austen-brontë-split/CBronte_Villette0045.txt', 'data/austen-brontë-split/CBronte_Villette0046.txt', 'data/austen-brontë-split/CBronte_Villette0047.txt', 'data/austen-brontë-split/CBronte_Villette0048.txt', 'data/austen-brontë-split/CBronte_Villette0049.txt', 'data/austen-brontë-split/CBronte_Villette0050.txt', 'data/austen-brontë-split/CBronte_Villette0051.txt', 'data/austen-brontë-split/CBronte_Villette0052.txt', 'data/austen-brontë-split/CBronte_Villette0053.txt', 'data/austen-brontë-split/CBronte_Villette0054.txt', 'data/austen-brontë-split/CBronte_Villette0055.txt', 'data/austen-brontë-split/CBronte_Villette0056.txt', 'data/austen-brontë-split/CBronte_Villette0057.txt', 'data/austen-brontë-split/CBronte_Villette0058.txt', 'data/austen-brontë-split/CBronte_Villette0059.txt', 'data/austen-brontë-split/CBronte_Villette0060.txt', 'data/austen-brontë-split/CBronte_Villette0061.txt', 'data/austen-brontë-split/CBronte_Villette0062.txt', 'data/austen-brontë-split/CBronte_Villette0063.txt', 'data/austen-brontë-split/CBronte_Villette0064.txt', 'data/austen-brontë-split/CBronte_Villette0065.txt', 'data/austen-brontë-split/CBronte_Villette0066.txt', 'data/austen-brontë-split/CBronte_Villette0067.txt', 'data/austen-brontë-split/CBronte_Villette0068.txt', 'data/austen-brontë-split/CBronte_Villette0069.txt', 'data/austen-brontë-split/CBronte_Villette0070.txt', 'data/austen-brontë-split/CBronte_Villette0071.txt', 'data/austen-brontë-split/CBronte_Villette0072.txt', 'data/austen-brontë-split/CBronte_Villette0073.txt', 'data/austen-brontë-split/CBronte_Villette0074.txt', 'data/austen-brontë-split/CBronte_Villette0075.txt', 'data/austen-brontë-split/CBronte_Villette0076.txt', 'data/austen-brontë-split/CBronte_Villette0077.txt', 'data/austen-brontë-split/CBronte_Villette0078.txt', 'data/austen-brontë-split/CBronte_Villette0079.txt', 'data/austen-brontë-split/CBronte_Villette0080.txt', 'data/austen-brontë-split/CBronte_Villette0081.txt', 'data/austen-brontë-split/CBronte_Villette0082.txt', 'data/austen-brontë-split/CBronte_Villette0083.txt', 'data/austen-brontë-split/CBronte_Villette0084.txt', 'data/austen-brontë-split/CBronte_Villette0085.txt', 'data/austen-brontë-split/CBronte_Villette0086.txt', 'data/austen-brontë-split/CBronte_Villette0087.txt', 'data/austen-brontë-split/CBronte_Villette0088.txt', 'data/austen-brontë-split/CBronte_Villette0089.txt', 'data/austen-brontë-split/CBronte_Villette0090.txt', 'data/austen-brontë-split/CBronte_Villette0091.txt', 'data/austen-brontë-split/CBronte_Villette0092.txt', 'data/austen-brontë-split/CBronte_Villette0093.txt', 'data/austen-brontë-split/CBronte_Villette0094.txt', 'data/austen-brontë-split/CBronte_Villette0095.txt', 'data/austen-brontë-split/CBronte_Villette0096.txt', 'data/austen-brontë-split/CBronte_Villette0097.txt', 'data/austen-brontë-split/CBronte_Villette0098.txt', 'data/austen-brontë-split/CBronte_Villette0099.txt', 'data/austen-brontë-split/CBronte_Villette0100.txt', 'data/austen-brontë-split/CBronte_Villette0101.txt', 'data/austen-brontë-split/CBronte_Villette0102.txt', 'data/austen-brontë-split/CBronte_Villette0103.txt', 'data/austen-brontë-split/CBronte_Villette0104.txt', 'data/austen-brontë-split/CBronte_Villette0105.txt', 'data/austen-brontë-split/CBronte_Villette0106.txt', 'data/austen-brontë-split/CBronte_Villette0107.txt', 'data/austen-brontë-split/CBronte_Villette0108.txt', 'data/austen-brontë-split/CBronte_Villette0109.txt', 'data/austen-brontë-split/CBronte_Villette0110.txt', 'data/austen-brontë-split/CBronte_Villette0111.txt', 'data/austen-brontë-split/CBronte_Villette0112.txt', 'data/austen-brontë-split/CBronte_Villette0113.txt', 'data/austen-brontë-split/CBronte_Villette0114.txt', 'data/austen-brontë-split/CBronte_Villette0115.txt', 'data/austen-brontë-split/CBronte_Villette0116.txt', 'data/austen-brontë-split/CBronte_Villette0117.txt', 'data/austen-brontë-split/CBronte_Villette0118.txt', 'data/austen-brontë-split/CBronte_Villette0119.txt', 'data/austen-brontë-split/CBronte_Villette0120.txt', 'data/austen-brontë-split/CBronte_Villette0121.txt', 'data/austen-brontë-split/CBronte_Villette0122.txt', 'data/austen-brontë-split/CBronte_Villette0123.txt', 'data/austen-brontë-split/CBronte_Villette0124.txt', 'data/austen-brontë-split/CBronte_Villette0125.txt', 'data/austen-brontë-split/CBronte_Villette0126.txt', 'data/austen-brontë-split/CBronte_Villette0127.txt', 'data/austen-brontë-split/CBronte_Villette0128.txt', 'data/austen-brontë-split/CBronte_Villette0129.txt', 'data/austen-brontë-split/CBronte_Villette0130.txt', 'data/austen-brontë-split/CBronte_Villette0131.txt', 'data/austen-brontë-split/CBronte_Villette0132.txt', 'data/austen-brontë-split/CBronte_Villette0133.txt', 'data/austen-brontë-split/CBronte_Villette0134.txt', 'data/austen-brontë-split/CBronte_Villette0135.txt', 'data/austen-brontë-split/CBronte_Villette0136.txt', 'data/austen-brontë-split/CBronte_Villette0137.txt', 'data/austen-brontë-split/CBronte_Villette0138.txt', 'data/austen-brontë-split/CBronte_Villette0139.txt', 'data/austen-brontë-split/CBronte_Villette0140.txt', 'data/austen-brontë-split/CBronte_Villette0141.txt', 'data/austen-brontë-split/CBronte_Villette0142.txt', 'data/austen-brontë-split/CBronte_Villette0143.txt', 'data/austen-brontë-split/CBronte_Villette0144.txt', 'data/austen-brontë-split/CBronte_Villette0145.txt', 'data/austen-brontë-split/CBronte_Villette0146.txt', 'data/austen-brontë-split/CBronte_Villette0147.txt', 'data/austen-brontë-split/CBronte_Villette0148.txt', 'data/austen-brontë-split/CBronte_Villette0149.txt', 'data/austen-brontë-split/CBronte_Villette0150.txt', 'data/austen-brontë-split/CBronte_Villette0151.txt', 'data/austen-brontë-split/CBronte_Villette0152.txt', 'data/austen-brontë-split/CBronte_Villette0153.txt', 'data/austen-brontë-split/CBronte_Villette0154.txt', 'data/austen-brontë-split/CBronte_Villette0155.txt', 'data/austen-brontë-split/CBronte_Villette0156.txt', 'data/austen-brontë-split/CBronte_Villette0157.txt', 'data/austen-brontë-split/CBronte_Villette0158.txt', 'data/austen-brontë-split/CBronte_Villette0159.txt', 'data/austen-brontë-split/CBronte_Villette0160.txt', 'data/austen-brontë-split/CBronte_Villette0161.txt', 'data/austen-brontë-split/CBronte_Villette0162.txt', 'data/austen-brontë-split/CBronte_Villette0163.txt', 'data/austen-brontë-split/CBronte_Villette0164.txt', 'data/austen-brontë-split/CBronte_Villette0165.txt', 'data/austen-brontë-split/CBronte_Villette0166.txt', 'data/austen-brontë-split/CBronte_Villette0167.txt', 'data/austen-brontë-split/CBronte_Villette0168.txt', 'data/austen-brontë-split/CBronte_Villette0169.txt', 'data/austen-brontë-split/CBronte_Villette0170.txt', 'data/austen-brontë-split/CBronte_Villette0171.txt', 'data/austen-brontë-split/CBronte_Villette0172.txt', 'data/austen-brontë-split/CBronte_Villette0173.txt', 'data/austen-brontë-split/CBronte_Villette0174.txt']\n"
     ]
    }
   ],
   "source": [
    "import numpy as np \n",
    "import sklearn.feature_extraction.text as text\n",
    "from sklearn import decomposition\n",
    "print(CORPUS_PATH)\n",
    "print(os.listdir(CORPUS_PATH))\n",
    "filenames = sorted([os.path.join(CORPUS_PATH, fn) for fn in os.listdir(CORPUS_PATH)])\n",
    "print(filenames)\n"
   ]
  },
  {
   "cell_type": "code",
   "execution_count": 3,
   "metadata": {
    "collapsed": true
   },
   "outputs": [],
   "source": [
    "vectorizer = text.CountVectorizer(input='filename', stop_words='english', min_df=20)"
   ]
  },
  {
   "cell_type": "code",
   "execution_count": 5,
   "metadata": {},
   "outputs": [
    {
     "name": "stdout",
     "output_type": "stream",
     "text": [
      "[[0 0 0 ..., 0 1 0]\n",
      " [0 0 0 ..., 0 0 0]\n",
      " [0 0 0 ..., 0 0 0]\n",
      " ..., \n",
      " [0 0 0 ..., 0 0 0]\n",
      " [0 0 0 ..., 0 0 0]\n",
      " [0 0 0 ..., 0 0 0]]\n",
      "['_do_' '_he_' '_her_' ..., 'younger' 'youngest' 'youth']\n"
     ]
    }
   ],
   "source": [
    "# print(filenames)\n",
    "dtm = vectorizer.fit_transform(filenames).toarray()\n",
    "print(dtm)\n",
    "vocab = np.array(vectorizer.get_feature_names())\n",
    "print(vocab)"
   ]
  },
  {
   "cell_type": "code",
   "execution_count": null,
   "metadata": {
    "collapsed": true
   },
   "outputs": [],
   "source": [
    "print(len(vocab))\n",
    "print(vectorizer)\n",
    "print(dtm)"
   ]
  },
  {
   "cell_type": "code",
   "execution_count": 99,
   "metadata": {},
   "outputs": [
    {
     "data": {
      "text/plain": [
       "(813, 2902)"
      ]
     },
     "execution_count": 99,
     "metadata": {},
     "output_type": "execute_result"
    }
   ],
   "source": [
    "dtm.shape"
   ]
  },
  {
   "cell_type": "code",
   "execution_count": 111,
   "metadata": {
    "collapsed": true
   },
   "outputs": [],
   "source": [
    "num_topics = 20\n",
    "num_top_words = 20\n",
    "clf = decomposition.NMF(n_components=num_topics, random_state=1)"
   ]
  },
  {
   "cell_type": "code",
   "execution_count": 112,
   "metadata": {
    "collapsed": true
   },
   "outputs": [],
   "source": [
    "doctopic = clf.fit_transform(dtm)"
   ]
  },
  {
   "cell_type": "code",
   "execution_count": 113,
   "metadata": {},
   "outputs": [
    {
     "name": "stdout",
     "output_type": "stream",
     "text": [
      "[['know', 'think', 'like', 'man', 'good', 'say', 'does', 'said', 'oh', 'quite', 'sure', 'yes', 'thing', 'believe', 'way', 'love', 'young', 'people', 'better', 'thought'], ['mr', 'knightley', 'rochester', 'elton', 'man', 'did', 'think', 'evening', 'business', 'away', 'wickham', 'gentleman', 'time', 'dear', 'wife', 'told', 'gentlemen', 'brother', 'information', 'quite'], ['marianne', 'elinor', 'willoughby', 'sister', 'jennings', 'mother', 'colonel', 'dashwood', 'mrs', 'brandon', 'time', 'moment', 'heart', 'little', 'barton', 'soon', 'mind', 'spirits', 'middleton', 'lady'], ['elizabeth', 'darcy', 'bingley', 'mr', 'sister', 'bennet', 'wickham', 'miss', 'soon', 'lydia', 'friend', 'room', 'gardiner', 'netherfield', 'little', 'jane', 'family', 'father', 'lizzy', 'said'], ['mrs', 'did', 'quite', 'elton', 'room', 'come', 'good', 'thing', 'said', 'weston', 'jennings', 'came', 'day', 'party', 'palmer', 'fairfax', 'colonel', 'know', 'went', 'heard'], ['like', 'room', 'door', 'night', 'long', 'saw', 'thought', 'looked', 'house', 'time', 'eyes', 'day', 'face', 'rochester', 'light', 'heard', 'little', 'stood', 'hand', 'hour'], ['sir', 'rochester', 'yes', 'shall', 'adele', 'don', 'little', 'good', 'john', 'said', 'll', 'mr', 'say', 'eyre', 'room', 'thornfield', 'like', 'lady', 'old', 'ingram'], ['jane', 'fairfax', 'love', 'little', 'think', 'oh', 'heard', 'heart', 'mother', 'soon', 'make', 'feel', 'voice', 'campbell', 'bates', 'does', 'god', 'away', 'elton', 'wish'], ['miss', 'woodhouse', 'bates', 'quite', 'sure', 'young', 'fairfax', 'oh', 'lady', 'say', 'room', 'smith', 'temple', 'bessie', 'great', 'came', 'just', 'think', 'heard', 'ladies'], ['john', 'man', 'good', 'father', 'house', 'mother', 'years', 'young', 'dashwood', 'life', 'old', 'family', 'wife', 'home', 'woman', 'fortune', 'sisters', 'thousand', 'make', 'st'], ['little', 'graham', 'bretton', 'papa', 'dr', 'lucy', 'like', 'polly', 'home', 'child', 'paulina', 'don', 'think', 'thought', 'eyes', 'bassompierre', 'john', 'said', 'snowe', 'father'], ['lady', 'collins', 'elizabeth', 'catherine', 'bennet', 'charlotte', 'family', 'mr', 'young', 'make', 'mrs', 'ladyship', 'ladies', 'daughter', 'rosings', 'soon', 'bourgh', 'little', 'mother', 'william'], ['monsieur', 'little', 'english', 'mdlle', 'frances', 'mademoiselle', 'vous', 'est', 'said', 'pelet', 'hand', 'pupils', 'eyes', 'reuter', 'henri', 'thought', 'time', 'school', 'french', 'good'], ['harriet', 'emma', 'elton', 'mr', 'friend', 'woodhouse', 'knightley', 'martin', 'think', 'good', 'thing', 'little', 'smith', 'thought', 'mind', 'woman', 'hartfield', 'just', 'great', 'having'], ['did', 'know', 'heart', 'felt', 'look', 'thought', 'told', 'knew', 'night', 'believe', 'time', 'day', 'saw', 'feelings', 'think', 'love', 'came', 'words', 'paul', 'make'], ['madame', 'beck', 'dr', 'knew', 'little', 'door', 'day', 'paul', 'old', 'night', 'good', 'english', 'pupils', 'thought', 'hand', 'like', 'pelet', 'stood', 'came', 'john'], ['said', 'come', 'shall', 'know', 'tell', 'think', 'john', 'cried', 'looked', 'did', 'replied', 'let', 'asked', 'answer', 'door', 'yes', 'answered', 'quite', 'want', 'eyes'], ['edward', 'elinor', 'lucy', 'ferrars', 'dashwood', 'sister', 'think', 'mother', 'say', 'time', 'sure', 'brother', 'soon', 'thing', 'make', 'colonel', 'great', 'really', 'brandon', 'engagement'], ['emma', 'weston', 'mr', 'knightley', 'frank', 'churchill', 'thing', 'little', 'father', 'woodhouse', 'great', 'fairfax', 'time', 'hartfield', 'body', 'randalls', 'soon', 'mrs', 'dear', 'bates'], ['shall', 'letter', 'time', 'dear', 'day', 'soon', 'read', 'come', 'know', 'say', 'long', 'hope', 'away', 'sure', 'till', 'oh', 'good', 'going', 'write', 'lydia']]\n"
     ]
    }
   ],
   "source": [
    "topic_words = []\n",
    "for topic in clf.components_:\n",
    "    word_idx = np.argsort(topic)[::-1][0:num_top_words]\n",
    "    topic_words.append([vocab[i] for i in word_idx])\n",
    "\n",
    "print(topic_words)"
   ]
  },
  {
   "cell_type": "code",
   "execution_count": 114,
   "metadata": {
    "collapsed": true
   },
   "outputs": [],
   "source": [
    "doctopic = doctopic / np.sum(doctopic, axis=1, keepdims=True)"
   ]
  },
  {
   "cell_type": "code",
   "execution_count": 115,
   "metadata": {
    "collapsed": true
   },
   "outputs": [],
   "source": [
    "novel_names = [] \n",
    "\n",
    "for fn in filenames:\n",
    "    basename = os.path.basename(fn)\n",
    "    name, ext = os.path.splitext(basename)\n",
    "    name = name.rstrip('0123456789')\n",
    "    novel_names.append(name)"
   ]
  },
  {
   "cell_type": "code",
   "execution_count": 116,
   "metadata": {},
   "outputs": [
    {
     "name": "stdout",
     "output_type": "stream",
     "text": [
      "['Austen_Emma', 'Austen_Pride', 'Austen_Sense', 'CBronte_Jane', 'CBronte_Professor', 'CBronte_Villette']\n",
      "[[ 0.          0.00506178  0.00985299 ...,  0.          0.22786104  0.        ]\n",
      " [ 0.12041777  0.25543906  0.         ...,  0.          0.23353457\n",
      "   0.08181409]\n",
      " [ 0.12093734  0.28432916  0.         ...,  0.          0.19369504\n",
      "   0.0502726 ]\n",
      " ..., \n",
      " [ 0.0573295   0.          0.         ...,  0.08810671  0.          0.        ]\n",
      " [ 0.064562    0.03481487  0.         ...,  0.0627449   0.          0.06113009]\n",
      " [ 0.          0.          0.         ...,  0.          0.          0.12133201]]\n",
      "Austen_Emma: 9 8 18\n",
      "Austen_Pride: 1 18 8\n",
      "Austen_Sense: 1 18 8\n",
      "CBronte_Jane: 9 8 18\n",
      "CBronte_Professor: 1 18 4\n",
      "CBronte_Villette: 9 18 4\n"
     ]
    },
    {
     "ename": "IndexError",
     "evalue": "list index out of range",
     "output_type": "error",
     "traceback": [
      "\u001b[0;31m---------------------------------------------------------------------------\u001b[0m",
      "\u001b[0;31mIndexError\u001b[0m                                Traceback (most recent call last)",
      "\u001b[0;32m<ipython-input-116-5d3cf556cc87>\u001b[0m in \u001b[0;36m<module>\u001b[0;34m()\u001b[0m\n\u001b[1;32m     19\u001b[0m     \u001b[0mtop_topics\u001b[0m \u001b[0;34m=\u001b[0m \u001b[0mnp\u001b[0m\u001b[0;34m.\u001b[0m\u001b[0margsort\u001b[0m\u001b[0;34m(\u001b[0m\u001b[0mdoctopic\u001b[0m\u001b[0;34m[\u001b[0m\u001b[0mi\u001b[0m\u001b[0;34m,\u001b[0m\u001b[0;34m:\u001b[0m\u001b[0;34m]\u001b[0m\u001b[0;34m)\u001b[0m\u001b[0;34m[\u001b[0m\u001b[0;34m:\u001b[0m\u001b[0;34m:\u001b[0m\u001b[0;34m-\u001b[0m\u001b[0;36m1\u001b[0m\u001b[0;34m]\u001b[0m\u001b[0;34m[\u001b[0m\u001b[0;36m0\u001b[0m\u001b[0;34m:\u001b[0m\u001b[0;36m3\u001b[0m\u001b[0;34m]\u001b[0m\u001b[0;34m\u001b[0m\u001b[0m\n\u001b[1;32m     20\u001b[0m     \u001b[0mtop_topics_str\u001b[0m \u001b[0;34m=\u001b[0m \u001b[0;34m' '\u001b[0m\u001b[0;34m.\u001b[0m\u001b[0mjoin\u001b[0m\u001b[0;34m(\u001b[0m\u001b[0mstr\u001b[0m\u001b[0;34m(\u001b[0m\u001b[0mt\u001b[0m\u001b[0;34m)\u001b[0m \u001b[0;32mfor\u001b[0m \u001b[0mt\u001b[0m \u001b[0;32min\u001b[0m \u001b[0mtop_topics\u001b[0m\u001b[0;34m)\u001b[0m\u001b[0;34m\u001b[0m\u001b[0m\n\u001b[0;32m---> 21\u001b[0;31m     \u001b[0mprint\u001b[0m\u001b[0;34m(\u001b[0m\u001b[0;34m\"{}: {}\"\u001b[0m\u001b[0;34m.\u001b[0m\u001b[0mformat\u001b[0m\u001b[0;34m(\u001b[0m\u001b[0mnovels\u001b[0m\u001b[0;34m[\u001b[0m\u001b[0mi\u001b[0m\u001b[0;34m]\u001b[0m\u001b[0;34m,\u001b[0m \u001b[0mtop_topics_str\u001b[0m\u001b[0;34m)\u001b[0m\u001b[0;34m)\u001b[0m\u001b[0;34m\u001b[0m\u001b[0m\n\u001b[0m",
      "\u001b[0;31mIndexError\u001b[0m: list index out of range"
     ]
    }
   ],
   "source": [
    "novel_names = np.asarray(novel_names)\n",
    "doctopic_orig = doctopic.copy()\n",
    "num_groups = len(set(novel_names))\n",
    "# print(num_groups)\n",
    "# print(doctopic.copy)\n",
    "doctopic_grouped = np.zeros((num_groups, num_topics))\n",
    "\n",
    "# print(doctopic_grouped)\n",
    "\n",
    "# for i, name in enumerate(sorted(set(novel_names))):\n",
    "#     doctopic_grouped[i, :] = np.mean(doctopic[novel_names == name, :], axis=0)\n",
    "\n",
    "#     doctopic = doctopic_grouped\n",
    "\n",
    "novels = sorted(set(novel_names))\n",
    "print(novels)\n",
    "print(doctopic)\n",
    "for i in range(len(doctopic)):\n",
    "    top_topics = np.argsort(doctopic[i,:])[::-1][0:3]\n",
    "    top_topics_str = ' '.join(str(t) for t in top_topics)\n",
    "    print(\"{}: {}\".format(novels[i], top_topics_str))"
   ]
  },
  {
   "cell_type": "code",
   "execution_count": 117,
   "metadata": {},
   "outputs": [
    {
     "name": "stdout",
     "output_type": "stream",
     "text": [
      "Topic 0: know think like man good say does said oh quite sure yes thing believe way\n",
      "Topic 1: mr knightley rochester elton man did think evening business away wickham gentleman time dear wife\n",
      "Topic 2: marianne elinor willoughby sister jennings mother colonel dashwood mrs brandon time moment heart little barton\n",
      "Topic 3: elizabeth darcy bingley mr sister bennet wickham miss soon lydia friend room gardiner netherfield little\n",
      "Topic 4: mrs did quite elton room come good thing said weston jennings came day party palmer\n",
      "Topic 5: like room door night long saw thought looked house time eyes day face rochester light\n",
      "Topic 6: sir rochester yes shall adele don little good john said ll mr say eyre room\n",
      "Topic 7: jane fairfax love little think oh heard heart mother soon make feel voice campbell bates\n",
      "Topic 8: miss woodhouse bates quite sure young fairfax oh lady say room smith temple bessie great\n",
      "Topic 9: john man good father house mother years young dashwood life old family wife home woman\n",
      "Topic 10: little graham bretton papa dr lucy like polly home child paulina don think thought eyes\n",
      "Topic 11: lady collins elizabeth catherine bennet charlotte family mr young make mrs ladyship ladies daughter rosings\n",
      "Topic 12: monsieur little english mdlle frances mademoiselle vous est said pelet hand pupils eyes reuter henri\n",
      "Topic 13: harriet emma elton mr friend woodhouse knightley martin think good thing little smith thought mind\n",
      "Topic 14: did know heart felt look thought told knew night believe time day saw feelings think\n",
      "Topic 15: madame beck dr knew little door day paul old night good english pupils thought hand\n",
      "Topic 16: said come shall know tell think john cried looked did replied let asked answer door\n",
      "Topic 17: edward elinor lucy ferrars dashwood sister think mother say time sure brother soon thing make\n",
      "Topic 18: emma weston mr knightley frank churchill thing little father woodhouse great fairfax time hartfield body\n",
      "Topic 19: shall letter time dear day soon read come know say long hope away sure till\n"
     ]
    }
   ],
   "source": [
    "for t in range(len(topic_words)):\n",
    "    print(\"Topic {}: {}\".format(t, ' '.join(topic_words[t][:15])))"
   ]
  },
  {
   "cell_type": "code",
   "execution_count": null,
   "metadata": {
    "collapsed": true
   },
   "outputs": [],
   "source": []
  },
  {
   "cell_type": "code",
   "execution_count": null,
   "metadata": {
    "collapsed": true
   },
   "outputs": [],
   "source": []
  }
 ],
 "metadata": {
  "kernelspec": {
   "display_name": "Python 3",
   "language": "python",
   "name": "python3"
  },
  "language_info": {
   "codemirror_mode": {
    "name": "ipython",
    "version": 3
   },
   "file_extension": ".py",
   "mimetype": "text/x-python",
   "name": "python",
   "nbconvert_exporter": "python",
   "pygments_lexer": "ipython3",
   "version": "3.6.1"
  }
 },
 "nbformat": 4,
 "nbformat_minor": 2
}
