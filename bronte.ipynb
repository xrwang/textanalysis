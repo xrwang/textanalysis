{
 "cells": [
  {
   "cell_type": "code",
   "execution_count": 1,
   "metadata": {
    "collapsed": true
   },
   "outputs": [],
   "source": [
    "import os\n",
    "import sys\n",
    "from pdfminer.pdfinterp import PDFResourceManager, PDFPageInterpreter\n",
    "from pdfminer.pdfpage import PDFPage\n",
    "from pdfminer.converter import XMLConverter, HTMLConverter, TextConverter\n",
    "from pdfminer.layout import LAParams\n",
    "import io\n",
    "\n",
    "\n",
    "# PDF_PATH = os.path.join('data', 'justice','pdfs')\n",
    "# PDF_NAMES = os.listdir(PDF_PATH)\n",
    "# CORPUS_PATH = os.path.join('data','justice','txt')\n",
    "CORPUS_PATH = os.path.join('data', 'austen-brontë-split')\n",
    "# print(PDF_PATH)\n",
    "# print(PDF_NAMES)\n",
    "# print(CORPUS_PATH)\n",
    "\n",
    "#make a list of pdf files names\n",
    "#go through each of them and write them to the same directory as a text file \n",
    "\n",
    "# pdffilenames = sorted([os.path.join(PDF_PATH, fn) for fn in os.listdir(PDF_PATH)])\n",
    "# print(pdffilenames)\n",
    "\n",
    "\n",
    "def pdfparser(data):\n",
    "\n",
    "    fp = open(data, 'rb')\n",
    "    rsrcmgr = PDFResourceManager()\n",
    "    retstr = io.StringIO()\n",
    "    codec = 'utf-8'\n",
    "    laparams = LAParams()\n",
    "    device = TextConverter(rsrcmgr, retstr, codec=codec, laparams=laparams)\n",
    "    # Create a PDF interpreter object.\n",
    "    interpreter = PDFPageInterpreter(rsrcmgr, device)\n",
    "    # Process each page contained in the document.\n",
    "\n",
    "    for page in PDFPage.get_pages(fp):\n",
    "        interpreter.process_page(page)\n",
    "        data =  retstr.getvalue()\n",
    "\n",
    "#     print(data)\n",
    "    return data\n",
    "\n",
    "# if __name__ == '__main__':\n",
    "# pdfparser(CORPUS_PATH)  \n",
    "\n",
    "\n",
    "def pdfConverter(arrayOfFullFileNames, arrayOfPDFNames, destPath):\n",
    "    for i in range(len(arrayOfFullFileNames)):\n",
    "        print(i)\n",
    "        print('Creating new text file') \n",
    "        if not str(arrayOfPDFNames[i]).startswith('.'):\n",
    "            name = str(arrayOfPDFNames[i]) + '.txt'\n",
    "#         print('&&&&')\n",
    "#         print(name)\n",
    "#         print('*****')\n",
    "#         print(destPath)\n",
    "            print(arrayOfFullFileNames[i])\n",
    "\n",
    "            try:\n",
    "#             print(pdfparser())\n",
    "                content = pdfparser(arrayOfFullFileNames[i])\n",
    "#                 print('below is the content')\n",
    "#                 print(content)\n",
    "                contenttwo = str(content)\n",
    "                print('hi!!')\n",
    "#                 print(type(contenttwo))\n",
    "#                 print(contenttwo)\n",
    "                print('&&&&')\n",
    "                file = open(destPath+name,'w')\n",
    "                file.write(str(content))\n",
    "                file.close()\n",
    "\n",
    "            except:\n",
    "                print('Something went wrong! Can\\'t tell what?')\n",
    "                sys.exit(0) # quit Python\n",
    "        \n",
    "# pdfConverter(pdffilenames,PDF_NAMES,CORPUS_PATH) \n"
   ]
  },
  {
   "cell_type": "code",
   "execution_count": 2,
   "metadata": {
    "collapsed": true
   },
   "outputs": [],
   "source": [
    "import numpy as np \n",
    "import sklearn.feature_extraction.text as text\n",
    "from sklearn import decomposition\n",
    "# print(CORPUS_PATH)\n",
    "# print(os.listdir(CORPUS_PATH))\n",
    "filenames = sorted([os.path.join(CORPUS_PATH, fn) for fn in os.listdir(CORPUS_PATH)])\n",
    "# print(filenames)\n"
   ]
  },
  {
   "cell_type": "code",
   "execution_count": 3,
   "metadata": {
    "collapsed": true
   },
   "outputs": [],
   "source": [
    "vectorizer = text.CountVectorizer(input='filename', stop_words='english', min_df=20)"
   ]
  },
  {
   "cell_type": "code",
   "execution_count": 4,
   "metadata": {},
   "outputs": [
    {
     "name": "stdout",
     "output_type": "stream",
     "text": [
      "[[0 0 0 ..., 0 1 0]\n",
      " [0 0 0 ..., 0 0 0]\n",
      " [0 0 0 ..., 0 0 0]\n",
      " ..., \n",
      " [0 0 0 ..., 0 0 0]\n",
      " [0 0 0 ..., 0 0 0]\n",
      " [0 0 0 ..., 0 0 0]]\n",
      "['_do_' '_he_' '_her_' ..., 'younger' 'youngest' 'youth']\n"
     ]
    }
   ],
   "source": [
    "# print(filenames)\n",
    "dtm = vectorizer.fit_transform(filenames).toarray()\n",
    "print(dtm)\n",
    "vocab = np.array(vectorizer.get_feature_names())\n",
    "print(vocab)"
   ]
  },
  {
   "cell_type": "code",
   "execution_count": 22,
   "metadata": {},
   "outputs": [
    {
     "name": "stdout",
     "output_type": "stream",
     "text": [
      "2902\n"
     ]
    }
   ],
   "source": [
    "print(len(vocab))\n",
    "# print(vectorizer)\n",
    "# print(dtm)"
   ]
  },
  {
   "cell_type": "code",
   "execution_count": 23,
   "metadata": {},
   "outputs": [
    {
     "data": {
      "text/plain": [
       "(813, 2902)"
      ]
     },
     "execution_count": 23,
     "metadata": {},
     "output_type": "execute_result"
    }
   ],
   "source": [
    "dtm.shape"
   ]
  },
  {
   "cell_type": "code",
   "execution_count": 24,
   "metadata": {
    "collapsed": true
   },
   "outputs": [],
   "source": [
    "num_topics = 20\n",
    "num_top_words = 20\n",
    "clf = decomposition.NMF(n_components=num_topics, random_state=1)"
   ]
  },
  {
   "cell_type": "code",
   "execution_count": 25,
   "metadata": {
    "collapsed": true
   },
   "outputs": [],
   "source": [
    "doctopic = clf.fit_transform(dtm)"
   ]
  },
  {
   "cell_type": "code",
   "execution_count": 26,
   "metadata": {},
   "outputs": [
    {
     "name": "stdout",
     "output_type": "stream",
     "text": [
      "[['know', 'think', 'like', 'man', 'good', 'say', 'does', 'said', 'oh', 'quite', 'sure', 'yes', 'thing', 'believe', 'way', 'love', 'young', 'people', 'better', 'thought'], ['mr', 'knightley', 'rochester', 'elton', 'man', 'did', 'think', 'evening', 'business', 'away', 'wickham', 'gentleman', 'time', 'dear', 'wife', 'told', 'gentlemen', 'brother', 'information', 'quite'], ['marianne', 'elinor', 'willoughby', 'sister', 'jennings', 'mother', 'colonel', 'dashwood', 'mrs', 'brandon', 'time', 'moment', 'heart', 'little', 'barton', 'soon', 'mind', 'spirits', 'middleton', 'lady'], ['elizabeth', 'darcy', 'bingley', 'mr', 'sister', 'bennet', 'wickham', 'miss', 'soon', 'lydia', 'friend', 'room', 'gardiner', 'netherfield', 'little', 'jane', 'family', 'father', 'lizzy', 'said'], ['mrs', 'did', 'quite', 'elton', 'room', 'come', 'good', 'thing', 'said', 'weston', 'jennings', 'came', 'day', 'party', 'palmer', 'fairfax', 'colonel', 'know', 'went', 'heard'], ['like', 'room', 'door', 'night', 'long', 'saw', 'thought', 'looked', 'house', 'time', 'eyes', 'day', 'face', 'rochester', 'light', 'heard', 'little', 'stood', 'hand', 'hour'], ['sir', 'rochester', 'yes', 'shall', 'adele', 'don', 'little', 'good', 'john', 'said', 'll', 'mr', 'say', 'eyre', 'room', 'thornfield', 'like', 'lady', 'old', 'ingram'], ['jane', 'fairfax', 'love', 'little', 'think', 'oh', 'heard', 'heart', 'mother', 'soon', 'make', 'feel', 'voice', 'campbell', 'bates', 'does', 'god', 'away', 'elton', 'wish'], ['miss', 'woodhouse', 'bates', 'quite', 'sure', 'young', 'fairfax', 'oh', 'lady', 'say', 'room', 'smith', 'temple', 'bessie', 'great', 'came', 'just', 'think', 'heard', 'ladies'], ['john', 'man', 'good', 'father', 'house', 'mother', 'years', 'young', 'dashwood', 'life', 'old', 'family', 'wife', 'home', 'woman', 'fortune', 'sisters', 'thousand', 'make', 'st'], ['little', 'graham', 'bretton', 'papa', 'dr', 'lucy', 'like', 'polly', 'home', 'child', 'paulina', 'don', 'think', 'thought', 'eyes', 'bassompierre', 'john', 'said', 'snowe', 'father'], ['lady', 'collins', 'elizabeth', 'catherine', 'bennet', 'charlotte', 'family', 'mr', 'young', 'make', 'mrs', 'ladyship', 'ladies', 'daughter', 'rosings', 'soon', 'bourgh', 'little', 'mother', 'william'], ['monsieur', 'little', 'english', 'mdlle', 'frances', 'mademoiselle', 'vous', 'est', 'said', 'pelet', 'hand', 'pupils', 'eyes', 'reuter', 'henri', 'thought', 'time', 'school', 'french', 'good'], ['harriet', 'emma', 'elton', 'mr', 'friend', 'woodhouse', 'knightley', 'martin', 'think', 'good', 'thing', 'little', 'smith', 'thought', 'mind', 'woman', 'hartfield', 'just', 'great', 'having'], ['did', 'know', 'heart', 'felt', 'look', 'thought', 'told', 'knew', 'night', 'believe', 'time', 'day', 'saw', 'feelings', 'think', 'love', 'came', 'words', 'paul', 'make'], ['madame', 'beck', 'dr', 'knew', 'little', 'door', 'day', 'paul', 'old', 'night', 'good', 'english', 'pupils', 'thought', 'hand', 'like', 'pelet', 'stood', 'came', 'john'], ['said', 'come', 'shall', 'know', 'tell', 'think', 'john', 'cried', 'looked', 'did', 'replied', 'let', 'asked', 'answer', 'door', 'yes', 'answered', 'quite', 'want', 'eyes'], ['edward', 'elinor', 'lucy', 'ferrars', 'dashwood', 'sister', 'think', 'mother', 'say', 'time', 'sure', 'brother', 'soon', 'thing', 'make', 'colonel', 'great', 'really', 'brandon', 'engagement'], ['emma', 'weston', 'mr', 'knightley', 'frank', 'churchill', 'thing', 'little', 'father', 'woodhouse', 'great', 'fairfax', 'time', 'hartfield', 'body', 'randalls', 'soon', 'mrs', 'dear', 'bates'], ['shall', 'letter', 'time', 'dear', 'day', 'soon', 'read', 'come', 'know', 'say', 'long', 'hope', 'away', 'sure', 'till', 'oh', 'good', 'going', 'write', 'lydia']]\n"
     ]
    }
   ],
   "source": [
    "topic_words = []\n",
    "for topic in clf.components_:\n",
    "    word_idx = np.argsort(topic)[::-1][0:num_top_words]\n",
    "    topic_words.append([vocab[i] for i in word_idx])\n",
    "\n",
    "print(topic_words)"
   ]
  },
  {
   "cell_type": "code",
   "execution_count": 27,
   "metadata": {
    "collapsed": true
   },
   "outputs": [],
   "source": [
    "doctopic = doctopic / np.sum(doctopic, axis=1, keepdims=True)"
   ]
  },
  {
   "cell_type": "code",
   "execution_count": 40,
   "metadata": {},
   "outputs": [
    {
     "name": "stdout",
     "output_type": "stream",
     "text": [
      "['Austen_Emma', 'Austen_Emma', 'Austen_Emma', 'Austen_Emma', 'Austen_Emma', 'Austen_Emma', 'Austen_Emma', 'Austen_Emma', 'Austen_Emma', 'Austen_Emma', 'Austen_Emma', 'Austen_Emma', 'Austen_Emma', 'Austen_Emma', 'Austen_Emma', 'Austen_Emma', 'Austen_Emma', 'Austen_Emma', 'Austen_Emma', 'Austen_Emma', 'Austen_Emma', 'Austen_Emma', 'Austen_Emma', 'Austen_Emma', 'Austen_Emma', 'Austen_Emma', 'Austen_Emma', 'Austen_Emma', 'Austen_Emma', 'Austen_Emma', 'Austen_Emma', 'Austen_Emma', 'Austen_Emma', 'Austen_Emma', 'Austen_Emma', 'Austen_Emma', 'Austen_Emma', 'Austen_Emma', 'Austen_Emma', 'Austen_Emma', 'Austen_Emma', 'Austen_Emma', 'Austen_Emma', 'Austen_Emma', 'Austen_Emma', 'Austen_Emma', 'Austen_Emma', 'Austen_Emma', 'Austen_Emma', 'Austen_Emma', 'Austen_Emma', 'Austen_Emma', 'Austen_Emma', 'Austen_Emma', 'Austen_Emma', 'Austen_Emma', 'Austen_Emma', 'Austen_Emma', 'Austen_Emma', 'Austen_Emma', 'Austen_Emma', 'Austen_Emma', 'Austen_Emma', 'Austen_Emma', 'Austen_Emma', 'Austen_Emma', 'Austen_Emma', 'Austen_Emma', 'Austen_Emma', 'Austen_Emma', 'Austen_Emma', 'Austen_Emma', 'Austen_Emma', 'Austen_Emma', 'Austen_Emma', 'Austen_Emma', 'Austen_Emma', 'Austen_Emma', 'Austen_Emma', 'Austen_Emma', 'Austen_Emma', 'Austen_Emma', 'Austen_Emma', 'Austen_Emma', 'Austen_Emma', 'Austen_Emma', 'Austen_Emma', 'Austen_Emma', 'Austen_Emma', 'Austen_Emma', 'Austen_Emma', 'Austen_Emma', 'Austen_Emma', 'Austen_Emma', 'Austen_Emma', 'Austen_Emma', 'Austen_Emma', 'Austen_Emma', 'Austen_Emma', 'Austen_Emma', 'Austen_Emma', 'Austen_Emma', 'Austen_Emma', 'Austen_Emma', 'Austen_Emma', 'Austen_Emma', 'Austen_Emma', 'Austen_Emma', 'Austen_Emma', 'Austen_Emma', 'Austen_Emma', 'Austen_Emma', 'Austen_Emma', 'Austen_Emma', 'Austen_Emma', 'Austen_Emma', 'Austen_Emma', 'Austen_Emma', 'Austen_Emma', 'Austen_Emma', 'Austen_Emma', 'Austen_Emma', 'Austen_Emma', 'Austen_Emma', 'Austen_Emma', 'Austen_Emma', 'Austen_Emma', 'Austen_Emma', 'Austen_Emma', 'Austen_Emma', 'Austen_Emma', 'Austen_Emma', 'Austen_Emma', 'Austen_Emma', 'Austen_Emma', 'Austen_Emma', 'Austen_Emma', 'Austen_Emma', 'Austen_Emma', 'Austen_Emma', 'Austen_Emma', 'Austen_Emma', 'Austen_Emma', 'Austen_Emma', 'Austen_Pride', 'Austen_Pride', 'Austen_Pride', 'Austen_Pride', 'Austen_Pride', 'Austen_Pride', 'Austen_Pride', 'Austen_Pride', 'Austen_Pride', 'Austen_Pride', 'Austen_Pride', 'Austen_Pride', 'Austen_Pride', 'Austen_Pride', 'Austen_Pride', 'Austen_Pride', 'Austen_Pride', 'Austen_Pride', 'Austen_Pride', 'Austen_Pride', 'Austen_Pride', 'Austen_Pride', 'Austen_Pride', 'Austen_Pride', 'Austen_Pride', 'Austen_Pride', 'Austen_Pride', 'Austen_Pride', 'Austen_Pride', 'Austen_Pride', 'Austen_Pride', 'Austen_Pride', 'Austen_Pride', 'Austen_Pride', 'Austen_Pride', 'Austen_Pride', 'Austen_Pride', 'Austen_Pride', 'Austen_Pride', 'Austen_Pride', 'Austen_Pride', 'Austen_Pride', 'Austen_Pride', 'Austen_Pride', 'Austen_Pride', 'Austen_Pride', 'Austen_Pride', 'Austen_Pride', 'Austen_Pride', 'Austen_Pride', 'Austen_Pride', 'Austen_Pride', 'Austen_Pride', 'Austen_Pride', 'Austen_Pride', 'Austen_Pride', 'Austen_Pride', 'Austen_Pride', 'Austen_Pride', 'Austen_Pride', 'Austen_Pride', 'Austen_Pride', 'Austen_Pride', 'Austen_Pride', 'Austen_Pride', 'Austen_Pride', 'Austen_Pride', 'Austen_Pride', 'Austen_Pride', 'Austen_Pride', 'Austen_Pride', 'Austen_Pride', 'Austen_Pride', 'Austen_Pride', 'Austen_Pride', 'Austen_Pride', 'Austen_Pride', 'Austen_Pride', 'Austen_Pride', 'Austen_Pride', 'Austen_Pride', 'Austen_Pride', 'Austen_Pride', 'Austen_Pride', 'Austen_Pride', 'Austen_Pride', 'Austen_Pride', 'Austen_Pride', 'Austen_Pride', 'Austen_Pride', 'Austen_Pride', 'Austen_Pride', 'Austen_Pride', 'Austen_Pride', 'Austen_Pride', 'Austen_Pride', 'Austen_Pride', 'Austen_Pride', 'Austen_Pride', 'Austen_Pride', 'Austen_Pride', 'Austen_Pride', 'Austen_Pride', 'Austen_Pride', 'Austen_Pride', 'Austen_Pride', 'Austen_Pride', 'Austen_Pride', 'Austen_Pride', 'Austen_Pride', 'Austen_Pride', 'Austen_Pride', 'Austen_Pride', 'Austen_Pride', 'Austen_Pride', 'Austen_Pride', 'Austen_Pride', 'Austen_Pride', 'Austen_Pride', 'Austen_Pride', 'Austen_Sense', 'Austen_Sense', 'Austen_Sense', 'Austen_Sense', 'Austen_Sense', 'Austen_Sense', 'Austen_Sense', 'Austen_Sense', 'Austen_Sense', 'Austen_Sense', 'Austen_Sense', 'Austen_Sense', 'Austen_Sense', 'Austen_Sense', 'Austen_Sense', 'Austen_Sense', 'Austen_Sense', 'Austen_Sense', 'Austen_Sense', 'Austen_Sense', 'Austen_Sense', 'Austen_Sense', 'Austen_Sense', 'Austen_Sense', 'Austen_Sense', 'Austen_Sense', 'Austen_Sense', 'Austen_Sense', 'Austen_Sense', 'Austen_Sense', 'Austen_Sense', 'Austen_Sense', 'Austen_Sense', 'Austen_Sense', 'Austen_Sense', 'Austen_Sense', 'Austen_Sense', 'Austen_Sense', 'Austen_Sense', 'Austen_Sense', 'Austen_Sense', 'Austen_Sense', 'Austen_Sense', 'Austen_Sense', 'Austen_Sense', 'Austen_Sense', 'Austen_Sense', 'Austen_Sense', 'Austen_Sense', 'Austen_Sense', 'Austen_Sense', 'Austen_Sense', 'Austen_Sense', 'Austen_Sense', 'Austen_Sense', 'Austen_Sense', 'Austen_Sense', 'Austen_Sense', 'Austen_Sense', 'Austen_Sense', 'Austen_Sense', 'Austen_Sense', 'Austen_Sense', 'Austen_Sense', 'Austen_Sense', 'Austen_Sense', 'Austen_Sense', 'Austen_Sense', 'Austen_Sense', 'Austen_Sense', 'Austen_Sense', 'Austen_Sense', 'Austen_Sense', 'Austen_Sense', 'Austen_Sense', 'Austen_Sense', 'Austen_Sense', 'Austen_Sense', 'Austen_Sense', 'Austen_Sense', 'Austen_Sense', 'Austen_Sense', 'Austen_Sense', 'Austen_Sense', 'Austen_Sense', 'Austen_Sense', 'Austen_Sense', 'Austen_Sense', 'Austen_Sense', 'Austen_Sense', 'Austen_Sense', 'Austen_Sense', 'Austen_Sense', 'Austen_Sense', 'Austen_Sense', 'Austen_Sense', 'Austen_Sense', 'Austen_Sense', 'Austen_Sense', 'Austen_Sense', 'Austen_Sense', 'Austen_Sense', 'Austen_Sense', 'Austen_Sense', 'Austen_Sense', 'Austen_Sense', 'Austen_Sense', 'Austen_Sense', 'CBronte_Jane', 'CBronte_Jane', 'CBronte_Jane', 'CBronte_Jane', 'CBronte_Jane', 'CBronte_Jane', 'CBronte_Jane', 'CBronte_Jane', 'CBronte_Jane', 'CBronte_Jane', 'CBronte_Jane', 'CBronte_Jane', 'CBronte_Jane', 'CBronte_Jane', 'CBronte_Jane', 'CBronte_Jane', 'CBronte_Jane', 'CBronte_Jane', 'CBronte_Jane', 'CBronte_Jane', 'CBronte_Jane', 'CBronte_Jane', 'CBronte_Jane', 'CBronte_Jane', 'CBronte_Jane', 'CBronte_Jane', 'CBronte_Jane', 'CBronte_Jane', 'CBronte_Jane', 'CBronte_Jane', 'CBronte_Jane', 'CBronte_Jane', 'CBronte_Jane', 'CBronte_Jane', 'CBronte_Jane', 'CBronte_Jane', 'CBronte_Jane', 'CBronte_Jane', 'CBronte_Jane', 'CBronte_Jane', 'CBronte_Jane', 'CBronte_Jane', 'CBronte_Jane', 'CBronte_Jane', 'CBronte_Jane', 'CBronte_Jane', 'CBronte_Jane', 'CBronte_Jane', 'CBronte_Jane', 'CBronte_Jane', 'CBronte_Jane', 'CBronte_Jane', 'CBronte_Jane', 'CBronte_Jane', 'CBronte_Jane', 'CBronte_Jane', 'CBronte_Jane', 'CBronte_Jane', 'CBronte_Jane', 'CBronte_Jane', 'CBronte_Jane', 'CBronte_Jane', 'CBronte_Jane', 'CBronte_Jane', 'CBronte_Jane', 'CBronte_Jane', 'CBronte_Jane', 'CBronte_Jane', 'CBronte_Jane', 'CBronte_Jane', 'CBronte_Jane', 'CBronte_Jane', 'CBronte_Jane', 'CBronte_Jane', 'CBronte_Jane', 'CBronte_Jane', 'CBronte_Jane', 'CBronte_Jane', 'CBronte_Jane', 'CBronte_Jane', 'CBronte_Jane', 'CBronte_Jane', 'CBronte_Jane', 'CBronte_Jane', 'CBronte_Jane', 'CBronte_Jane', 'CBronte_Jane', 'CBronte_Jane', 'CBronte_Jane', 'CBronte_Jane', 'CBronte_Jane', 'CBronte_Jane', 'CBronte_Jane', 'CBronte_Jane', 'CBronte_Jane', 'CBronte_Jane', 'CBronte_Jane', 'CBronte_Jane', 'CBronte_Jane', 'CBronte_Jane', 'CBronte_Jane', 'CBronte_Jane', 'CBronte_Jane', 'CBronte_Jane', 'CBronte_Jane', 'CBronte_Jane', 'CBronte_Jane', 'CBronte_Jane', 'CBronte_Jane', 'CBronte_Jane', 'CBronte_Jane', 'CBronte_Jane', 'CBronte_Jane', 'CBronte_Jane', 'CBronte_Jane', 'CBronte_Jane', 'CBronte_Jane', 'CBronte_Jane', 'CBronte_Jane', 'CBronte_Jane', 'CBronte_Jane', 'CBronte_Jane', 'CBronte_Jane', 'CBronte_Jane', 'CBronte_Jane', 'CBronte_Jane', 'CBronte_Jane', 'CBronte_Jane', 'CBronte_Jane', 'CBronte_Jane', 'CBronte_Jane', 'CBronte_Jane', 'CBronte_Jane', 'CBronte_Jane', 'CBronte_Jane', 'CBronte_Jane', 'CBronte_Jane', 'CBronte_Jane', 'CBronte_Jane', 'CBronte_Jane', 'CBronte_Jane', 'CBronte_Jane', 'CBronte_Jane', 'CBronte_Jane', 'CBronte_Jane', 'CBronte_Jane', 'CBronte_Jane', 'CBronte_Jane', 'CBronte_Jane', 'CBronte_Jane', 'CBronte_Jane', 'CBronte_Jane', 'CBronte_Jane', 'CBronte_Jane', 'CBronte_Jane', 'CBronte_Jane', 'CBronte_Jane', 'CBronte_Jane', 'CBronte_Jane', 'CBronte_Jane', 'CBronte_Jane', 'CBronte_Jane', 'CBronte_Jane', 'CBronte_Jane', 'CBronte_Jane', 'CBronte_Jane', 'CBronte_Jane', 'CBronte_Jane', 'CBronte_Jane', 'CBronte_Jane', 'CBronte_Jane', 'CBronte_Jane', 'CBronte_Jane', 'CBronte_Jane', 'CBronte_Jane', 'CBronte_Jane', 'CBronte_Jane', 'CBronte_Jane', 'CBronte_Jane', 'CBronte_Jane', 'CBronte_Jane', 'CBronte_Jane', 'CBronte_Jane', 'CBronte_Jane', 'CBronte_Jane', 'CBronte_Professor', 'CBronte_Professor', 'CBronte_Professor', 'CBronte_Professor', 'CBronte_Professor', 'CBronte_Professor', 'CBronte_Professor', 'CBronte_Professor', 'CBronte_Professor', 'CBronte_Professor', 'CBronte_Professor', 'CBronte_Professor', 'CBronte_Professor', 'CBronte_Professor', 'CBronte_Professor', 'CBronte_Professor', 'CBronte_Professor', 'CBronte_Professor', 'CBronte_Professor', 'CBronte_Professor', 'CBronte_Professor', 'CBronte_Professor', 'CBronte_Professor', 'CBronte_Professor', 'CBronte_Professor', 'CBronte_Professor', 'CBronte_Professor', 'CBronte_Professor', 'CBronte_Professor', 'CBronte_Professor', 'CBronte_Professor', 'CBronte_Professor', 'CBronte_Professor', 'CBronte_Professor', 'CBronte_Professor', 'CBronte_Professor', 'CBronte_Professor', 'CBronte_Professor', 'CBronte_Professor', 'CBronte_Professor', 'CBronte_Professor', 'CBronte_Professor', 'CBronte_Professor', 'CBronte_Professor', 'CBronte_Professor', 'CBronte_Professor', 'CBronte_Professor', 'CBronte_Professor', 'CBronte_Professor', 'CBronte_Professor', 'CBronte_Professor', 'CBronte_Professor', 'CBronte_Professor', 'CBronte_Professor', 'CBronte_Professor', 'CBronte_Professor', 'CBronte_Professor', 'CBronte_Professor', 'CBronte_Professor', 'CBronte_Professor', 'CBronte_Professor', 'CBronte_Professor', 'CBronte_Professor', 'CBronte_Professor', 'CBronte_Professor', 'CBronte_Professor', 'CBronte_Professor', 'CBronte_Professor', 'CBronte_Professor', 'CBronte_Professor', 'CBronte_Professor', 'CBronte_Professor', 'CBronte_Professor', 'CBronte_Professor', 'CBronte_Professor', 'CBronte_Professor', 'CBronte_Professor', 'CBronte_Professor', 'CBronte_Professor', 'CBronte_Professor', 'CBronte_Professor', 'CBronte_Villette', 'CBronte_Villette', 'CBronte_Villette', 'CBronte_Villette', 'CBronte_Villette', 'CBronte_Villette', 'CBronte_Villette', 'CBronte_Villette', 'CBronte_Villette', 'CBronte_Villette', 'CBronte_Villette', 'CBronte_Villette', 'CBronte_Villette', 'CBronte_Villette', 'CBronte_Villette', 'CBronte_Villette', 'CBronte_Villette', 'CBronte_Villette', 'CBronte_Villette', 'CBronte_Villette', 'CBronte_Villette', 'CBronte_Villette', 'CBronte_Villette', 'CBronte_Villette', 'CBronte_Villette', 'CBronte_Villette', 'CBronte_Villette', 'CBronte_Villette', 'CBronte_Villette', 'CBronte_Villette', 'CBronte_Villette', 'CBronte_Villette', 'CBronte_Villette', 'CBronte_Villette', 'CBronte_Villette', 'CBronte_Villette', 'CBronte_Villette', 'CBronte_Villette', 'CBronte_Villette', 'CBronte_Villette', 'CBronte_Villette', 'CBronte_Villette', 'CBronte_Villette', 'CBronte_Villette', 'CBronte_Villette', 'CBronte_Villette', 'CBronte_Villette', 'CBronte_Villette', 'CBronte_Villette', 'CBronte_Villette', 'CBronte_Villette', 'CBronte_Villette', 'CBronte_Villette', 'CBronte_Villette', 'CBronte_Villette', 'CBronte_Villette', 'CBronte_Villette', 'CBronte_Villette', 'CBronte_Villette', 'CBronte_Villette', 'CBronte_Villette', 'CBronte_Villette', 'CBronte_Villette', 'CBronte_Villette', 'CBronte_Villette', 'CBronte_Villette', 'CBronte_Villette', 'CBronte_Villette', 'CBronte_Villette', 'CBronte_Villette', 'CBronte_Villette', 'CBronte_Villette', 'CBronte_Villette', 'CBronte_Villette', 'CBronte_Villette', 'CBronte_Villette', 'CBronte_Villette', 'CBronte_Villette', 'CBronte_Villette', 'CBronte_Villette', 'CBronte_Villette', 'CBronte_Villette', 'CBronte_Villette', 'CBronte_Villette', 'CBronte_Villette', 'CBronte_Villette', 'CBronte_Villette', 'CBronte_Villette', 'CBronte_Villette', 'CBronte_Villette', 'CBronte_Villette', 'CBronte_Villette', 'CBronte_Villette', 'CBronte_Villette', 'CBronte_Villette', 'CBronte_Villette', 'CBronte_Villette', 'CBronte_Villette', 'CBronte_Villette', 'CBronte_Villette', 'CBronte_Villette', 'CBronte_Villette', 'CBronte_Villette', 'CBronte_Villette', 'CBronte_Villette', 'CBronte_Villette', 'CBronte_Villette', 'CBronte_Villette', 'CBronte_Villette', 'CBronte_Villette', 'CBronte_Villette', 'CBronte_Villette', 'CBronte_Villette', 'CBronte_Villette', 'CBronte_Villette', 'CBronte_Villette', 'CBronte_Villette', 'CBronte_Villette', 'CBronte_Villette', 'CBronte_Villette', 'CBronte_Villette', 'CBronte_Villette', 'CBronte_Villette', 'CBronte_Villette', 'CBronte_Villette', 'CBronte_Villette', 'CBronte_Villette', 'CBronte_Villette', 'CBronte_Villette', 'CBronte_Villette', 'CBronte_Villette', 'CBronte_Villette', 'CBronte_Villette', 'CBronte_Villette', 'CBronte_Villette', 'CBronte_Villette', 'CBronte_Villette', 'CBronte_Villette', 'CBronte_Villette', 'CBronte_Villette', 'CBronte_Villette', 'CBronte_Villette', 'CBronte_Villette', 'CBronte_Villette', 'CBronte_Villette', 'CBronte_Villette', 'CBronte_Villette', 'CBronte_Villette', 'CBronte_Villette', 'CBronte_Villette', 'CBronte_Villette', 'CBronte_Villette', 'CBronte_Villette', 'CBronte_Villette', 'CBronte_Villette', 'CBronte_Villette', 'CBronte_Villette', 'CBronte_Villette', 'CBronte_Villette', 'CBronte_Villette', 'CBronte_Villette', 'CBronte_Villette', 'CBronte_Villette', 'CBronte_Villette', 'CBronte_Villette', 'CBronte_Villette', 'CBronte_Villette', 'CBronte_Villette', 'CBronte_Villette', 'CBronte_Villette', 'CBronte_Villette', 'CBronte_Villette', 'CBronte_Villette', 'CBronte_Villette', 'CBronte_Villette']\n"
     ]
    }
   ],
   "source": [
    "novel_names = [] \n",
    "\n",
    "for fn in filenames:\n",
    "    basename = os.path.basename(fn)\n",
    "    name, ext = os.path.splitext(basename)\n",
    "    name = name.rstrip('0123456789')\n",
    "    novel_names.append(name)\n",
    "    \n",
    "print(novel_names)"
   ]
  },
  {
   "cell_type": "code",
   "execution_count": 36,
   "metadata": {
    "scrolled": true
   },
   "outputs": [
    {
     "name": "stderr",
     "output_type": "stream",
     "text": [
      "/Users/xiaoweirwang/miniconda3/envs/numlinalg/lib/python3.6/site-packages/ipykernel_launcher.py:12: VisibleDeprecationWarning: boolean index did not match indexed array along dimension 0; dimension is 6 but corresponding boolean dimension is 813\n",
      "  if sys.path[0] == '':\n"
     ]
    },
    {
     "ename": "IndexError",
     "evalue": "index 6 is out of bounds for axis 0 with size 6",
     "output_type": "error",
     "traceback": [
      "\u001b[0;31m---------------------------------------------------------------------------\u001b[0m",
      "\u001b[0;31mIndexError\u001b[0m                                Traceback (most recent call last)",
      "\u001b[0;32m<ipython-input-36-df711afcdfa1>\u001b[0m in \u001b[0;36m<module>\u001b[0;34m()\u001b[0m\n\u001b[1;32m     10\u001b[0m \u001b[0;34m\u001b[0m\u001b[0m\n\u001b[1;32m     11\u001b[0m \u001b[0;32mfor\u001b[0m \u001b[0mi\u001b[0m\u001b[0;34m,\u001b[0m \u001b[0mname\u001b[0m \u001b[0;32min\u001b[0m \u001b[0menumerate\u001b[0m\u001b[0;34m(\u001b[0m\u001b[0msorted\u001b[0m\u001b[0;34m(\u001b[0m\u001b[0mset\u001b[0m\u001b[0;34m(\u001b[0m\u001b[0mnovel_names\u001b[0m\u001b[0;34m)\u001b[0m\u001b[0;34m)\u001b[0m\u001b[0;34m)\u001b[0m\u001b[0;34m:\u001b[0m\u001b[0;34m\u001b[0m\u001b[0m\n\u001b[0;32m---> 12\u001b[0;31m     \u001b[0mdoctopic_grouped\u001b[0m\u001b[0;34m[\u001b[0m\u001b[0mi\u001b[0m\u001b[0;34m,\u001b[0m \u001b[0;34m:\u001b[0m\u001b[0;34m]\u001b[0m \u001b[0;34m=\u001b[0m \u001b[0mnp\u001b[0m\u001b[0;34m.\u001b[0m\u001b[0mmean\u001b[0m\u001b[0;34m(\u001b[0m\u001b[0mdoctopic\u001b[0m\u001b[0;34m[\u001b[0m\u001b[0mnovel_names\u001b[0m \u001b[0;34m==\u001b[0m \u001b[0mname\u001b[0m\u001b[0;34m,\u001b[0m \u001b[0;34m:\u001b[0m\u001b[0;34m]\u001b[0m\u001b[0;34m,\u001b[0m \u001b[0maxis\u001b[0m\u001b[0;34m=\u001b[0m\u001b[0;36m0\u001b[0m\u001b[0;34m)\u001b[0m\u001b[0;34m\u001b[0m\u001b[0m\n\u001b[0m\u001b[1;32m     13\u001b[0m \u001b[0mdoctopic\u001b[0m \u001b[0;34m=\u001b[0m \u001b[0mdoctopic_grouped\u001b[0m\u001b[0;34m\u001b[0m\u001b[0m\n",
      "\u001b[0;31mIndexError\u001b[0m: index 6 is out of bounds for axis 0 with size 6"
     ]
    }
   ],
   "source": [
    "novel_names = np.asarray(novel_names)\n",
    "doctopic_orig = doctopic.copy()\n",
    "num_groups = len(set(novel_names))\n",
    "\n",
    "# print(num_groups)\n",
    "# print(doctopic.copy)\n",
    "doctopic_grouped = np.zeros((num_groups, num_topics))\n",
    "\n",
    "# print(doctopic_grouped)\n",
    "\n",
    "for i, name in enumerate(sorted(set(novel_names))):\n",
    "    doctopic_grouped[i, :] = np.mean(doctopic[novel_names == name, :], axis=0)\n",
    "doctopic = doctopic_grouped"
   ]
  },
  {
   "cell_type": "code",
   "execution_count": 37,
   "metadata": {},
   "outputs": [
    {
     "name": "stdout",
     "output_type": "stream",
     "text": [
      "Top NMF topics in...\n",
      "['Austen_Emma', 'Austen_Pride', 'Austen_Sense', 'CBronte_Jane', 'CBronte_Professor', 'CBronte_Villette']\n",
      "[[ 0.05755906  0.11887997  0.00247698  0.00469084  0.09621843  0.01764644\n",
      "   0.01002718  0.05590122  0.08829873  0.05068729  0.00994222  0.00743351\n",
      "   0.00953926  0.12647984  0.04799156  0.00176084  0.07016166  0.00513766\n",
      "   0.15756422  0.06160307]\n",
      " [ 0.04272063  0.09277906  0.00637409  0.2534414   0.05276023  0.02009465\n",
      "   0.01385527  0.05765918  0.03863951  0.03899996  0.00500804  0.12730546\n",
      "   0.00920268  0.00276022  0.05903786  0.00107397  0.07272351  0.007505\n",
      "   0.00176685  0.09629243]\n",
      " [ 0.0412126   0.03060468  0.2378845   0.0059341   0.09656171  0.02101716\n",
      "   0.0279676   0.00341834  0.03895803  0.08384609  0.00717508  0.01630892\n",
      "   0.0069048   0.00309558  0.05360578  0.00125291  0.08350789  0.17884334\n",
      "   0.00217681  0.05972407]\n",
      " [ 0.04115226  0.08178897  0.00150797  0.00154222  0.04339766  0.21456674\n",
      "   0.09558516  0.07234433  0.05716461  0.06801805  0.02319785  0.00922759\n",
      "   0.03594805  0.00165638  0.07394275  0.00573085  0.11228827  0.00416148\n",
      "   0.00245416  0.05432463]\n",
      " [ 0.06009649  0.04303394  0.00303179  0.00301175  0.0124355   0.18768723\n",
      "   0.00898173  0.00865732  0.00232612  0.05230681  0.01910258  0.01081701\n",
      "   0.30156638  0.00426505  0.08472693  0.03632827  0.08861813  0.01228734\n",
      "   0.00249383  0.05822581]\n",
      " [ 0.05537947  0.00588787  0.00190537  0.00200876  0.02563009  0.14031586\n",
      "   0.00554078  0.00399274  0.02561222  0.05149024  0.13706481  0.00996376\n",
      "   0.09386366  0.00478346  0.1151797   0.14476843  0.10558092  0.01513329\n",
      "   0.00321796  0.0526806 ]]\n",
      "Austen_Emma: 18 13 1\n",
      "Austen_Pride: 3 11 19\n",
      "Austen_Sense: 2 17 4\n",
      "CBronte_Jane: 5 16 6\n",
      "CBronte_Professor: 12 5 16\n",
      "CBronte_Villette: 15 5 10\n"
     ]
    }
   ],
   "source": [
    "\n",
    "novels = sorted(set(novel_names))\n",
    "print(\"Top NMF topics in...\")\n",
    "print(novels)\n",
    "print(doctopic)\n",
    "for i in range(len(doctopic)):\n",
    "    top_topics = np.argsort(doctopic[i,:])[::-1][0:3]\n",
    "    top_topics_str = ' '.join(str(t) for t in top_topics)\n",
    "    print(\"{}: {}\".format(novels[i], top_topics_str))"
   ]
  },
  {
   "cell_type": "code",
   "execution_count": 39,
   "metadata": {},
   "outputs": [
    {
     "name": "stdout",
     "output_type": "stream",
     "text": [
      "Topic 0: know think like man good say does said oh quite sure yes thing believe way\n",
      "Topic 1: mr knightley rochester elton man did think evening business away wickham gentleman time dear wife\n",
      "Topic 2: marianne elinor willoughby sister jennings mother colonel dashwood mrs brandon time moment heart little barton\n",
      "Topic 3: elizabeth darcy bingley mr sister bennet wickham miss soon lydia friend room gardiner netherfield little\n",
      "Topic 4: mrs did quite elton room come good thing said weston jennings came day party palmer\n",
      "Topic 5: like room door night long saw thought looked house time eyes day face rochester light\n",
      "Topic 6: sir rochester yes shall adele don little good john said ll mr say eyre room\n",
      "Topic 7: jane fairfax love little think oh heard heart mother soon make feel voice campbell bates\n",
      "Topic 8: miss woodhouse bates quite sure young fairfax oh lady say room smith temple bessie great\n",
      "Topic 9: john man good father house mother years young dashwood life old family wife home woman\n",
      "Topic 10: little graham bretton papa dr lucy like polly home child paulina don think thought eyes\n",
      "Topic 11: lady collins elizabeth catherine bennet charlotte family mr young make mrs ladyship ladies daughter rosings\n",
      "Topic 12: monsieur little english mdlle frances mademoiselle vous est said pelet hand pupils eyes reuter henri\n",
      "Topic 13: harriet emma elton mr friend woodhouse knightley martin think good thing little smith thought mind\n",
      "Topic 14: did know heart felt look thought told knew night believe time day saw feelings think\n",
      "Topic 15: madame beck dr knew little door day paul old night good english pupils thought hand\n",
      "Topic 16: said come shall know tell think john cried looked did replied let asked answer door\n",
      "Topic 17: edward elinor lucy ferrars dashwood sister think mother say time sure brother soon thing make\n",
      "Topic 18: emma weston mr knightley frank churchill thing little father woodhouse great fairfax time hartfield body\n",
      "Topic 19: shall letter time dear day soon read come know say long hope away sure till\n"
     ]
    }
   ],
   "source": [
    "for t in range(len(topic_words)):\n",
    "    print(\"Topic {}: {}\".format(t, ' '.join(topic_words[t][:15])))"
   ]
  },
  {
   "cell_type": "code",
   "execution_count": null,
   "metadata": {
    "collapsed": true
   },
   "outputs": [],
   "source": []
  },
  {
   "cell_type": "code",
   "execution_count": null,
   "metadata": {
    "collapsed": true
   },
   "outputs": [],
   "source": []
  },
  {
   "cell_type": "code",
   "execution_count": null,
   "metadata": {
    "collapsed": true
   },
   "outputs": [],
   "source": []
  }
 ],
 "metadata": {
  "kernelspec": {
   "display_name": "Python 3",
   "language": "python",
   "name": "python3"
  },
  "language_info": {
   "codemirror_mode": {
    "name": "ipython",
    "version": 3
   },
   "file_extension": ".py",
   "mimetype": "text/x-python",
   "name": "python",
   "nbconvert_exporter": "python",
   "pygments_lexer": "ipython3",
   "version": "3.6.1"
  }
 },
 "nbformat": 4,
 "nbformat_minor": 2
}
